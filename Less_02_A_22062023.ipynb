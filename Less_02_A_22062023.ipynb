{
  "cells": [
    {
      "cell_type": "markdown",
      "metadata": {
        "id": "view-in-github",
        "colab_type": "text"
      },
      "source": [
        "<a href=\"https://colab.research.google.com/github/MaximTislenko/GeekBrains/blob/main/Less_02_A_22062023.ipynb\" target=\"_parent\"><img src=\"https://colab.research.google.com/assets/colab-badge.svg\" alt=\"Open In Colab\"/></a>"
      ]
    },
    {
      "cell_type": "markdown",
      "source": [
        "#Лекция №2"
      ],
      "metadata": {
        "id": "WZnd2o7aEimI"
      }
    },
    {
      "cell_type": "code",
      "source": [
        "%lsmagic"
      ],
      "metadata": {
        "id": "bSQaHOJ9Emxw",
        "outputId": "e5963252-ac70-46e0-b002-f6e99a982faa",
        "colab": {
          "base_uri": "https://localhost:8080/",
          "height": 288
        }
      },
      "execution_count": null,
      "outputs": [
        {
          "output_type": "execute_result",
          "data": {
            "text/plain": [
              "Available line magics:\n",
              "%alias  %alias_magic  %autoawait  %autocall  %automagic  %autosave  %bookmark  %cat  %cd  %clear  %colors  %conda  %config  %connect_info  %cp  %debug  %dhist  %dirs  %doctest_mode  %ed  %edit  %env  %gui  %hist  %history  %killbgscripts  %ldir  %less  %lf  %lk  %ll  %load  %load_ext  %loadpy  %logoff  %logon  %logstart  %logstate  %logstop  %ls  %lsmagic  %lx  %macro  %magic  %man  %matplotlib  %mkdir  %more  %mv  %notebook  %page  %pastebin  %pdb  %pdef  %pdoc  %pfile  %pinfo  %pinfo2  %pip  %popd  %pprint  %precision  %prun  %psearch  %psource  %pushd  %pwd  %pycat  %pylab  %qtconsole  %quickref  %recall  %rehashx  %reload_ext  %rep  %rerun  %reset  %reset_selective  %rm  %rmdir  %run  %save  %sc  %set_env  %shell  %store  %sx  %system  %tb  %tensorflow_version  %time  %timeit  %unalias  %unload_ext  %who  %who_ls  %whos  %xdel  %xmode\n",
              "\n",
              "Available cell magics:\n",
              "%%!  %%HTML  %%SVG  %%bash  %%bigquery  %%capture  %%debug  %%file  %%html  %%javascript  %%js  %%latex  %%markdown  %%perl  %%prun  %%pypy  %%python  %%python2  %%python3  %%ruby  %%script  %%sh  %%shell  %%svg  %%sx  %%system  %%time  %%timeit  %%writefile\n",
              "\n",
              "Automagic is ON, % prefix IS NOT needed for line magics."
            ],
            "application/json": {
              "line": {
                "automagic": "AutoMagics",
                "autocall": "AutoMagics",
                "alias_magic": "BasicMagics",
                "lsmagic": "BasicMagics",
                "magic": "BasicMagics",
                "page": "BasicMagics",
                "pprint": "BasicMagics",
                "colors": "BasicMagics",
                "xmode": "BasicMagics",
                "quickref": "BasicMagics",
                "doctest_mode": "BasicMagics",
                "gui": "BasicMagics",
                "precision": "BasicMagics",
                "notebook": "BasicMagics",
                "save": "CodeMagics",
                "pastebin": "CodeMagics",
                "loadpy": "CodeMagics",
                "load": "CodeMagics",
                "edit": "KernelMagics",
                "config": "ConfigMagics",
                "prun": "ExecutionMagics",
                "pdb": "ExecutionMagics",
                "debug": "ExecutionMagics",
                "tb": "ExecutionMagics",
                "run": "ExecutionMagics",
                "timeit": "ExecutionMagics",
                "time": "ExecutionMagics",
                "macro": "ExecutionMagics",
                "load_ext": "ExtensionMagics",
                "unload_ext": "ExtensionMagics",
                "reload_ext": "ExtensionMagics",
                "history": "HistoryMagics",
                "recall": "HistoryMagics",
                "rerun": "HistoryMagics",
                "logstart": "LoggingMagics",
                "logstop": "LoggingMagics",
                "logoff": "LoggingMagics",
                "logon": "LoggingMagics",
                "logstate": "LoggingMagics",
                "pinfo": "NamespaceMagics",
                "pinfo2": "NamespaceMagics",
                "pdef": "NamespaceMagics",
                "pdoc": "NamespaceMagics",
                "psource": "NamespaceMagics",
                "pfile": "NamespaceMagics",
                "psearch": "NamespaceMagics",
                "who_ls": "NamespaceMagics",
                "who": "NamespaceMagics",
                "whos": "NamespaceMagics",
                "reset": "NamespaceMagics",
                "reset_selective": "NamespaceMagics",
                "xdel": "NamespaceMagics",
                "alias": "OSMagics",
                "unalias": "OSMagics",
                "rehashx": "OSMagics",
                "pwd": "OSMagics",
                "cd": "OSMagics",
                "env": "OSMagics",
                "set_env": "OSMagics",
                "pushd": "OSMagics",
                "popd": "OSMagics",
                "dirs": "OSMagics",
                "dhist": "OSMagics",
                "sc": "OSMagics",
                "sx": "OSMagics",
                "system": "OSMagics",
                "bookmark": "OSMagics",
                "pycat": "OSMagics",
                "pip": "Other",
                "conda": "PackagingMagics",
                "matplotlib": "PylabMagics",
                "pylab": "PylabMagics",
                "killbgscripts": "ScriptMagics",
                "autoawait": "AsyncMagics",
                "ed": "Other",
                "hist": "Other",
                "rep": "Other",
                "clear": "KernelMagics",
                "less": "KernelMagics",
                "more": "KernelMagics",
                "man": "KernelMagics",
                "connect_info": "KernelMagics",
                "qtconsole": "KernelMagics",
                "autosave": "KernelMagics",
                "mkdir": "Other",
                "rmdir": "Other",
                "mv": "Other",
                "rm": "Other",
                "cp": "Other",
                "cat": "Other",
                "ls": "Other",
                "ll": "Other",
                "lf": "Other",
                "lk": "Other",
                "ldir": "Other",
                "lx": "Other",
                "store": "StoreMagics",
                "shell": "Other",
                "tensorflow_version": "Other"
              },
              "cell": {
                "js": "DisplayMagics",
                "javascript": "DisplayMagics",
                "latex": "DisplayMagics",
                "svg": "DisplayMagics",
                "html": "DisplayMagics",
                "markdown": "DisplayMagics",
                "prun": "ExecutionMagics",
                "debug": "ExecutionMagics",
                "timeit": "ExecutionMagics",
                "time": "ExecutionMagics",
                "capture": "ExecutionMagics",
                "sx": "OSMagics",
                "system": "OSMagics",
                "!": "OSMagics",
                "writefile": "OSMagics",
                "script": "ScriptMagics",
                "sh": "Other",
                "bash": "Other",
                "perl": "Other",
                "ruby": "Other",
                "python": "Other",
                "python2": "Other",
                "python3": "Other",
                "pypy": "Other",
                "SVG": "Other",
                "HTML": "Other",
                "file": "Other",
                "bigquery": "Other",
                "shell": "Other"
              }
            }
          },
          "metadata": {},
          "execution_count": 51
        }
      ]
    },
    {
      "cell_type": "markdown",
      "source": [
        "##Важно\n",
        "***Для пользователей Jupyter: Magics специфичны для ядра IPython и предоставляются им. Решение о том, доступны ли Magics в ядре, принимается разработчиком ядра отдельно для каждого ядра. Для правильной работы Magics должен использовать элемент синтаксиса, недопустимый в базовом языке. Например, ядро IPython использует синтаксический элемент % для Magics, поскольку % не является допустимым унарным оператором в Python. Однако % может иметь значение на других языках.***"
      ],
      "metadata": {
        "id": "7Z0c5jyeY3-D"
      }
    },
    {
      "cell_type": "markdown",
      "source": [
        "##Магия линий\n",
        "####%alias - Определите псевдоним для системной команды. *%alias alias_name cmd* определяет *alias_name* как псевдоним для *cmd* . Затем при вводе «alias_name params» будет выполнена системная команда «cmd params» (из базовой операционной системы). Псевдонимы имеют более низкий приоритет, чем магические функции и обычные переменные Python, поэтому, если «foo» является одновременно переменной Python и псевдонимом, псевдоним не может быть выполнен до тех пор, пока «del foo» не удалит переменную Python. Вы можете использовать спецификатор %l в определении псевдонима для представления всей строки при вызове псевдонима. Например:\n",
        "* In [2]: alias bracket echo \"Input in brackets: <%l>\"\n",
        "* In [3]: bracket hello world\n",
        "* Input in brackets: <hello world>\n",
        "\n",
        "####Вы также можете определить псевдонимы с параметрами, используя спецификаторы %s (по одному на параметр):\n",
        "\n",
        "* In [1]: alias parts echo first %s second %s\n",
        "* In [2]: %parts A B\n",
        "* first A second B\n",
        "* In [3]: %parts A\n",
        "* Incorrect number of arguments: 2 expected.\n",
        "* parts is an alias to: 'echo first %s second %s'\n",
        "\n"
      ],
      "metadata": {
        "id": "sM3qyXXpYkri"
      }
    },
    {
      "cell_type": "markdown",
      "source": [
        "###Available line magics:\n",
        "%alias  %alias_magic  %autoawait  %autocall  %automagic  %autosave  %bookmark  %cat  %cd  %clear  %colors  %conda  %config  %connect_info  %cp  %debug  %dhist  %dirs  %doctest_mode  %ed  %edit  %env  %gui  %hist  %history  %killbgscripts  %ldir  %less  %lf  %lk  %ll  %load  %load_ext  %loadpy  %logoff  %logon  %logstart  %logstate  %logstop  %ls  %lsmagic  %lx  %macro  %magic  %man  %matplotlib  %mkdir  %more  %mv  %notebook  %page  %pastebin  %pdb  %pdef  %pdoc  %pfile  %pinfo  %pinfo2  %pip  %popd  %pprint  %precision  %prun  %psearch  %psource  %pushd  %pwd  %pycat  %pylab  %qtconsole  %quickref  %recall  %rehashx  %reload_ext  %rep  %rerun  %reset  %reset_selective  %rm  %rmdir  %run  %save  %sc  %set_env  %shell  %store  %sx  %system  %tb  %tensorflow_version  %time  %timeit  %unalias  %unload_ext  %who  %who_ls  %whos  %xdel  %xmode\n",
        "\n",
        "###Available cell magics:\n",
        "%%!  %%HTML  %%SVG  %%bash  %%bigquery  %%capture  %%debug  %%file  %%html  %%javascript  %%js  %%latex  %%markdown  %%perl  %%prun  %%pypy  %%python  %%python2  %%python3  %%ruby  %%script  %%sh  %%shell  %%svg  %%sx  %%system  %%time  %%timeit  %%writefile\n",
        "\n",
        "Автомагия включена, префикс % НЕ нужен для магии линий."
      ],
      "metadata": {
        "id": "qdlGq64cSgOZ"
      }
    },
    {
      "cell_type": "markdown",
      "source": [
        "##Примеры\n",
        "* *%run имя_скрипта.py* - выполнение скрипта Python, результат будет внутри колаба\n",
        "* *%load имя_скрипта.py* - сама команда законектится, а код окажется в ячейке\n",
        "* *%pycat имя_скрипта.py* - код окажется в нижней части страницы\n",
        "* *%%time* - за какое время выполнились команды содержащиеся в ячейке\n",
        "* *%%timeit* - время для быстрых команд"
      ],
      "metadata": {
        "id": "YNzxpXM1cuB1"
      }
    },
    {
      "cell_type": "code",
      "source": [
        "%%time\n",
        "for i in range(100):\n",
        "  for y in range(100):\n",
        "    for r in range(100):\n",
        "      pass"
      ],
      "metadata": {
        "id": "4dQ-MmFGig4W",
        "outputId": "3c9cc50a-044f-4de4-c733-57bb7d15cd43",
        "colab": {
          "base_uri": "https://localhost:8080/"
        }
      },
      "execution_count": null,
      "outputs": [
        {
          "output_type": "stream",
          "name": "stdout",
          "text": [
            "CPU times: user 51.9 ms, sys: 0 ns, total: 51.9 ms\n",
            "Wall time: 70 ms\n"
          ]
        }
      ]
    },
    {
      "cell_type": "code",
      "source": [
        "%%timeit\n",
        "2**1000"
      ],
      "metadata": {
        "id": "CoyFiio0nBCI",
        "outputId": "72cb0818-b49b-494d-8a66-00ee928a9114",
        "colab": {
          "base_uri": "https://localhost:8080/"
        }
      },
      "execution_count": null,
      "outputs": [
        {
          "output_type": "stream",
          "name": "stdout",
          "text": [
            "827 ns ± 10.5 ns per loop (mean ± std. dev. of 7 runs, 1000000 loops each)\n"
          ]
        }
      ]
    },
    {
      "cell_type": "markdown",
      "source": [
        "##Запуск команд операционной системы"
      ],
      "metadata": {
        "id": "HRmThXs_yBGe"
      }
    },
    {
      "cell_type": "code",
      "source": [
        "!help dir -p"
      ],
      "metadata": {
        "id": "Oh-qBxVAxgV9",
        "outputId": "82c1739d-5651-404c-ee18-810521ec0161",
        "colab": {
          "base_uri": "https://localhost:8080/"
        }
      },
      "execution_count": null,
      "outputs": [
        {
          "output_type": "stream",
          "name": "stdout",
          "text": [
            "dirs: dirs [-clpv] [+N] [-N]\n",
            "    Display directory stack.\n",
            "    \n",
            "    Display the list of currently remembered directories.  Directories\n",
            "    find their way onto the list with the `pushd' command; you can get\n",
            "    back up through the list with the `popd' command.\n",
            "    \n",
            "    Options:\n",
            "      -c\tclear the directory stack by deleting all of the elements\n",
            "      -l\tdo not print tilde-prefixed versions of directories relative\n",
            "    \t\tto your home directory\n",
            "      -p\tprint the directory stack with one entry per line\n",
            "      -v\tprint the directory stack with one entry per line prefixed\n",
            "    \t\twith its position in the stack\n",
            "    \n",
            "    Arguments:\n",
            "      +N\tDisplays the Nth entry counting from the left of the list\n",
            "    \t\tshown by dirs when invoked without options, starting with\n",
            "    \t\tzero.\n",
            "    \n",
            "      -N\tDisplays the Nth entry counting from the right of the list\n",
            "    \t\tshown by dirs when invoked without options, starting with\n",
            "    \t\tzero.\n",
            "    \n",
            "    Exit Status:\n",
            "    Returns success unless an invalid option is supplied or an error occurs.\n"
          ]
        }
      ]
    },
    {
      "cell_type": "code",
      "source": [
        "!dir sample_data/ -p"
      ],
      "metadata": {
        "id": "KnOlrb4F0RP1",
        "outputId": "80d70234-8728-4268-e27c-83c8758f5335",
        "colab": {
          "base_uri": "https://localhost:8080/"
        }
      },
      "execution_count": null,
      "outputs": [
        {
          "output_type": "stream",
          "name": "stdout",
          "text": [
            "anscombe.json\t\t      mnist_test.csv\n",
            "california_housing_test.csv   mnist_train_small.csv\n",
            "california_housing_train.csv  README.md\n"
          ]
        }
      ]
    },
    {
      "cell_type": "markdown",
      "source": [
        "#Numpy"
      ],
      "metadata": {
        "id": "3TRnW-pg1CT3"
      }
    },
    {
      "cell_type": "code",
      "source": [
        "import numpy as np"
      ],
      "metadata": {
        "id": "kUKRBV0FBpoC"
      },
      "execution_count": null,
      "outputs": []
    },
    {
      "cell_type": "markdown",
      "source": [
        "##Создание многомерных массивов Numpy"
      ],
      "metadata": {
        "id": "UImWmAvi1G3t"
      }
    },
    {
      "cell_type": "code",
      "source": [
        "a = [i for i in range(10, 40, 2)] # Это список\n",
        "print(a)"
      ],
      "metadata": {
        "id": "53ZEnxhi1kQv",
        "outputId": "9727ac20-a1ae-4c42-995b-0a1a786004c7",
        "colab": {
          "base_uri": "https://localhost:8080/"
        }
      },
      "execution_count": null,
      "outputs": [
        {
          "output_type": "stream",
          "name": "stdout",
          "text": [
            "[10, 12, 14, 16, 18, 20, 22, 24, 26, 28, 30, 32, 34, 36, 38]\n"
          ]
        }
      ]
    },
    {
      "cell_type": "code",
      "source": [
        "b = np.array(a)\n",
        "b"
      ],
      "metadata": {
        "id": "EA4jZNkjCtdq",
        "outputId": "2eecff50-6bde-4d70-acbc-b105f14c48a9",
        "colab": {
          "base_uri": "https://localhost:8080/"
        }
      },
      "execution_count": null,
      "outputs": [
        {
          "output_type": "execute_result",
          "data": {
            "text/plain": [
              "array([10, 12, 14, 16, 18, 20, 22, 24, 26, 28, 30, 32, 34, 36, 38])"
            ]
          },
          "metadata": {},
          "execution_count": 58
        }
      ]
    },
    {
      "cell_type": "code",
      "source": [
        "type(b)"
      ],
      "metadata": {
        "id": "QXlPmJekDGqp",
        "outputId": "a0e8865f-6794-4b1c-ad7d-cf06faa98543",
        "colab": {
          "base_uri": "https://localhost:8080/"
        }
      },
      "execution_count": null,
      "outputs": [
        {
          "output_type": "execute_result",
          "data": {
            "text/plain": [
              "numpy.ndarray"
            ]
          },
          "metadata": {},
          "execution_count": 59
        }
      ]
    },
    {
      "cell_type": "code",
      "source": [
        "b = np.array(a, dtype=float )\n",
        "b"
      ],
      "metadata": {
        "id": "OcHlWnZFDWRq",
        "outputId": "3841dc8e-7890-4fb5-96de-6cb5d579b523",
        "colab": {
          "base_uri": "https://localhost:8080/"
        }
      },
      "execution_count": null,
      "outputs": [
        {
          "output_type": "execute_result",
          "data": {
            "text/plain": [
              "array([10., 12., 14., 16., 18., 20., 22., 24., 26., 28., 30., 32., 34.,\n",
              "       36., 38.])"
            ]
          },
          "metadata": {},
          "execution_count": 60
        }
      ]
    },
    {
      "cell_type": "code",
      "source": [
        "b = np.array(a, dtype=int)\n",
        "b"
      ],
      "metadata": {
        "id": "2lK3hpTzDn5a",
        "outputId": "55919b40-2833-4a50-9105-12aa6ebd0a7e",
        "colab": {
          "base_uri": "https://localhost:8080/"
        }
      },
      "execution_count": null,
      "outputs": [
        {
          "output_type": "execute_result",
          "data": {
            "text/plain": [
              "array([10, 12, 14, 16, 18, 20, 22, 24, 26, 28, 30, 32, 34, 36, 38])"
            ]
          },
          "metadata": {},
          "execution_count": 61
        }
      ]
    },
    {
      "cell_type": "code",
      "source": [
        "b = np.array(a, dtype=str)\n",
        "b"
      ],
      "metadata": {
        "id": "7LBqf34nD-ZC",
        "outputId": "a1d26dd6-866f-43c3-b541-672d24245f19",
        "colab": {
          "base_uri": "https://localhost:8080/"
        }
      },
      "execution_count": null,
      "outputs": [
        {
          "output_type": "execute_result",
          "data": {
            "text/plain": [
              "array(['10', '12', '14', '16', '18', '20', '22', '24', '26', '28', '30',\n",
              "       '32', '34', '36', '38'], dtype='<U2')"
            ]
          },
          "metadata": {},
          "execution_count": 62
        }
      ]
    },
    {
      "cell_type": "markdown",
      "source": [
        "###Если один из элементов массива имеет отличный тип данных, то остальные будутут такимиже без указания."
      ],
      "metadata": {
        "id": "TYQsbD5qhAUQ"
      }
    },
    {
      "cell_type": "code",
      "source": [
        "a = [1, 2, 3, 'abc']\n",
        "b = np.array(a)\n",
        "b"
      ],
      "metadata": {
        "id": "Rw7bD-wFhTul",
        "outputId": "24fbcba0-df5b-4445-a597-fcffdd10a603",
        "colab": {
          "base_uri": "https://localhost:8080/"
        }
      },
      "execution_count": null,
      "outputs": [
        {
          "output_type": "execute_result",
          "data": {
            "text/plain": [
              "array(['1', '2', '3', 'abc'], dtype='<U21')"
            ]
          },
          "metadata": {},
          "execution_count": 63
        }
      ]
    },
    {
      "cell_type": "code",
      "source": [
        "a = [1, 2, 3, 'abc']\n",
        "b = np.array(a, dtype=int)\n",
        "b"
      ],
      "metadata": {
        "id": "OBuYH0mght6a",
        "outputId": "18280f8d-e5f1-44cb-9480-e71e45e07ced",
        "colab": {
          "base_uri": "https://localhost:8080/",
          "height": 206
        }
      },
      "execution_count": null,
      "outputs": [
        {
          "output_type": "error",
          "ename": "ValueError",
          "evalue": "ignored",
          "traceback": [
            "\u001b[0;31m---------------------------------------------------------------------------\u001b[0m",
            "\u001b[0;31mValueError\u001b[0m                                Traceback (most recent call last)",
            "\u001b[0;32m<ipython-input-64-08bcc73b836f>\u001b[0m in \u001b[0;36m<cell line: 2>\u001b[0;34m()\u001b[0m\n\u001b[1;32m      1\u001b[0m \u001b[0ma\u001b[0m \u001b[0;34m=\u001b[0m \u001b[0;34m[\u001b[0m\u001b[0;36m1\u001b[0m\u001b[0;34m,\u001b[0m \u001b[0;36m2\u001b[0m\u001b[0;34m,\u001b[0m \u001b[0;36m3\u001b[0m\u001b[0;34m,\u001b[0m \u001b[0;34m'abc'\u001b[0m\u001b[0;34m]\u001b[0m\u001b[0;34m\u001b[0m\u001b[0;34m\u001b[0m\u001b[0m\n\u001b[0;32m----> 2\u001b[0;31m \u001b[0mb\u001b[0m \u001b[0;34m=\u001b[0m \u001b[0mnp\u001b[0m\u001b[0;34m.\u001b[0m\u001b[0marray\u001b[0m\u001b[0;34m(\u001b[0m\u001b[0ma\u001b[0m\u001b[0;34m,\u001b[0m \u001b[0mdtype\u001b[0m\u001b[0;34m=\u001b[0m\u001b[0mint\u001b[0m\u001b[0;34m)\u001b[0m\u001b[0;34m\u001b[0m\u001b[0;34m\u001b[0m\u001b[0m\n\u001b[0m\u001b[1;32m      3\u001b[0m \u001b[0mb\u001b[0m\u001b[0;34m\u001b[0m\u001b[0;34m\u001b[0m\u001b[0m\n",
            "\u001b[0;31mValueError\u001b[0m: invalid literal for int() with base 10: 'abc'"
          ]
        }
      ]
    },
    {
      "cell_type": "code",
      "source": [
        "a = [1, 2, 3, 4.125]\n",
        "b= np.array(a)\n",
        "b"
      ],
      "metadata": {
        "colab": {
          "base_uri": "https://localhost:8080/"
        },
        "id": "YKi_T4mFnr8o",
        "outputId": "eaf8962e-04a3-48e9-ad99-ab256ca83e1f"
      },
      "execution_count": null,
      "outputs": [
        {
          "output_type": "execute_result",
          "data": {
            "text/plain": [
              "array([1.   , 2.   , 3.   , 4.125])"
            ]
          },
          "metadata": {},
          "execution_count": 65
        }
      ]
    },
    {
      "cell_type": "code",
      "source": [
        "b.dtype"
      ],
      "metadata": {
        "colab": {
          "base_uri": "https://localhost:8080/"
        },
        "id": "CroV1XVbn6jo",
        "outputId": "f35971bf-66d3-465d-cedf-70f91a0490f5"
      },
      "execution_count": null,
      "outputs": [
        {
          "output_type": "execute_result",
          "data": {
            "text/plain": [
              "dtype('float64')"
            ]
          },
          "metadata": {},
          "execution_count": 66
        }
      ]
    },
    {
      "cell_type": "markdown",
      "source": [
        "###Получаем элементы массива"
      ],
      "metadata": {
        "id": "N3guOXeqoTW_"
      }
    },
    {
      "cell_type": "code",
      "source": [
        "b[0]"
      ],
      "metadata": {
        "colab": {
          "base_uri": "https://localhost:8080/"
        },
        "id": "JH4Dmf61obW-",
        "outputId": "d5060162-73c1-425c-995d-d46793993d74"
      },
      "execution_count": null,
      "outputs": [
        {
          "output_type": "execute_result",
          "data": {
            "text/plain": [
              "1.0"
            ]
          },
          "metadata": {},
          "execution_count": 67
        }
      ]
    },
    {
      "cell_type": "code",
      "source": [
        "b[3]"
      ],
      "metadata": {
        "colab": {
          "base_uri": "https://localhost:8080/"
        },
        "id": "TZb-UPayofNn",
        "outputId": "ec2d0ad3-44e1-469c-92d5-4e15a6e1b682"
      },
      "execution_count": null,
      "outputs": [
        {
          "output_type": "execute_result",
          "data": {
            "text/plain": [
              "4.125"
            ]
          },
          "metadata": {},
          "execution_count": 68
        }
      ]
    },
    {
      "cell_type": "code",
      "source": [
        "b[:2]"
      ],
      "metadata": {
        "colab": {
          "base_uri": "https://localhost:8080/"
        },
        "id": "s7y_W2NdoknW",
        "outputId": "52e52e1e-21a1-4384-e663-7141e5c64f2f"
      },
      "execution_count": null,
      "outputs": [
        {
          "output_type": "execute_result",
          "data": {
            "text/plain": [
              "array([1., 2.])"
            ]
          },
          "metadata": {},
          "execution_count": 71
        }
      ]
    },
    {
      "cell_type": "code",
      "source": [
        "b[-1]"
      ],
      "metadata": {
        "colab": {
          "base_uri": "https://localhost:8080/"
        },
        "id": "PVUlLgJkoq1h",
        "outputId": "708591ab-fbe1-422c-8031-68f6d1ae05b6"
      },
      "execution_count": null,
      "outputs": [
        {
          "output_type": "execute_result",
          "data": {
            "text/plain": [
              "4.125"
            ]
          },
          "metadata": {},
          "execution_count": 72
        }
      ]
    },
    {
      "cell_type": "markdown",
      "source": [
        "###Размерность массива"
      ],
      "metadata": {
        "id": "h7ikr6_ko-Ch"
      }
    },
    {
      "cell_type": "code",
      "source": [
        "b.ndim"
      ],
      "metadata": {
        "colab": {
          "base_uri": "https://localhost:8080/"
        },
        "id": "4_V5t4GFpDqf",
        "outputId": "8dd7898f-df65-4764-9554-bc1afd4bfaea"
      },
      "execution_count": null,
      "outputs": [
        {
          "output_type": "execute_result",
          "data": {
            "text/plain": [
              "1"
            ]
          },
          "metadata": {},
          "execution_count": 73
        }
      ]
    },
    {
      "cell_type": "code",
      "source": [
        "type(b.ndim)"
      ],
      "metadata": {
        "colab": {
          "base_uri": "https://localhost:8080/"
        },
        "id": "uCGkva5bpVix",
        "outputId": "e0b5f0d5-6438-485f-9f5f-974786ab3777"
      },
      "execution_count": null,
      "outputs": [
        {
          "output_type": "execute_result",
          "data": {
            "text/plain": [
              "int"
            ]
          },
          "metadata": {},
          "execution_count": 74
        }
      ]
    },
    {
      "cell_type": "code",
      "source": [
        "b.shape"
      ],
      "metadata": {
        "colab": {
          "base_uri": "https://localhost:8080/"
        },
        "id": "f0dGgwsxpIJG",
        "outputId": "99d56047-4581-4a7a-a49b-b52571cc64ac"
      },
      "execution_count": null,
      "outputs": [
        {
          "output_type": "execute_result",
          "data": {
            "text/plain": [
              "(4,)"
            ]
          },
          "metadata": {},
          "execution_count": 75
        }
      ]
    },
    {
      "cell_type": "code",
      "source": [
        "type(b.shape)"
      ],
      "metadata": {
        "colab": {
          "base_uri": "https://localhost:8080/"
        },
        "id": "AsfNWlzjpbwI",
        "outputId": "154bdac0-4d46-45ba-db6e-a0e9b6dc9300"
      },
      "execution_count": null,
      "outputs": [
        {
          "output_type": "execute_result",
          "data": {
            "text/plain": [
              "tuple"
            ]
          },
          "metadata": {},
          "execution_count": 76
        }
      ]
    },
    {
      "cell_type": "code",
      "source": [
        "b.size #Общее количество элементов"
      ],
      "metadata": {
        "colab": {
          "base_uri": "https://localhost:8080/"
        },
        "id": "8f5pQ2kApNMW",
        "outputId": "de9d9cee-d40d-49fa-883a-b47e35f47ced"
      },
      "execution_count": null,
      "outputs": [
        {
          "output_type": "execute_result",
          "data": {
            "text/plain": [
              "4"
            ]
          },
          "metadata": {},
          "execution_count": 77
        }
      ]
    },
    {
      "cell_type": "code",
      "source": [
        "type(b.size)"
      ],
      "metadata": {
        "colab": {
          "base_uri": "https://localhost:8080/"
        },
        "id": "u6Fv1A_vpnrW",
        "outputId": "35700ae5-df91-41b3-9c3f-ca9fec211525"
      },
      "execution_count": null,
      "outputs": [
        {
          "output_type": "execute_result",
          "data": {
            "text/plain": [
              "int"
            ]
          },
          "metadata": {},
          "execution_count": 78
        }
      ]
    },
    {
      "cell_type": "markdown",
      "source": [
        "###Двух-мерный массив (2d array)"
      ],
      "metadata": {
        "id": "Ogcmy4OXqTzJ"
      }
    },
    {
      "cell_type": "code",
      "source": [
        "b = np.array([[0,1,2,3,4,5,6,7,8,9],\n",
        "             [10,11,12,13,14,15,16,17,18,19],\n",
        "             [20,21,22,23,24,25,26,27,28,29]])\n",
        "b"
      ],
      "metadata": {
        "colab": {
          "base_uri": "https://localhost:8080/"
        },
        "id": "2WIXKicsqSzO",
        "outputId": "895804bb-c7c5-46e9-f86a-cd386ea0e92c"
      },
      "execution_count": null,
      "outputs": [
        {
          "output_type": "execute_result",
          "data": {
            "text/plain": [
              "array([[ 0,  1,  2,  3,  4,  5,  6,  7,  8,  9],\n",
              "       [10, 11, 12, 13, 14, 15, 16, 17, 18, 19],\n",
              "       [20, 21, 22, 23, 24, 25, 26, 27, 28, 29]])"
            ]
          },
          "metadata": {},
          "execution_count": 91
        }
      ]
    },
    {
      "cell_type": "code",
      "source": [
        "b.shape # 3-строки и 10-колонок"
      ],
      "metadata": {
        "colab": {
          "base_uri": "https://localhost:8080/"
        },
        "id": "uRRUVQBrrL2W",
        "outputId": "1ff2f4d1-c655-4685-a428-c65c276ff447"
      },
      "execution_count": null,
      "outputs": [
        {
          "output_type": "execute_result",
          "data": {
            "text/plain": [
              "(3, 10)"
            ]
          },
          "metadata": {},
          "execution_count": 92
        }
      ]
    },
    {
      "cell_type": "code",
      "source": [
        "b.size #общее количество элементов"
      ],
      "metadata": {
        "colab": {
          "base_uri": "https://localhost:8080/"
        },
        "id": "IMY4nhi6rIH3",
        "outputId": "77325abc-845d-4ec5-d17a-28825aab220b"
      },
      "execution_count": null,
      "outputs": [
        {
          "output_type": "execute_result",
          "data": {
            "text/plain": [
              "30"
            ]
          },
          "metadata": {},
          "execution_count": 93
        }
      ]
    },
    {
      "cell_type": "markdown",
      "source": [
        "##Доступ к элементам массива"
      ],
      "metadata": {
        "id": "2LaaPvgr_Z2K"
      }
    },
    {
      "cell_type": "code",
      "source": [
        "b[1][1]"
      ],
      "metadata": {
        "colab": {
          "base_uri": "https://localhost:8080/"
        },
        "id": "ytaZO2iRrxkO",
        "outputId": "774d9351-bf1c-4653-fa7e-e883c3293aec"
      },
      "execution_count": null,
      "outputs": [
        {
          "output_type": "execute_result",
          "data": {
            "text/plain": [
              "11"
            ]
          },
          "metadata": {},
          "execution_count": 95
        }
      ]
    },
    {
      "cell_type": "markdown",
      "source": [
        "###Можно через запятую"
      ],
      "metadata": {
        "id": "RVSq99jG02g9"
      }
    },
    {
      "cell_type": "code",
      "source": [
        "b[1, 1]"
      ],
      "metadata": {
        "colab": {
          "base_uri": "https://localhost:8080/"
        },
        "id": "nYG-392C078k",
        "outputId": "e8b6a30d-12dc-4a33-9417-8306705b5f8d"
      },
      "execution_count": null,
      "outputs": [
        {
          "output_type": "execute_result",
          "data": {
            "text/plain": [
              "11"
            ]
          },
          "metadata": {},
          "execution_count": 96
        }
      ]
    },
    {
      "cell_type": "code",
      "source": [
        "b[0:2, 2:7] #Срезы"
      ],
      "metadata": {
        "colab": {
          "base_uri": "https://localhost:8080/"
        },
        "id": "Yw0-NeBd1Ayk",
        "outputId": "45e388cb-7908-4e1b-85f6-9144858a6a38"
      },
      "execution_count": null,
      "outputs": [
        {
          "output_type": "execute_result",
          "data": {
            "text/plain": [
              "array([[ 2,  3,  4,  5,  6],\n",
              "       [12, 13, 14, 15, 16]])"
            ]
          },
          "metadata": {},
          "execution_count": 97
        }
      ]
    },
    {
      "cell_type": "code",
      "source": [
        "b[1:, 5:] #Срезы"
      ],
      "metadata": {
        "colab": {
          "base_uri": "https://localhost:8080/"
        },
        "id": "DyjuBdu62Fhk",
        "outputId": "40c1731d-71d3-4f01-d717-3403b6f9e45d"
      },
      "execution_count": null,
      "outputs": [
        {
          "output_type": "execute_result",
          "data": {
            "text/plain": [
              "array([[15, 16, 17, 18, 19],\n",
              "       [25, 26, 27, 28, 29]])"
            ]
          },
          "metadata": {},
          "execution_count": 98
        }
      ]
    },
    {
      "cell_type": "markdown",
      "source": [
        "##Изменение и копирование массивов"
      ],
      "metadata": {
        "id": "s4jY8OAP_nco"
      }
    },
    {
      "cell_type": "markdown",
      "source": [
        "###Создадим новый массив *c* из среза массива *b*"
      ],
      "metadata": {
        "id": "vAAbO-Hm2fH2"
      }
    },
    {
      "cell_type": "code",
      "source": [
        "c = b[1:, 5:]# Это не новый массив, это ссылка на массив\n",
        "c"
      ],
      "metadata": {
        "colab": {
          "base_uri": "https://localhost:8080/"
        },
        "id": "Lkl1FqLp27Uk",
        "outputId": "1d785404-bd38-40b6-ff7e-0efdd1145b44"
      },
      "execution_count": null,
      "outputs": [
        {
          "output_type": "execute_result",
          "data": {
            "text/plain": [
              "array([[15, 16, 17, 18, 19],\n",
              "       [25, 26, 27, 28, 29]])"
            ]
          },
          "metadata": {},
          "execution_count": 99
        }
      ]
    },
    {
      "cell_type": "code",
      "source": [
        "c[1, 4] = 999\n",
        "c"
      ],
      "metadata": {
        "colab": {
          "base_uri": "https://localhost:8080/"
        },
        "id": "H_YJW0nJ3P3u",
        "outputId": "abd4a839-7a18-43c0-eae5-4a1b80a0c076"
      },
      "execution_count": null,
      "outputs": [
        {
          "output_type": "execute_result",
          "data": {
            "text/plain": [
              "array([[ 15,  16,  17,  18,  19],\n",
              "       [ 25,  26,  27,  28, 999]])"
            ]
          },
          "metadata": {},
          "execution_count": 100
        }
      ]
    },
    {
      "cell_type": "code",
      "source": [
        "b #ВАЖНО: Изменеия вносятся и в массив 'b'"
      ],
      "metadata": {
        "colab": {
          "base_uri": "https://localhost:8080/"
        },
        "id": "YDipJjqG3qnM",
        "outputId": "7c3ff687-9b14-45c9-f183-1980f95917a4"
      },
      "execution_count": null,
      "outputs": [
        {
          "output_type": "execute_result",
          "data": {
            "text/plain": [
              "array([[  0,   1,   2,   3,   4,   5,   6,   7,   8,   9],\n",
              "       [ 10,  11,  12,  13,  14,  15,  16,  17,  18,  19],\n",
              "       [ 20,  21,  22,  23,  24,  25,  26,  27,  28, 999]])"
            ]
          },
          "metadata": {},
          "execution_count": 101
        }
      ]
    },
    {
      "cell_type": "markdown",
      "source": [
        "###Для того, чтобы массивы были независимы нужно применять метод *.copy()*"
      ],
      "metadata": {
        "id": "N4pZiThV4bM8"
      }
    },
    {
      "cell_type": "code",
      "source": [
        "c = b[1:, 4:].copy()\n",
        "c"
      ],
      "metadata": {
        "colab": {
          "base_uri": "https://localhost:8080/"
        },
        "id": "aXwRTAtP4qVM",
        "outputId": "81934cb2-6340-469e-bbb5-5e24cbd223a5"
      },
      "execution_count": null,
      "outputs": [
        {
          "output_type": "execute_result",
          "data": {
            "text/plain": [
              "array([[ 14,  15,  16,  17,  18,  19],\n",
              "       [ 24,  25,  26,  27,  28, 999]])"
            ]
          },
          "metadata": {},
          "execution_count": 102
        }
      ]
    },
    {
      "cell_type": "code",
      "source": [
        "c[1, 5] = 29\n",
        "c"
      ],
      "metadata": {
        "colab": {
          "base_uri": "https://localhost:8080/"
        },
        "id": "Sd3GEW8W4z4M",
        "outputId": "0bd7196f-48b5-43dc-9f88-c5e8aa41e7c7"
      },
      "execution_count": null,
      "outputs": [
        {
          "output_type": "execute_result",
          "data": {
            "text/plain": [
              "array([[14, 15, 16, 17, 18, 19],\n",
              "       [24, 25, 26, 27, 28, 29]])"
            ]
          },
          "metadata": {},
          "execution_count": 103
        }
      ]
    },
    {
      "cell_type": "code",
      "source": [
        "b"
      ],
      "metadata": {
        "colab": {
          "base_uri": "https://localhost:8080/"
        },
        "id": "O0DQaDX_5Mfz",
        "outputId": "e00761e9-4bec-4801-8b31-7f66c851080c"
      },
      "execution_count": null,
      "outputs": [
        {
          "output_type": "execute_result",
          "data": {
            "text/plain": [
              "array([[  0,   1,   2,   3,   4,   5,   6,   7,   8,   9],\n",
              "       [ 10,  11,  12,  13,  14,  15,  16,  17,  18,  19],\n",
              "       [ 20,  21,  22,  23,  24,  25,  26,  27,  28, 999]])"
            ]
          },
          "metadata": {},
          "execution_count": 104
        }
      ]
    },
    {
      "cell_type": "code",
      "source": [
        "b[2, 9] = 29\n",
        "b"
      ],
      "metadata": {
        "colab": {
          "base_uri": "https://localhost:8080/"
        },
        "id": "hQDhqVhr5QKF",
        "outputId": "ab68d3fe-6b54-4fd6-9af3-bf6413685424"
      },
      "execution_count": null,
      "outputs": [
        {
          "output_type": "execute_result",
          "data": {
            "text/plain": [
              "array([[ 0,  1,  2,  3,  4,  5,  6,  7,  8,  9],\n",
              "       [10, 11, 12, 13, 14, 15, 16, 17, 18, 19],\n",
              "       [20, 21, 22, 23, 24, 25, 26, 27, 28, 29]])"
            ]
          },
          "metadata": {},
          "execution_count": 105
        }
      ]
    },
    {
      "cell_type": "markdown",
      "source": [
        "##Типы данных Numpy"
      ],
      "metadata": {
        "id": "ct72CHga_xX5"
      }
    },
    {
      "cell_type": "code",
      "source": [
        "f = np.array([1, 2, 3], dtype=np.float64)\n",
        "print(f.dtype, f)"
      ],
      "metadata": {
        "colab": {
          "base_uri": "https://localhost:8080/"
        },
        "id": "GJNqh08r54rk",
        "outputId": "c5e118e9-fa11-46e4-ff90-5c8f369f09fe"
      },
      "execution_count": null,
      "outputs": [
        {
          "output_type": "stream",
          "name": "stdout",
          "text": [
            "float64 [1. 2. 3.]\n"
          ]
        }
      ]
    },
    {
      "cell_type": "code",
      "source": [
        "f = np.array([1, 2, 3], dtype=np.float32)\n",
        "print(f.dtype, f)"
      ],
      "metadata": {
        "colab": {
          "base_uri": "https://localhost:8080/"
        },
        "id": "M58YWBun6lq0",
        "outputId": "9da09af3-4cb6-40ae-e5ea-e8df4b12b546"
      },
      "execution_count": null,
      "outputs": [
        {
          "output_type": "stream",
          "name": "stdout",
          "text": [
            "float32 [1. 2. 3.]\n"
          ]
        }
      ]
    },
    {
      "cell_type": "code",
      "source": [
        "f = np.array([1, 2, 3], dtype=np.int32)\n",
        "print(f.dtype, f)"
      ],
      "metadata": {
        "colab": {
          "base_uri": "https://localhost:8080/"
        },
        "id": "X31ancBP63oj",
        "outputId": "e45f435c-4309-4c8c-e846-933c1f8190c6"
      },
      "execution_count": null,
      "outputs": [
        {
          "output_type": "stream",
          "name": "stdout",
          "text": [
            "int32 [1 2 3]\n"
          ]
        }
      ]
    },
    {
      "cell_type": "code",
      "source": [
        "f = np.array([1, 2, 3], dtype=np.int64)\n",
        "print(f.dtype, f)"
      ],
      "metadata": {
        "colab": {
          "base_uri": "https://localhost:8080/"
        },
        "id": "ugIH0y7B7Paj",
        "outputId": "2d1eb5f6-efb6-43de-d0bb-e51201ad357a"
      },
      "execution_count": null,
      "outputs": [
        {
          "output_type": "stream",
          "name": "stdout",
          "text": [
            "int64 [1 2 3]\n"
          ]
        }
      ]
    },
    {
      "cell_type": "code",
      "source": [
        "f = np.array([[1, 2, 3],[4, 5, 6]],\n",
        "             dtype=np.string_) #При использовании в массивах этот тип удаляет завершающие нулевые байты.\n",
        "print(f.dtype, f)"
      ],
      "metadata": {
        "colab": {
          "base_uri": "https://localhost:8080/"
        },
        "id": "MBNvczTM7S7z",
        "outputId": "a45ce0f8-8f7a-4b0c-dcab-dfc38653e5d2"
      },
      "execution_count": null,
      "outputs": [
        {
          "output_type": "stream",
          "name": "stdout",
          "text": [
            "|S1 [[b'1' b'2' b'3']\n",
            " [b'4' b'5' b'6']]\n"
          ]
        }
      ]
    },
    {
      "cell_type": "code",
      "source": [
        "f = np.array([1, 2, 3], dtype=np.str0)\n",
        "print(f.dtype, f)"
      ],
      "metadata": {
        "colab": {
          "base_uri": "https://localhost:8080/"
        },
        "id": "IJFvubMX8TJb",
        "outputId": "3ccb3280-957f-4563-a15c-93bc59e7bf53"
      },
      "execution_count": null,
      "outputs": [
        {
          "output_type": "stream",
          "name": "stdout",
          "text": [
            "<U1 ['1' '2' '3']\n"
          ]
        }
      ]
    },
    {
      "cell_type": "markdown",
      "source": [
        "#Применение Nympy для линейной алгебры - Часть 1"
      ],
      "metadata": {
        "id": "Dk5Sh4XtxYzC"
      }
    },
    {
      "cell_type": "code",
      "source": [
        "import numpy as np"
      ],
      "metadata": {
        "id": "IFqHAfjwzEdq"
      },
      "execution_count": 1,
      "outputs": []
    },
    {
      "cell_type": "markdown",
      "source": [
        "##Сложение и вычитание векторов"
      ],
      "metadata": {
        "id": "zufq06tXxx5B"
      }
    },
    {
      "cell_type": "markdown",
      "source": [
        "##Умножение вектора на скаляр"
      ],
      "metadata": {
        "id": "FYG55_7kyCcZ"
      }
    },
    {
      "cell_type": "markdown",
      "source": [
        "##Скалярное произведение векторов"
      ],
      "metadata": {
        "id": "QB28pRy-yKYv"
      }
    },
    {
      "cell_type": "markdown",
      "source": [
        "##Сложение и вычитание матриц"
      ],
      "metadata": {
        "id": "l-ODPTjuyTpv"
      }
    },
    {
      "cell_type": "markdown",
      "source": [
        "##Умножение матрицы на скаляр"
      ],
      "metadata": {
        "id": "GvKycI2NyabB"
      }
    }
  ],
  "metadata": {
    "colab": {
      "provenance": [],
      "toc_visible": true,
      "include_colab_link": true
    },
    "kernelspec": {
      "display_name": "Python 3",
      "name": "python3"
    }
  },
  "nbformat": 4,
  "nbformat_minor": 0
}