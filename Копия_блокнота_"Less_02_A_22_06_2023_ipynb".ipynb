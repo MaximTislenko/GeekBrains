{
  "cells": [
    {
      "cell_type": "markdown",
      "metadata": {
        "id": "view-in-github",
        "colab_type": "text"
      },
      "source": [
        "<a href=\"https://colab.research.google.com/github/MaximTislenko/GeekBrains/blob/main/%D0%9A%D0%BE%D0%BF%D0%B8%D1%8F_%D0%B1%D0%BB%D0%BE%D0%BA%D0%BD%D0%BE%D1%82%D0%B0_%22Less_02_A_22_06_2023_ipynb%22.ipynb\" target=\"_parent\"><img src=\"https://colab.research.google.com/assets/colab-badge.svg\" alt=\"Open In Colab\"/></a>"
      ]
    },
    {
      "cell_type": "markdown",
      "source": [
        "#Лекция №2"
      ],
      "metadata": {
        "id": "WZnd2o7aEimI"
      }
    },
    {
      "cell_type": "code",
      "source": [
        "%lsmagic"
      ],
      "metadata": {
        "id": "bSQaHOJ9Emxw",
        "outputId": "07ca1c1e-7466-4d3e-b08a-d73fd3d2239d",
        "colab": {
          "base_uri": "https://localhost:8080/",
          "height": 288
        }
      },
      "execution_count": null,
      "outputs": [
        {
          "output_type": "execute_result",
          "data": {
            "text/plain": [
              "Available line magics:\n",
              "%alias  %alias_magic  %autoawait  %autocall  %automagic  %autosave  %bookmark  %cat  %cd  %clear  %colors  %conda  %config  %connect_info  %cp  %debug  %dhist  %dirs  %doctest_mode  %ed  %edit  %env  %gui  %hist  %history  %killbgscripts  %ldir  %less  %lf  %lk  %ll  %load  %load_ext  %loadpy  %logoff  %logon  %logstart  %logstate  %logstop  %ls  %lsmagic  %lx  %macro  %magic  %man  %matplotlib  %mkdir  %more  %mv  %notebook  %page  %pastebin  %pdb  %pdef  %pdoc  %pfile  %pinfo  %pinfo2  %pip  %popd  %pprint  %precision  %prun  %psearch  %psource  %pushd  %pwd  %pycat  %pylab  %qtconsole  %quickref  %recall  %rehashx  %reload_ext  %rep  %rerun  %reset  %reset_selective  %rm  %rmdir  %run  %save  %sc  %set_env  %shell  %store  %sx  %system  %tb  %tensorflow_version  %time  %timeit  %unalias  %unload_ext  %who  %who_ls  %whos  %xdel  %xmode\n",
              "\n",
              "Available cell magics:\n",
              "%%!  %%HTML  %%SVG  %%bash  %%bigquery  %%capture  %%debug  %%file  %%html  %%javascript  %%js  %%latex  %%markdown  %%perl  %%prun  %%pypy  %%python  %%python2  %%python3  %%ruby  %%script  %%sh  %%shell  %%svg  %%sx  %%system  %%time  %%timeit  %%writefile\n",
              "\n",
              "Automagic is ON, % prefix IS NOT needed for line magics."
            ],
            "application/json": {
              "line": {
                "automagic": "AutoMagics",
                "autocall": "AutoMagics",
                "alias_magic": "BasicMagics",
                "lsmagic": "BasicMagics",
                "magic": "BasicMagics",
                "page": "BasicMagics",
                "pprint": "BasicMagics",
                "colors": "BasicMagics",
                "xmode": "BasicMagics",
                "quickref": "BasicMagics",
                "doctest_mode": "BasicMagics",
                "gui": "BasicMagics",
                "precision": "BasicMagics",
                "notebook": "BasicMagics",
                "save": "CodeMagics",
                "pastebin": "CodeMagics",
                "loadpy": "CodeMagics",
                "load": "CodeMagics",
                "edit": "KernelMagics",
                "config": "ConfigMagics",
                "prun": "ExecutionMagics",
                "pdb": "ExecutionMagics",
                "debug": "ExecutionMagics",
                "tb": "ExecutionMagics",
                "run": "ExecutionMagics",
                "timeit": "ExecutionMagics",
                "time": "ExecutionMagics",
                "macro": "ExecutionMagics",
                "load_ext": "ExtensionMagics",
                "unload_ext": "ExtensionMagics",
                "reload_ext": "ExtensionMagics",
                "history": "HistoryMagics",
                "recall": "HistoryMagics",
                "rerun": "HistoryMagics",
                "logstart": "LoggingMagics",
                "logstop": "LoggingMagics",
                "logoff": "LoggingMagics",
                "logon": "LoggingMagics",
                "logstate": "LoggingMagics",
                "pinfo": "NamespaceMagics",
                "pinfo2": "NamespaceMagics",
                "pdef": "NamespaceMagics",
                "pdoc": "NamespaceMagics",
                "psource": "NamespaceMagics",
                "pfile": "NamespaceMagics",
                "psearch": "NamespaceMagics",
                "who_ls": "NamespaceMagics",
                "who": "NamespaceMagics",
                "whos": "NamespaceMagics",
                "reset": "NamespaceMagics",
                "reset_selective": "NamespaceMagics",
                "xdel": "NamespaceMagics",
                "alias": "OSMagics",
                "unalias": "OSMagics",
                "rehashx": "OSMagics",
                "pwd": "OSMagics",
                "cd": "OSMagics",
                "env": "OSMagics",
                "set_env": "OSMagics",
                "pushd": "OSMagics",
                "popd": "OSMagics",
                "dirs": "OSMagics",
                "dhist": "OSMagics",
                "sc": "OSMagics",
                "sx": "OSMagics",
                "system": "OSMagics",
                "bookmark": "OSMagics",
                "pycat": "OSMagics",
                "pip": "Other",
                "conda": "PackagingMagics",
                "matplotlib": "PylabMagics",
                "pylab": "PylabMagics",
                "killbgscripts": "ScriptMagics",
                "autoawait": "AsyncMagics",
                "ed": "Other",
                "hist": "Other",
                "rep": "Other",
                "clear": "KernelMagics",
                "less": "KernelMagics",
                "more": "KernelMagics",
                "man": "KernelMagics",
                "connect_info": "KernelMagics",
                "qtconsole": "KernelMagics",
                "autosave": "KernelMagics",
                "mkdir": "Other",
                "rmdir": "Other",
                "mv": "Other",
                "rm": "Other",
                "cp": "Other",
                "cat": "Other",
                "ls": "Other",
                "ll": "Other",
                "lf": "Other",
                "lk": "Other",
                "ldir": "Other",
                "lx": "Other",
                "store": "StoreMagics",
                "shell": "Other",
                "tensorflow_version": "Other"
              },
              "cell": {
                "js": "DisplayMagics",
                "javascript": "DisplayMagics",
                "latex": "DisplayMagics",
                "svg": "DisplayMagics",
                "html": "DisplayMagics",
                "markdown": "DisplayMagics",
                "prun": "ExecutionMagics",
                "debug": "ExecutionMagics",
                "timeit": "ExecutionMagics",
                "time": "ExecutionMagics",
                "capture": "ExecutionMagics",
                "sx": "OSMagics",
                "system": "OSMagics",
                "!": "OSMagics",
                "writefile": "OSMagics",
                "script": "ScriptMagics",
                "sh": "Other",
                "bash": "Other",
                "perl": "Other",
                "ruby": "Other",
                "python": "Other",
                "python2": "Other",
                "python3": "Other",
                "pypy": "Other",
                "SVG": "Other",
                "HTML": "Other",
                "file": "Other",
                "bigquery": "Other",
                "shell": "Other"
              }
            }
          },
          "metadata": {},
          "execution_count": 2
        }
      ]
    },
    {
      "cell_type": "markdown",
      "source": [
        "##Важно\n",
        "***Для пользователей Jupyter: Magics специфичны для ядра IPython и предоставляются им. Решение о том, доступны ли Magics в ядре, принимается разработчиком ядра отдельно для каждого ядра. Для правильной работы Magics должен использовать элемент синтаксиса, недопустимый в базовом языке. Например, ядро IPython использует синтаксический элемент % для Magics, поскольку % не является допустимым унарным оператором в Python. Однако % может иметь значение на других языках.***"
      ],
      "metadata": {
        "id": "7Z0c5jyeY3-D"
      }
    },
    {
      "cell_type": "markdown",
      "source": [
        "##Магия линий\n",
        "####%alias - Определите псевдоним для системной команды. *%alias alias_name cmd* определяет *alias_name* как псевдоним для *cmd* . Затем при вводе «alias_name params» будет выполнена системная команда «cmd params» (из базовой операционной системы). Псевдонимы имеют более низкий приоритет, чем магические функции и обычные переменные Python, поэтому, если «foo» является одновременно переменной Python и псевдонимом, псевдоним не может быть выполнен до тех пор, пока «del foo» не удалит переменную Python. Вы можете использовать спецификатор %l в определении псевдонима для представления всей строки при вызове псевдонима. Например:\n",
        "* In [2]: alias bracket echo \"Input in brackets: <%l>\"\n",
        "* In [3]: bracket hello world\n",
        "* Input in brackets: <hello world>\n",
        "\n",
        "####Вы также можете определить псевдонимы с параметрами, используя спецификаторы %s (по одному на параметр):\n",
        "\n",
        "* In [1]: alias parts echo first %s second %s\n",
        "* In [2]: %parts A B\n",
        "* first A second B\n",
        "* In [3]: %parts A\n",
        "* Incorrect number of arguments: 2 expected.\n",
        "* parts is an alias to: 'echo first %s second %s'\n",
        "\n"
      ],
      "metadata": {
        "id": "sM3qyXXpYkri"
      }
    },
    {
      "cell_type": "markdown",
      "source": [
        "###Available line magics:\n",
        "%alias  %alias_magic  %autoawait  %autocall  %automagic  %autosave  %bookmark  %cat  %cd  %clear  %colors  %conda  %config  %connect_info  %cp  %debug  %dhist  %dirs  %doctest_mode  %ed  %edit  %env  %gui  %hist  %history  %killbgscripts  %ldir  %less  %lf  %lk  %ll  %load  %load_ext  %loadpy  %logoff  %logon  %logstart  %logstate  %logstop  %ls  %lsmagic  %lx  %macro  %magic  %man  %matplotlib  %mkdir  %more  %mv  %notebook  %page  %pastebin  %pdb  %pdef  %pdoc  %pfile  %pinfo  %pinfo2  %pip  %popd  %pprint  %precision  %prun  %psearch  %psource  %pushd  %pwd  %pycat  %pylab  %qtconsole  %quickref  %recall  %rehashx  %reload_ext  %rep  %rerun  %reset  %reset_selective  %rm  %rmdir  %run  %save  %sc  %set_env  %shell  %store  %sx  %system  %tb  %tensorflow_version  %time  %timeit  %unalias  %unload_ext  %who  %who_ls  %whos  %xdel  %xmode\n",
        "\n",
        "###Available cell magics:\n",
        "%%!  %%HTML  %%SVG  %%bash  %%bigquery  %%capture  %%debug  %%file  %%html  %%javascript  %%js  %%latex  %%markdown  %%perl  %%prun  %%pypy  %%python  %%python2  %%python3  %%ruby  %%script  %%sh  %%shell  %%svg  %%sx  %%system  %%time  %%timeit  %%writefile\n",
        "\n",
        "Автомагия включена, префикс % НЕ нужен для магии линий."
      ],
      "metadata": {
        "id": "qdlGq64cSgOZ"
      }
    },
    {
      "cell_type": "markdown",
      "source": [
        "##Примеры\n",
        "* *%run имя_скрипта.py* - выполнение скрипта Python, результат будет внутри колаба\n",
        "* *%load имя_скрипта.py* - сама команда законектится, а код окажется в ячейке\n",
        "* *%pycat имя_скрипта.py* - код окажется в нижней части страницы\n",
        "* *%%time* - за какое время выполнились команды содержащиеся в ячейке\n",
        "* *%%timeit* - время для быстрых команд"
      ],
      "metadata": {
        "id": "YNzxpXM1cuB1"
      }
    },
    {
      "cell_type": "code",
      "source": [
        "%%time\n",
        "for i in range(100):\n",
        "  for y in range(100):\n",
        "    for r in range(100):\n",
        "      pass"
      ],
      "metadata": {
        "id": "4dQ-MmFGig4W",
        "outputId": "78d4e4f5-11d0-4495-ab3d-5e6e52df0926",
        "colab": {
          "base_uri": "https://localhost:8080/"
        }
      },
      "execution_count": null,
      "outputs": [
        {
          "output_type": "stream",
          "name": "stdout",
          "text": [
            "CPU times: user 54.3 ms, sys: 0 ns, total: 54.3 ms\n",
            "Wall time: 70.7 ms\n"
          ]
        }
      ]
    },
    {
      "cell_type": "code",
      "source": [
        "%%timeit\n",
        "2**1000"
      ],
      "metadata": {
        "id": "CoyFiio0nBCI",
        "outputId": "b9d21796-27bb-447e-e0f4-91306acec6ad",
        "colab": {
          "base_uri": "https://localhost:8080/"
        }
      },
      "execution_count": null,
      "outputs": [
        {
          "output_type": "stream",
          "name": "stdout",
          "text": [
            "1.02 µs ± 276 ns per loop (mean ± std. dev. of 7 runs, 1000000 loops each)\n"
          ]
        }
      ]
    },
    {
      "cell_type": "markdown",
      "source": [
        "##Запуск команд операционной системы"
      ],
      "metadata": {
        "id": "HRmThXs_yBGe"
      }
    },
    {
      "cell_type": "code",
      "source": [
        "!help dir -p"
      ],
      "metadata": {
        "id": "Oh-qBxVAxgV9",
        "outputId": "6a30c968-8092-45bd-ad3b-b0447329c6dd",
        "colab": {
          "base_uri": "https://localhost:8080/"
        }
      },
      "execution_count": null,
      "outputs": [
        {
          "output_type": "stream",
          "name": "stdout",
          "text": [
            "dirs: dirs [-clpv] [+N] [-N]\n",
            "    Display directory stack.\n",
            "    \n",
            "    Display the list of currently remembered directories.  Directories\n",
            "    find their way onto the list with the `pushd' command; you can get\n",
            "    back up through the list with the `popd' command.\n",
            "    \n",
            "    Options:\n",
            "      -c\tclear the directory stack by deleting all of the elements\n",
            "      -l\tdo not print tilde-prefixed versions of directories relative\n",
            "    \t\tto your home directory\n",
            "      -p\tprint the directory stack with one entry per line\n",
            "      -v\tprint the directory stack with one entry per line prefixed\n",
            "    \t\twith its position in the stack\n",
            "    \n",
            "    Arguments:\n",
            "      +N\tDisplays the Nth entry counting from the left of the list\n",
            "    \t\tshown by dirs when invoked without options, starting with\n",
            "    \t\tzero.\n",
            "    \n",
            "      -N\tDisplays the Nth entry counting from the right of the list\n",
            "    \t\tshown by dirs when invoked without options, starting with\n",
            "    \t\tzero.\n",
            "    \n",
            "    Exit Status:\n",
            "    Returns success unless an invalid option is supplied or an error occurs.\n"
          ]
        }
      ]
    },
    {
      "cell_type": "code",
      "source": [
        "!dir sample_data/ -p"
      ],
      "metadata": {
        "id": "KnOlrb4F0RP1",
        "outputId": "032c81c4-6d52-4a28-ae35-6f3d16da0041",
        "colab": {
          "base_uri": "https://localhost:8080/"
        }
      },
      "execution_count": null,
      "outputs": [
        {
          "output_type": "stream",
          "name": "stdout",
          "text": [
            "anscombe.json\t\t      mnist_test.csv\n",
            "california_housing_test.csv   mnist_train_small.csv\n",
            "california_housing_train.csv  README.md\n"
          ]
        }
      ]
    },
    {
      "cell_type": "markdown",
      "source": [
        "#Numpy"
      ],
      "metadata": {
        "id": "3TRnW-pg1CT3"
      }
    },
    {
      "cell_type": "code",
      "source": [
        "import numpy as np"
      ],
      "metadata": {
        "id": "kUKRBV0FBpoC"
      },
      "execution_count": null,
      "outputs": []
    },
    {
      "cell_type": "markdown",
      "source": [
        "##Создание многомерных массивов Numpy"
      ],
      "metadata": {
        "id": "UImWmAvi1G3t"
      }
    },
    {
      "cell_type": "code",
      "source": [
        "a = [i for i in range(10, 40, 2)] # Это список\n",
        "print(a)"
      ],
      "metadata": {
        "id": "53ZEnxhi1kQv",
        "outputId": "eba75e81-db69-4c3c-bbf7-116231e1b642",
        "colab": {
          "base_uri": "https://localhost:8080/"
        }
      },
      "execution_count": null,
      "outputs": [
        {
          "output_type": "stream",
          "name": "stdout",
          "text": [
            "[10, 12, 14, 16, 18, 20, 22, 24, 26, 28, 30, 32, 34, 36, 38]\n"
          ]
        }
      ]
    },
    {
      "cell_type": "code",
      "source": [
        "b = np.array(a)\n",
        "b"
      ],
      "metadata": {
        "id": "EA4jZNkjCtdq",
        "outputId": "d9776d10-fe1d-4e31-9316-046b187f41e7",
        "colab": {
          "base_uri": "https://localhost:8080/"
        }
      },
      "execution_count": null,
      "outputs": [
        {
          "output_type": "execute_result",
          "data": {
            "text/plain": [
              "array([10, 12, 14, 16, 18, 20, 22, 24, 26, 28, 30, 32, 34, 36, 38])"
            ]
          },
          "metadata": {},
          "execution_count": 9
        }
      ]
    },
    {
      "cell_type": "code",
      "source": [
        "type(b)"
      ],
      "metadata": {
        "id": "QXlPmJekDGqp",
        "outputId": "0409fa55-a010-4ac8-e937-43100515ab83",
        "colab": {
          "base_uri": "https://localhost:8080/"
        }
      },
      "execution_count": null,
      "outputs": [
        {
          "output_type": "execute_result",
          "data": {
            "text/plain": [
              "numpy.ndarray"
            ]
          },
          "metadata": {},
          "execution_count": 10
        }
      ]
    },
    {
      "cell_type": "code",
      "source": [
        "b = np.array(a, dtype=float )\n",
        "b"
      ],
      "metadata": {
        "id": "OcHlWnZFDWRq",
        "outputId": "65c7bfc6-57f5-4173-d90e-49a51ae6cc39",
        "colab": {
          "base_uri": "https://localhost:8080/"
        }
      },
      "execution_count": null,
      "outputs": [
        {
          "output_type": "execute_result",
          "data": {
            "text/plain": [
              "array([10., 12., 14., 16., 18., 20., 22., 24., 26., 28., 30., 32., 34.,\n",
              "       36., 38.])"
            ]
          },
          "metadata": {},
          "execution_count": 11
        }
      ]
    },
    {
      "cell_type": "code",
      "source": [
        "b = np.array(a, dtype=int)\n",
        "b"
      ],
      "metadata": {
        "id": "2lK3hpTzDn5a",
        "outputId": "6820629a-a797-4abd-9b23-09ebc914339d",
        "colab": {
          "base_uri": "https://localhost:8080/"
        }
      },
      "execution_count": null,
      "outputs": [
        {
          "output_type": "execute_result",
          "data": {
            "text/plain": [
              "array([10, 12, 14, 16, 18, 20, 22, 24, 26, 28, 30, 32, 34, 36, 38])"
            ]
          },
          "metadata": {},
          "execution_count": 12
        }
      ]
    },
    {
      "cell_type": "code",
      "source": [
        "b = np.array(a, dtype=str)\n",
        "b"
      ],
      "metadata": {
        "id": "7LBqf34nD-ZC",
        "outputId": "291ce0d1-a3cf-44bd-db20-4ceacd1c31e0",
        "colab": {
          "base_uri": "https://localhost:8080/"
        }
      },
      "execution_count": null,
      "outputs": [
        {
          "output_type": "execute_result",
          "data": {
            "text/plain": [
              "array(['10', '12', '14', '16', '18', '20', '22', '24', '26', '28', '30',\n",
              "       '32', '34', '36', '38'], dtype='<U2')"
            ]
          },
          "metadata": {},
          "execution_count": 13
        }
      ]
    },
    {
      "cell_type": "markdown",
      "source": [
        "###Если один из элементов массива имеет отличный тип данных, то остальные будутут такимиже без указания."
      ],
      "metadata": {
        "id": "TYQsbD5qhAUQ"
      }
    },
    {
      "cell_type": "code",
      "source": [
        "a = [1, 2, 3, 'abc']\n",
        "b = np.array(a)\n",
        "b"
      ],
      "metadata": {
        "id": "Rw7bD-wFhTul",
        "outputId": "0f3871fe-551e-4f49-d9e5-7d8e526537f6",
        "colab": {
          "base_uri": "https://localhost:8080/"
        }
      },
      "execution_count": null,
      "outputs": [
        {
          "output_type": "execute_result",
          "data": {
            "text/plain": [
              "array(['1', '2', '3', 'abc'], dtype='<U21')"
            ]
          },
          "metadata": {},
          "execution_count": 14
        }
      ]
    },
    {
      "cell_type": "code",
      "source": [
        "# a = [1, 2, 3, 'abc']\n",
        "# b = np.array(a, dtype=int)\n",
        "# b"
      ],
      "metadata": {
        "id": "OBuYH0mght6a"
      },
      "execution_count": null,
      "outputs": []
    },
    {
      "cell_type": "code",
      "source": [
        "a = [1, 2, 3, 4.125]\n",
        "b= np.array(a)\n",
        "b"
      ],
      "metadata": {
        "colab": {
          "base_uri": "https://localhost:8080/"
        },
        "id": "YKi_T4mFnr8o",
        "outputId": "3a90789a-36b7-458d-d87c-47e2e2292411"
      },
      "execution_count": null,
      "outputs": [
        {
          "output_type": "execute_result",
          "data": {
            "text/plain": [
              "array([1.   , 2.   , 3.   , 4.125])"
            ]
          },
          "metadata": {},
          "execution_count": 16
        }
      ]
    },
    {
      "cell_type": "code",
      "source": [
        "b.dtype"
      ],
      "metadata": {
        "colab": {
          "base_uri": "https://localhost:8080/"
        },
        "id": "CroV1XVbn6jo",
        "outputId": "7b816801-37c8-43bd-e9a0-de198eec7acf"
      },
      "execution_count": null,
      "outputs": [
        {
          "output_type": "execute_result",
          "data": {
            "text/plain": [
              "dtype('float64')"
            ]
          },
          "metadata": {},
          "execution_count": 17
        }
      ]
    },
    {
      "cell_type": "markdown",
      "source": [
        "###Получаем элементы массива"
      ],
      "metadata": {
        "id": "N3guOXeqoTW_"
      }
    },
    {
      "cell_type": "code",
      "source": [
        "b[0]"
      ],
      "metadata": {
        "colab": {
          "base_uri": "https://localhost:8080/"
        },
        "id": "JH4Dmf61obW-",
        "outputId": "ff63c209-29f6-4f04-991c-082fba467da0"
      },
      "execution_count": null,
      "outputs": [
        {
          "output_type": "execute_result",
          "data": {
            "text/plain": [
              "1.0"
            ]
          },
          "metadata": {},
          "execution_count": 18
        }
      ]
    },
    {
      "cell_type": "code",
      "source": [
        "b[3]"
      ],
      "metadata": {
        "colab": {
          "base_uri": "https://localhost:8080/"
        },
        "id": "TZb-UPayofNn",
        "outputId": "0e4c8d35-46f2-4c77-84a4-1e4206bf60d3"
      },
      "execution_count": null,
      "outputs": [
        {
          "output_type": "execute_result",
          "data": {
            "text/plain": [
              "4.125"
            ]
          },
          "metadata": {},
          "execution_count": 19
        }
      ]
    },
    {
      "cell_type": "code",
      "source": [
        "b[:2]"
      ],
      "metadata": {
        "colab": {
          "base_uri": "https://localhost:8080/"
        },
        "id": "s7y_W2NdoknW",
        "outputId": "7553c284-7cf4-4b5b-9bed-892f7f94eda1"
      },
      "execution_count": null,
      "outputs": [
        {
          "output_type": "execute_result",
          "data": {
            "text/plain": [
              "array([1., 2.])"
            ]
          },
          "metadata": {},
          "execution_count": 20
        }
      ]
    },
    {
      "cell_type": "code",
      "source": [
        "b[-1]"
      ],
      "metadata": {
        "colab": {
          "base_uri": "https://localhost:8080/"
        },
        "id": "PVUlLgJkoq1h",
        "outputId": "1f4f4b9b-4d9e-4310-c1a4-4728578e74a2"
      },
      "execution_count": null,
      "outputs": [
        {
          "output_type": "execute_result",
          "data": {
            "text/plain": [
              "4.125"
            ]
          },
          "metadata": {},
          "execution_count": 21
        }
      ]
    },
    {
      "cell_type": "markdown",
      "source": [
        "###Размерность массива"
      ],
      "metadata": {
        "id": "h7ikr6_ko-Ch"
      }
    },
    {
      "cell_type": "code",
      "source": [
        "b.ndim"
      ],
      "metadata": {
        "colab": {
          "base_uri": "https://localhost:8080/"
        },
        "id": "4_V5t4GFpDqf",
        "outputId": "f7140715-3c47-4d5b-f738-2f9e6d50eac2"
      },
      "execution_count": null,
      "outputs": [
        {
          "output_type": "execute_result",
          "data": {
            "text/plain": [
              "1"
            ]
          },
          "metadata": {},
          "execution_count": 22
        }
      ]
    },
    {
      "cell_type": "code",
      "source": [
        "type(b.ndim)"
      ],
      "metadata": {
        "colab": {
          "base_uri": "https://localhost:8080/"
        },
        "id": "uCGkva5bpVix",
        "outputId": "4a723f40-8bb5-401c-ebda-8e79ed89679a"
      },
      "execution_count": null,
      "outputs": [
        {
          "output_type": "execute_result",
          "data": {
            "text/plain": [
              "int"
            ]
          },
          "metadata": {},
          "execution_count": 23
        }
      ]
    },
    {
      "cell_type": "code",
      "source": [
        "b.shape"
      ],
      "metadata": {
        "colab": {
          "base_uri": "https://localhost:8080/"
        },
        "id": "f0dGgwsxpIJG",
        "outputId": "febc7407-2db8-4071-dfa6-54c1f3a86507"
      },
      "execution_count": null,
      "outputs": [
        {
          "output_type": "execute_result",
          "data": {
            "text/plain": [
              "(4,)"
            ]
          },
          "metadata": {},
          "execution_count": 24
        }
      ]
    },
    {
      "cell_type": "code",
      "source": [
        "type(b.shape)"
      ],
      "metadata": {
        "colab": {
          "base_uri": "https://localhost:8080/"
        },
        "id": "AsfNWlzjpbwI",
        "outputId": "645ee458-ee69-4080-d438-8a0615c4c374"
      },
      "execution_count": null,
      "outputs": [
        {
          "output_type": "execute_result",
          "data": {
            "text/plain": [
              "tuple"
            ]
          },
          "metadata": {},
          "execution_count": 25
        }
      ]
    },
    {
      "cell_type": "code",
      "source": [
        "b.size #Общее количество элементов"
      ],
      "metadata": {
        "colab": {
          "base_uri": "https://localhost:8080/"
        },
        "id": "8f5pQ2kApNMW",
        "outputId": "1494a271-782f-40ba-9c21-ab8e40ef8093"
      },
      "execution_count": null,
      "outputs": [
        {
          "output_type": "execute_result",
          "data": {
            "text/plain": [
              "4"
            ]
          },
          "metadata": {},
          "execution_count": 26
        }
      ]
    },
    {
      "cell_type": "code",
      "source": [
        "type(b.size)"
      ],
      "metadata": {
        "colab": {
          "base_uri": "https://localhost:8080/"
        },
        "id": "u6Fv1A_vpnrW",
        "outputId": "167c6ac2-cf52-42c9-8a9b-5c0f929975f1"
      },
      "execution_count": null,
      "outputs": [
        {
          "output_type": "execute_result",
          "data": {
            "text/plain": [
              "int"
            ]
          },
          "metadata": {},
          "execution_count": 27
        }
      ]
    },
    {
      "cell_type": "markdown",
      "source": [
        "###Двух-мерный массив (2d array)"
      ],
      "metadata": {
        "id": "Ogcmy4OXqTzJ"
      }
    },
    {
      "cell_type": "code",
      "source": [
        "b = np.array([[0,1,2,3,4,5,6,7,8,9],\n",
        "             [10,11,12,13,14,15,16,17,18,19],\n",
        "             [20,21,22,23,24,25,26,27,28,29]])\n",
        "b"
      ],
      "metadata": {
        "colab": {
          "base_uri": "https://localhost:8080/"
        },
        "id": "2WIXKicsqSzO",
        "outputId": "22368238-d36e-4feb-afde-22659aec2672"
      },
      "execution_count": null,
      "outputs": [
        {
          "output_type": "execute_result",
          "data": {
            "text/plain": [
              "array([[ 0,  1,  2,  3,  4,  5,  6,  7,  8,  9],\n",
              "       [10, 11, 12, 13, 14, 15, 16, 17, 18, 19],\n",
              "       [20, 21, 22, 23, 24, 25, 26, 27, 28, 29]])"
            ]
          },
          "metadata": {},
          "execution_count": 28
        }
      ]
    },
    {
      "cell_type": "code",
      "source": [
        "b.shape # 3-строки и 10-колонок"
      ],
      "metadata": {
        "colab": {
          "base_uri": "https://localhost:8080/"
        },
        "id": "uRRUVQBrrL2W",
        "outputId": "bb32ff2e-b601-4afb-9366-89f61745cbca"
      },
      "execution_count": null,
      "outputs": [
        {
          "output_type": "execute_result",
          "data": {
            "text/plain": [
              "(3, 10)"
            ]
          },
          "metadata": {},
          "execution_count": 29
        }
      ]
    },
    {
      "cell_type": "code",
      "source": [
        "b.size #общее количество элементов"
      ],
      "metadata": {
        "colab": {
          "base_uri": "https://localhost:8080/"
        },
        "id": "IMY4nhi6rIH3",
        "outputId": "e1e3bb87-889e-4e4a-ece2-5b90e1ebec72"
      },
      "execution_count": null,
      "outputs": [
        {
          "output_type": "execute_result",
          "data": {
            "text/plain": [
              "30"
            ]
          },
          "metadata": {},
          "execution_count": 30
        }
      ]
    },
    {
      "cell_type": "markdown",
      "source": [
        "##Доступ к элементам массива"
      ],
      "metadata": {
        "id": "2LaaPvgr_Z2K"
      }
    },
    {
      "cell_type": "code",
      "source": [
        "b[1][1]"
      ],
      "metadata": {
        "colab": {
          "base_uri": "https://localhost:8080/"
        },
        "id": "ytaZO2iRrxkO",
        "outputId": "a77c2136-5609-4f9f-9501-868546b724f8"
      },
      "execution_count": null,
      "outputs": [
        {
          "output_type": "execute_result",
          "data": {
            "text/plain": [
              "11"
            ]
          },
          "metadata": {},
          "execution_count": 31
        }
      ]
    },
    {
      "cell_type": "markdown",
      "source": [
        "###Можно через запятую"
      ],
      "metadata": {
        "id": "RVSq99jG02g9"
      }
    },
    {
      "cell_type": "code",
      "source": [
        "b[1, 1]"
      ],
      "metadata": {
        "colab": {
          "base_uri": "https://localhost:8080/"
        },
        "id": "nYG-392C078k",
        "outputId": "38445597-88b7-4d2e-9734-2c340b538fac"
      },
      "execution_count": null,
      "outputs": [
        {
          "output_type": "execute_result",
          "data": {
            "text/plain": [
              "11"
            ]
          },
          "metadata": {},
          "execution_count": 32
        }
      ]
    },
    {
      "cell_type": "code",
      "source": [
        "b[0:2, 2:7] #Срезы"
      ],
      "metadata": {
        "colab": {
          "base_uri": "https://localhost:8080/"
        },
        "id": "Yw0-NeBd1Ayk",
        "outputId": "db54e75c-8dae-4351-e17b-c2716c308d63"
      },
      "execution_count": null,
      "outputs": [
        {
          "output_type": "execute_result",
          "data": {
            "text/plain": [
              "array([[ 2,  3,  4,  5,  6],\n",
              "       [12, 13, 14, 15, 16]])"
            ]
          },
          "metadata": {},
          "execution_count": 33
        }
      ]
    },
    {
      "cell_type": "code",
      "source": [
        "b[1:, 5:] #Срезы"
      ],
      "metadata": {
        "colab": {
          "base_uri": "https://localhost:8080/"
        },
        "id": "DyjuBdu62Fhk",
        "outputId": "8099daa1-63bf-4e05-c53b-7702dda686af"
      },
      "execution_count": null,
      "outputs": [
        {
          "output_type": "execute_result",
          "data": {
            "text/plain": [
              "array([[15, 16, 17, 18, 19],\n",
              "       [25, 26, 27, 28, 29]])"
            ]
          },
          "metadata": {},
          "execution_count": 34
        }
      ]
    },
    {
      "cell_type": "markdown",
      "source": [
        "##Изменение и копирование массивов"
      ],
      "metadata": {
        "id": "s4jY8OAP_nco"
      }
    },
    {
      "cell_type": "markdown",
      "source": [
        "###Создадим новый массив *c* из среза массива *b*"
      ],
      "metadata": {
        "id": "vAAbO-Hm2fH2"
      }
    },
    {
      "cell_type": "code",
      "source": [
        "c = b[1:, 5:]# Это не новый массив, это ссылка на массив\n",
        "c"
      ],
      "metadata": {
        "colab": {
          "base_uri": "https://localhost:8080/"
        },
        "id": "Lkl1FqLp27Uk",
        "outputId": "909bc291-7c94-4f17-b4c8-621e7254ace7"
      },
      "execution_count": null,
      "outputs": [
        {
          "output_type": "execute_result",
          "data": {
            "text/plain": [
              "array([[15, 16, 17, 18, 19],\n",
              "       [25, 26, 27, 28, 29]])"
            ]
          },
          "metadata": {},
          "execution_count": 35
        }
      ]
    },
    {
      "cell_type": "code",
      "source": [
        "c[1, 4] = 999\n",
        "c"
      ],
      "metadata": {
        "colab": {
          "base_uri": "https://localhost:8080/"
        },
        "id": "H_YJW0nJ3P3u",
        "outputId": "98937dbb-4bb7-435f-bb85-94107c6291bb"
      },
      "execution_count": null,
      "outputs": [
        {
          "output_type": "execute_result",
          "data": {
            "text/plain": [
              "array([[ 15,  16,  17,  18,  19],\n",
              "       [ 25,  26,  27,  28, 999]])"
            ]
          },
          "metadata": {},
          "execution_count": 36
        }
      ]
    },
    {
      "cell_type": "code",
      "source": [
        "b #ВАЖНО: Изменеия вносятся и в массив 'b'"
      ],
      "metadata": {
        "colab": {
          "base_uri": "https://localhost:8080/"
        },
        "id": "YDipJjqG3qnM",
        "outputId": "11f39632-f62c-496f-a2d6-c505122d33b3"
      },
      "execution_count": null,
      "outputs": [
        {
          "output_type": "execute_result",
          "data": {
            "text/plain": [
              "array([[  0,   1,   2,   3,   4,   5,   6,   7,   8,   9],\n",
              "       [ 10,  11,  12,  13,  14,  15,  16,  17,  18,  19],\n",
              "       [ 20,  21,  22,  23,  24,  25,  26,  27,  28, 999]])"
            ]
          },
          "metadata": {},
          "execution_count": 37
        }
      ]
    },
    {
      "cell_type": "markdown",
      "source": [
        "###Для того, чтобы массивы были независимы нужно применять метод *.copy()*"
      ],
      "metadata": {
        "id": "N4pZiThV4bM8"
      }
    },
    {
      "cell_type": "code",
      "source": [
        "c = b[1:, 4:].copy()\n",
        "c"
      ],
      "metadata": {
        "colab": {
          "base_uri": "https://localhost:8080/"
        },
        "id": "aXwRTAtP4qVM",
        "outputId": "2ef33e2f-6568-4905-f336-cd1b9c0d5b01"
      },
      "execution_count": null,
      "outputs": [
        {
          "output_type": "execute_result",
          "data": {
            "text/plain": [
              "array([[ 14,  15,  16,  17,  18,  19],\n",
              "       [ 24,  25,  26,  27,  28, 999]])"
            ]
          },
          "metadata": {},
          "execution_count": 38
        }
      ]
    },
    {
      "cell_type": "code",
      "source": [
        "c[1, 5] = 29\n",
        "c"
      ],
      "metadata": {
        "colab": {
          "base_uri": "https://localhost:8080/"
        },
        "id": "Sd3GEW8W4z4M",
        "outputId": "52ba8e98-aec5-4083-8341-add82ef18a2f"
      },
      "execution_count": null,
      "outputs": [
        {
          "output_type": "execute_result",
          "data": {
            "text/plain": [
              "array([[14, 15, 16, 17, 18, 19],\n",
              "       [24, 25, 26, 27, 28, 29]])"
            ]
          },
          "metadata": {},
          "execution_count": 39
        }
      ]
    },
    {
      "cell_type": "code",
      "source": [
        "b"
      ],
      "metadata": {
        "colab": {
          "base_uri": "https://localhost:8080/"
        },
        "id": "O0DQaDX_5Mfz",
        "outputId": "29afaf96-40ea-4061-deae-3a9c759405be"
      },
      "execution_count": null,
      "outputs": [
        {
          "output_type": "execute_result",
          "data": {
            "text/plain": [
              "array([[  0,   1,   2,   3,   4,   5,   6,   7,   8,   9],\n",
              "       [ 10,  11,  12,  13,  14,  15,  16,  17,  18,  19],\n",
              "       [ 20,  21,  22,  23,  24,  25,  26,  27,  28, 999]])"
            ]
          },
          "metadata": {},
          "execution_count": 40
        }
      ]
    },
    {
      "cell_type": "code",
      "source": [
        "b[2, 9] = 29\n",
        "b"
      ],
      "metadata": {
        "colab": {
          "base_uri": "https://localhost:8080/"
        },
        "id": "hQDhqVhr5QKF",
        "outputId": "e01d6bf8-8073-4d22-c4d3-264903542c65"
      },
      "execution_count": null,
      "outputs": [
        {
          "output_type": "execute_result",
          "data": {
            "text/plain": [
              "array([[ 0,  1,  2,  3,  4,  5,  6,  7,  8,  9],\n",
              "       [10, 11, 12, 13, 14, 15, 16, 17, 18, 19],\n",
              "       [20, 21, 22, 23, 24, 25, 26, 27, 28, 29]])"
            ]
          },
          "metadata": {},
          "execution_count": 41
        }
      ]
    },
    {
      "cell_type": "markdown",
      "source": [
        "##Типы данных Numpy"
      ],
      "metadata": {
        "id": "ct72CHga_xX5"
      }
    },
    {
      "cell_type": "code",
      "source": [
        "f = np.array([1, 2, 3], dtype=np.float64)\n",
        "print(f.dtype, f)"
      ],
      "metadata": {
        "colab": {
          "base_uri": "https://localhost:8080/"
        },
        "id": "GJNqh08r54rk",
        "outputId": "07e8dd5c-00e6-43fc-abcd-d3383209f198"
      },
      "execution_count": null,
      "outputs": [
        {
          "output_type": "stream",
          "name": "stdout",
          "text": [
            "float64 [1. 2. 3.]\n"
          ]
        }
      ]
    },
    {
      "cell_type": "code",
      "source": [
        "f = np.array([1, 2, 3], dtype=np.float32)\n",
        "print(f.dtype, f)"
      ],
      "metadata": {
        "colab": {
          "base_uri": "https://localhost:8080/"
        },
        "id": "M58YWBun6lq0",
        "outputId": "52f90bf4-a0d3-41a7-fd0f-21c5e4eab17b"
      },
      "execution_count": null,
      "outputs": [
        {
          "output_type": "stream",
          "name": "stdout",
          "text": [
            "float32 [1. 2. 3.]\n"
          ]
        }
      ]
    },
    {
      "cell_type": "code",
      "source": [
        "f = np.array([1, 2, 3], dtype=np.int32)\n",
        "print(f.dtype, f)"
      ],
      "metadata": {
        "colab": {
          "base_uri": "https://localhost:8080/"
        },
        "id": "X31ancBP63oj",
        "outputId": "8beb2b1b-34ca-48fe-ed96-a3f66ea720d8"
      },
      "execution_count": null,
      "outputs": [
        {
          "output_type": "stream",
          "name": "stdout",
          "text": [
            "int32 [1 2 3]\n"
          ]
        }
      ]
    },
    {
      "cell_type": "code",
      "source": [
        "f = np.array([1, 2, 3], dtype=np.int64)\n",
        "print(f.dtype, f)"
      ],
      "metadata": {
        "colab": {
          "base_uri": "https://localhost:8080/"
        },
        "id": "ugIH0y7B7Paj",
        "outputId": "7bd8bff4-820a-410c-bb36-cd139c27e584"
      },
      "execution_count": null,
      "outputs": [
        {
          "output_type": "stream",
          "name": "stdout",
          "text": [
            "int64 [1 2 3]\n"
          ]
        }
      ]
    },
    {
      "cell_type": "code",
      "source": [
        "f = np.array([[1, 2, 3],[4, 5, 6]],\n",
        "             dtype=np.string_) #При использовании в массивах этот тип удаляет завершающие нулевые байты.\n",
        "print(f.dtype, f)"
      ],
      "metadata": {
        "colab": {
          "base_uri": "https://localhost:8080/"
        },
        "id": "MBNvczTM7S7z",
        "outputId": "679210e5-4e5b-4d04-caf4-0d8dddba6387"
      },
      "execution_count": null,
      "outputs": [
        {
          "output_type": "stream",
          "name": "stdout",
          "text": [
            "|S1 [[b'1' b'2' b'3']\n",
            " [b'4' b'5' b'6']]\n"
          ]
        }
      ]
    },
    {
      "cell_type": "code",
      "source": [
        "f = np.array([1, 2, 3], dtype=np.str0)\n",
        "print(f.dtype, f)"
      ],
      "metadata": {
        "colab": {
          "base_uri": "https://localhost:8080/"
        },
        "id": "IJFvubMX8TJb",
        "outputId": "f5da961e-11f9-40c7-e66c-b2a4cc37d0a7"
      },
      "execution_count": null,
      "outputs": [
        {
          "output_type": "stream",
          "name": "stdout",
          "text": [
            "<U1 ['1' '2' '3']\n"
          ]
        }
      ]
    },
    {
      "cell_type": "markdown",
      "source": [
        "#Применение Nympy для линейной алгебры - Часть 1"
      ],
      "metadata": {
        "id": "Dk5Sh4XtxYzC"
      }
    },
    {
      "cell_type": "code",
      "source": [
        "import numpy as np"
      ],
      "metadata": {
        "id": "IFqHAfjwzEdq"
      },
      "execution_count": null,
      "outputs": []
    },
    {
      "cell_type": "markdown",
      "source": [
        "##Сложение и вычитание векторов"
      ],
      "metadata": {
        "id": "zufq06tXxx5B"
      }
    },
    {
      "cell_type": "code",
      "source": [
        "a = np.array([0, 1, 2, 3, 4])\n",
        "a"
      ],
      "metadata": {
        "colab": {
          "base_uri": "https://localhost:8080/"
        },
        "id": "bqgB5Jmczj5w",
        "outputId": "f8b9bd65-b034-4778-d494-4e3549ac9a48"
      },
      "execution_count": null,
      "outputs": [
        {
          "output_type": "execute_result",
          "data": {
            "text/plain": [
              "array([0, 1, 2, 3, 4])"
            ]
          },
          "metadata": {},
          "execution_count": 49
        }
      ]
    },
    {
      "cell_type": "code",
      "source": [
        "b = np.array([5, 6, 7, 8, 9])\n",
        "b"
      ],
      "metadata": {
        "colab": {
          "base_uri": "https://localhost:8080/"
        },
        "id": "s6YFCdSFz163",
        "outputId": "678e10d7-3564-4b7f-e863-3aadf3386809"
      },
      "execution_count": null,
      "outputs": [
        {
          "output_type": "execute_result",
          "data": {
            "text/plain": [
              "array([5, 6, 7, 8, 9])"
            ]
          },
          "metadata": {},
          "execution_count": 50
        }
      ]
    },
    {
      "cell_type": "code",
      "source": [
        "print('a - ', a.size, a.shape)\n",
        "print('b - ', b.size, b.shape)"
      ],
      "metadata": {
        "colab": {
          "base_uri": "https://localhost:8080/"
        },
        "id": "Nl0w6v0j0eFQ",
        "outputId": "8154ed1a-6358-4fe4-c860-811e14ec3f5c"
      },
      "execution_count": null,
      "outputs": [
        {
          "output_type": "stream",
          "name": "stdout",
          "text": [
            "a -  5 (5,)\n",
            "b -  5 (5,)\n"
          ]
        }
      ]
    },
    {
      "cell_type": "markdown",
      "source": [
        "###Сложение"
      ],
      "metadata": {
        "id": "lXGrYhC5DbSJ"
      }
    },
    {
      "cell_type": "code",
      "source": [
        "c = a + b\n",
        "print(c)\n",
        "print(c.size, c.shape)"
      ],
      "metadata": {
        "colab": {
          "base_uri": "https://localhost:8080/"
        },
        "id": "iNWteh8f1GIv",
        "outputId": "7ad47384-a6c0-4f4d-f245-ea088d1abcce"
      },
      "execution_count": null,
      "outputs": [
        {
          "output_type": "stream",
          "name": "stdout",
          "text": [
            "[ 5  7  9 11 13]\n",
            "5 (5,)\n"
          ]
        }
      ]
    },
    {
      "cell_type": "code",
      "source": [
        "print(a)\n",
        "print(b)\n",
        "print(c)"
      ],
      "metadata": {
        "colab": {
          "base_uri": "https://localhost:8080/"
        },
        "id": "S2CUNYgG1Y1Q",
        "outputId": "9fbd889a-e06a-46e4-9fe4-3ed0e4e2740a"
      },
      "execution_count": null,
      "outputs": [
        {
          "output_type": "stream",
          "name": "stdout",
          "text": [
            "[0 1 2 3 4]\n",
            "[5 6 7 8 9]\n",
            "[ 5  7  9 11 13]\n"
          ]
        }
      ]
    },
    {
      "cell_type": "code",
      "source": [
        "c = np.add(a, b)\n",
        "c"
      ],
      "metadata": {
        "colab": {
          "base_uri": "https://localhost:8080/"
        },
        "id": "KN3Hsm2xCugh",
        "outputId": "151fcb1c-387b-4197-e097-5b60c8b4ae99"
      },
      "execution_count": null,
      "outputs": [
        {
          "output_type": "execute_result",
          "data": {
            "text/plain": [
              "array([ 5,  7,  9, 11, 13])"
            ]
          },
          "metadata": {},
          "execution_count": 54
        }
      ]
    },
    {
      "cell_type": "markdown",
      "source": [
        "Массивы должны быть одинакового размера, если масивы разные то вылезет либо ошибка, либо дополнительные свойства."
      ],
      "metadata": {
        "id": "bg4-kbr316kI"
      }
    },
    {
      "cell_type": "markdown",
      "source": [
        "###Вычитание"
      ],
      "metadata": {
        "id": "GhBs1ip-DWvh"
      }
    },
    {
      "cell_type": "code",
      "source": [
        "f = np.array([5, 4, 8, 4, 3])\n",
        "k = np.array([3, 5, 7, 1, 3])"
      ],
      "metadata": {
        "id": "HjrFrPmtCTWo"
      },
      "execution_count": null,
      "outputs": []
    },
    {
      "cell_type": "code",
      "source": [
        "d = f - k\n",
        "d"
      ],
      "metadata": {
        "colab": {
          "base_uri": "https://localhost:8080/"
        },
        "id": "wTf-lHUeDgYC",
        "outputId": "ae35c2e6-4ad6-4e2a-f347-7b86831567a8"
      },
      "execution_count": null,
      "outputs": [
        {
          "output_type": "execute_result",
          "data": {
            "text/plain": [
              "array([ 2, -1,  1,  3,  0])"
            ]
          },
          "metadata": {},
          "execution_count": 56
        }
      ]
    },
    {
      "cell_type": "code",
      "source": [
        "d = np.subtract(f, k)\n",
        "d"
      ],
      "metadata": {
        "colab": {
          "base_uri": "https://localhost:8080/"
        },
        "id": "dRUd7HadD0ki",
        "outputId": "79c52558-a913-4a9b-baf3-c185adc172e7"
      },
      "execution_count": null,
      "outputs": [
        {
          "output_type": "execute_result",
          "data": {
            "text/plain": [
              "array([ 2, -1,  1,  3,  0])"
            ]
          },
          "metadata": {},
          "execution_count": 57
        }
      ]
    },
    {
      "cell_type": "markdown",
      "source": [
        "Массивы должны быть одинакового рамера"
      ],
      "metadata": {
        "id": "-EXeAq_pK1rC"
      }
    },
    {
      "cell_type": "code",
      "source": [
        "f.shape == k.shape"
      ],
      "metadata": {
        "colab": {
          "base_uri": "https://localhost:8080/"
        },
        "id": "wVVfLsMdK7Ba",
        "outputId": "96ffd25a-8f6e-4624-9746-9044985df382"
      },
      "execution_count": null,
      "outputs": [
        {
          "output_type": "execute_result",
          "data": {
            "text/plain": [
              "True"
            ]
          },
          "metadata": {},
          "execution_count": 58
        }
      ]
    },
    {
      "cell_type": "markdown",
      "source": [
        "##Умножение вектора на скаляр"
      ],
      "metadata": {
        "id": "FYG55_7kyCcZ"
      }
    },
    {
      "cell_type": "code",
      "source": [
        "f"
      ],
      "metadata": {
        "colab": {
          "base_uri": "https://localhost:8080/"
        },
        "id": "xZkDZ2uELMpx",
        "outputId": "df7ced5b-6211-46df-e457-fa292a3c9067"
      },
      "execution_count": null,
      "outputs": [
        {
          "output_type": "execute_result",
          "data": {
            "text/plain": [
              "array([5, 4, 8, 4, 3])"
            ]
          },
          "metadata": {},
          "execution_count": 59
        }
      ]
    },
    {
      "cell_type": "code",
      "source": [
        "s = f * 2\n",
        "s"
      ],
      "metadata": {
        "colab": {
          "base_uri": "https://localhost:8080/"
        },
        "id": "KZEQnD9sLO6B",
        "outputId": "5104bb2e-b401-4a73-b6bb-2960c34f566e"
      },
      "execution_count": null,
      "outputs": [
        {
          "output_type": "execute_result",
          "data": {
            "text/plain": [
              "array([10,  8, 16,  8,  6])"
            ]
          },
          "metadata": {},
          "execution_count": 60
        }
      ]
    },
    {
      "cell_type": "code",
      "source": [
        "s_1 = f ** 3\n",
        "s_1"
      ],
      "metadata": {
        "colab": {
          "base_uri": "https://localhost:8080/"
        },
        "id": "NtNpPoTpLVg4",
        "outputId": "09d83446-8907-40f3-ec34-30a238fa92ee"
      },
      "execution_count": null,
      "outputs": [
        {
          "output_type": "execute_result",
          "data": {
            "text/plain": [
              "array([125,  64, 512,  64,  27])"
            ]
          },
          "metadata": {},
          "execution_count": 61
        }
      ]
    },
    {
      "cell_type": "code",
      "source": [
        "s_2 = f ** 0.5\n",
        "s_2"
      ],
      "metadata": {
        "colab": {
          "base_uri": "https://localhost:8080/"
        },
        "id": "ZsLvgtCuLh3p",
        "outputId": "0d9e3cd3-bfa9-4824-dcdb-b6171013bc3c"
      },
      "execution_count": null,
      "outputs": [
        {
          "output_type": "execute_result",
          "data": {
            "text/plain": [
              "array([2.23606798, 2.        , 2.82842712, 2.        , 1.73205081])"
            ]
          },
          "metadata": {},
          "execution_count": 62
        }
      ]
    },
    {
      "cell_type": "code",
      "source": [
        "s_3 = f // 2\n",
        "s_3"
      ],
      "metadata": {
        "colab": {
          "base_uri": "https://localhost:8080/"
        },
        "id": "5S6bKh7pMJoR",
        "outputId": "9597e971-8b44-4c5e-8561-e0c44280e9a2"
      },
      "execution_count": null,
      "outputs": [
        {
          "output_type": "execute_result",
          "data": {
            "text/plain": [
              "array([2, 2, 4, 2, 1])"
            ]
          },
          "metadata": {},
          "execution_count": 63
        }
      ]
    },
    {
      "cell_type": "code",
      "source": [
        "s_4 = -1 ** f\n",
        "s_4"
      ],
      "metadata": {
        "colab": {
          "base_uri": "https://localhost:8080/"
        },
        "id": "vUg4DkbSMr3y",
        "outputId": "818d2af2-91f8-4c05-9e1a-997b4ddf8946"
      },
      "execution_count": null,
      "outputs": [
        {
          "output_type": "execute_result",
          "data": {
            "text/plain": [
              "array([-1, -1, -1, -1, -1])"
            ]
          },
          "metadata": {},
          "execution_count": 64
        }
      ]
    },
    {
      "cell_type": "markdown",
      "source": [
        "Списки в Numpy ведут себя по другому"
      ],
      "metadata": {
        "id": "5l2r7fEANLE1"
      }
    },
    {
      "cell_type": "code",
      "source": [
        "5 * [1, 2, 3, 4]"
      ],
      "metadata": {
        "colab": {
          "base_uri": "https://localhost:8080/"
        },
        "id": "UkWI1W4SM3GL",
        "outputId": "6d52c398-177d-4673-ae32-c67fa2931f92"
      },
      "execution_count": null,
      "outputs": [
        {
          "output_type": "execute_result",
          "data": {
            "text/plain": [
              "[1, 2, 3, 4, 1, 2, 3, 4, 1, 2, 3, 4, 1, 2, 3, 4, 1, 2, 3, 4]"
            ]
          },
          "metadata": {},
          "execution_count": 65
        }
      ]
    },
    {
      "cell_type": "markdown",
      "source": [
        "Альтернативные способы"
      ],
      "metadata": {
        "id": "y71yNqETNUwD"
      }
    },
    {
      "cell_type": "code",
      "source": [
        "# Вариант 1 (метод)\n",
        "f.dot(-10)"
      ],
      "metadata": {
        "colab": {
          "base_uri": "https://localhost:8080/"
        },
        "id": "Imjq-gndNYKU",
        "outputId": "8aab9f53-d5ed-4d8e-e274-8788fd27eade"
      },
      "execution_count": null,
      "outputs": [
        {
          "output_type": "execute_result",
          "data": {
            "text/plain": [
              "array([-50, -40, -80, -40, -30])"
            ]
          },
          "metadata": {},
          "execution_count": 66
        }
      ]
    },
    {
      "cell_type": "code",
      "source": [
        "# Вариант 2 (функция)\n",
        "np.dot(-10, f)"
      ],
      "metadata": {
        "colab": {
          "base_uri": "https://localhost:8080/"
        },
        "id": "8prjs160Z93Q",
        "outputId": "d6fc8a99-e48f-4a93-e2cd-2e9967f3cd12"
      },
      "execution_count": null,
      "outputs": [
        {
          "output_type": "execute_result",
          "data": {
            "text/plain": [
              "array([-50, -40, -80, -40, -30])"
            ]
          },
          "metadata": {},
          "execution_count": 67
        }
      ]
    },
    {
      "cell_type": "code",
      "source": [
        "# Вариант 3\n",
        "np.multiply(-10, f)"
      ],
      "metadata": {
        "colab": {
          "base_uri": "https://localhost:8080/"
        },
        "id": "1B7DE7H5pchy",
        "outputId": "5f1649a5-2423-4112-e0b8-9bee20af6cdd"
      },
      "execution_count": null,
      "outputs": [
        {
          "output_type": "execute_result",
          "data": {
            "text/plain": [
              "array([-50, -40, -80, -40, -30])"
            ]
          },
          "metadata": {},
          "execution_count": 68
        }
      ]
    },
    {
      "cell_type": "markdown",
      "source": [
        "##Скалярное произведение векторов"
      ],
      "metadata": {
        "id": "QB28pRy-yKYv"
      }
    },
    {
      "cell_type": "markdown",
      "source": [
        "Векторы должны быть одинаковой размерности"
      ],
      "metadata": {
        "id": "-liK95-RptV7"
      }
    },
    {
      "cell_type": "code",
      "source": [
        "x = np.array([1, 2, 3])\n",
        "y = np.array([4, 5, 6])"
      ],
      "metadata": {
        "id": "lU6UJ8qSpzn6"
      },
      "execution_count": null,
      "outputs": []
    },
    {
      "cell_type": "code",
      "source": [
        "sp = x[0] * y[0] + x[1] * y[1] + x[2] * y[2]\n",
        "sp"
      ],
      "metadata": {
        "colab": {
          "base_uri": "https://localhost:8080/"
        },
        "id": "XsNblNCXqSAi",
        "outputId": "f5834736-a988-48c7-84cf-c4bce5c4224b"
      },
      "execution_count": null,
      "outputs": [
        {
          "output_type": "execute_result",
          "data": {
            "text/plain": [
              "32"
            ]
          },
          "metadata": {},
          "execution_count": 70
        }
      ]
    },
    {
      "cell_type": "code",
      "source": [
        "x @ y"
      ],
      "metadata": {
        "colab": {
          "base_uri": "https://localhost:8080/"
        },
        "id": "BPm9mwwnqqVi",
        "outputId": "5a5bbf45-d6ab-48cb-b5e5-77f2dc18645c"
      },
      "execution_count": null,
      "outputs": [
        {
          "output_type": "execute_result",
          "data": {
            "text/plain": [
              "32"
            ]
          },
          "metadata": {},
          "execution_count": 71
        }
      ]
    },
    {
      "cell_type": "code",
      "source": [
        "sp = np.dot(x, y)\n",
        "sp"
      ],
      "metadata": {
        "colab": {
          "base_uri": "https://localhost:8080/"
        },
        "id": "mZ7rsaT2quvx",
        "outputId": "349ef9cd-482c-447f-a0e3-e0294d64a1c3"
      },
      "execution_count": null,
      "outputs": [
        {
          "output_type": "execute_result",
          "data": {
            "text/plain": [
              "32"
            ]
          },
          "metadata": {},
          "execution_count": 72
        }
      ]
    },
    {
      "cell_type": "markdown",
      "source": [
        "##Сложение и вычитание матриц"
      ],
      "metadata": {
        "id": "l-ODPTjuyTpv"
      }
    },
    {
      "cell_type": "code",
      "source": [
        "A = np.array([[0, 1], [2, 3], [4, 5]])\n",
        "A"
      ],
      "metadata": {
        "colab": {
          "base_uri": "https://localhost:8080/"
        },
        "id": "G1bultt4rIah",
        "outputId": "12deb553-489a-4a26-ebb2-fa736df49ce7"
      },
      "execution_count": null,
      "outputs": [
        {
          "output_type": "execute_result",
          "data": {
            "text/plain": [
              "array([[0, 1],\n",
              "       [2, 3],\n",
              "       [4, 5]])"
            ]
          },
          "metadata": {},
          "execution_count": 97
        }
      ]
    },
    {
      "cell_type": "code",
      "source": [
        "B = np.array([[6, 7], [8, 9], [10, 11]])\n",
        "B"
      ],
      "metadata": {
        "colab": {
          "base_uri": "https://localhost:8080/"
        },
        "id": "YX75dehmrdWi",
        "outputId": "41bbe63f-56c0-4490-925c-676e9a647930"
      },
      "execution_count": null,
      "outputs": [
        {
          "output_type": "execute_result",
          "data": {
            "text/plain": [
              "array([[ 6,  7],\n",
              "       [ 8,  9],\n",
              "       [10, 11]])"
            ]
          },
          "metadata": {},
          "execution_count": 74
        }
      ]
    },
    {
      "cell_type": "code",
      "source": [
        "C = A + B\n",
        "C"
      ],
      "metadata": {
        "colab": {
          "base_uri": "https://localhost:8080/"
        },
        "id": "j52IhuAsrw66",
        "outputId": "fd124210-74e3-4113-b3a8-d7eed96e0ccf"
      },
      "execution_count": null,
      "outputs": [
        {
          "output_type": "execute_result",
          "data": {
            "text/plain": [
              "array([[ 6,  8],\n",
              "       [10, 12],\n",
              "       [14, 16]])"
            ]
          },
          "metadata": {},
          "execution_count": 75
        }
      ]
    },
    {
      "cell_type": "markdown",
      "source": [
        "Альтернативный способ"
      ],
      "metadata": {
        "id": "T56TlQADsDv7"
      }
    },
    {
      "cell_type": "code",
      "source": [
        "C = np.add(A, B)\n",
        "C"
      ],
      "metadata": {
        "colab": {
          "base_uri": "https://localhost:8080/"
        },
        "id": "hU-wfeYGslki",
        "outputId": "c97d07d5-0cc4-4db9-e9dc-0f1ed32cbfb4"
      },
      "execution_count": null,
      "outputs": [
        {
          "output_type": "execute_result",
          "data": {
            "text/plain": [
              "array([[ 6,  8],\n",
              "       [10, 12],\n",
              "       [14, 16]])"
            ]
          },
          "metadata": {},
          "execution_count": 76
        }
      ]
    },
    {
      "cell_type": "code",
      "source": [
        "D = A - B\n",
        "D"
      ],
      "metadata": {
        "colab": {
          "base_uri": "https://localhost:8080/"
        },
        "id": "TvBIuyhAtCKq",
        "outputId": "a41ded77-65a5-4816-82d9-01cb4b851c8e"
      },
      "execution_count": null,
      "outputs": [
        {
          "output_type": "execute_result",
          "data": {
            "text/plain": [
              "array([[-6, -6],\n",
              "       [-6, -6],\n",
              "       [-6, -6]])"
            ]
          },
          "metadata": {},
          "execution_count": 77
        }
      ]
    },
    {
      "cell_type": "code",
      "source": [
        "D = np.subtract(B, A)\n",
        "D"
      ],
      "metadata": {
        "colab": {
          "base_uri": "https://localhost:8080/"
        },
        "id": "KjGWPOGLtIi6",
        "outputId": "07009f27-d1ba-4d22-beb5-97579e1b59e5"
      },
      "execution_count": null,
      "outputs": [
        {
          "output_type": "execute_result",
          "data": {
            "text/plain": [
              "array([[6, 6],\n",
              "       [6, 6],\n",
              "       [6, 6]])"
            ]
          },
          "metadata": {},
          "execution_count": 78
        }
      ]
    },
    {
      "cell_type": "markdown",
      "source": [
        "##Умножение матрицы на скаляр"
      ],
      "metadata": {
        "id": "GvKycI2NyabB"
      }
    },
    {
      "cell_type": "code",
      "source": [
        "B"
      ],
      "metadata": {
        "colab": {
          "base_uri": "https://localhost:8080/"
        },
        "id": "O8dkWOhnth5J",
        "outputId": "c1ce9e0f-d66f-4279-f57e-8a07793c413d"
      },
      "execution_count": null,
      "outputs": [
        {
          "output_type": "execute_result",
          "data": {
            "text/plain": [
              "array([[ 6,  7],\n",
              "       [ 8,  9],\n",
              "       [10, 11]])"
            ]
          },
          "metadata": {},
          "execution_count": 79
        }
      ]
    },
    {
      "cell_type": "code",
      "source": [
        "X = B * 3\n",
        "X"
      ],
      "metadata": {
        "colab": {
          "base_uri": "https://localhost:8080/"
        },
        "id": "2tcHJpkutlAJ",
        "outputId": "b6dbdaa9-cfe5-40e5-f574-f1b69011406f"
      },
      "execution_count": null,
      "outputs": [
        {
          "output_type": "execute_result",
          "data": {
            "text/plain": [
              "array([[18, 21],\n",
              "       [24, 27],\n",
              "       [30, 33]])"
            ]
          },
          "metadata": {},
          "execution_count": 80
        }
      ]
    },
    {
      "cell_type": "markdown",
      "source": [
        "Альтернативный способ."
      ],
      "metadata": {
        "id": "MDSH_R9JtsV6"
      }
    },
    {
      "cell_type": "code",
      "source": [
        "X = np.dot(B, 3)\n",
        "X"
      ],
      "metadata": {
        "colab": {
          "base_uri": "https://localhost:8080/"
        },
        "id": "ZmuVb2vPtr6K",
        "outputId": "778c25fe-3611-4259-ae11-70882d7c986e"
      },
      "execution_count": null,
      "outputs": [
        {
          "output_type": "execute_result",
          "data": {
            "text/plain": [
              "array([[18, 21],\n",
              "       [24, 27],\n",
              "       [30, 33]])"
            ]
          },
          "metadata": {},
          "execution_count": 81
        }
      ]
    },
    {
      "cell_type": "markdown",
      "source": [
        "#Применение Nympy для линейной алгебры - Часть 2"
      ],
      "metadata": {
        "id": "bmrgzaG5uMzh"
      }
    },
    {
      "cell_type": "markdown",
      "source": [
        "##Умножение и возведение в степень матриц"
      ],
      "metadata": {
        "id": "s5ZQy4aPuPFZ"
      }
    },
    {
      "cell_type": "code",
      "source": [
        "X1 = np.array([[1, 2], [3, 4], [5,6]])\n",
        "X1"
      ],
      "metadata": {
        "colab": {
          "base_uri": "https://localhost:8080/"
        },
        "id": "gFe6m81D2mbC",
        "outputId": "02c19f4d-86cb-4fa8-8201-99ce292b778b"
      },
      "execution_count": null,
      "outputs": [
        {
          "output_type": "execute_result",
          "data": {
            "text/plain": [
              "array([[1, 2],\n",
              "       [3, 4],\n",
              "       [5, 6]])"
            ]
          },
          "metadata": {},
          "execution_count": 82
        }
      ]
    },
    {
      "cell_type": "code",
      "source": [
        "X2 = np.array([[7, 8, 9, 10], [11, 12, 13, 14]])\n",
        "X2"
      ],
      "metadata": {
        "colab": {
          "base_uri": "https://localhost:8080/"
        },
        "id": "KHNnm9ZW24UU",
        "outputId": "ef30fd3d-f77e-431d-80ba-88fe5669c84f"
      },
      "execution_count": null,
      "outputs": [
        {
          "output_type": "execute_result",
          "data": {
            "text/plain": [
              "array([[ 7,  8,  9, 10],\n",
              "       [11, 12, 13, 14]])"
            ]
          },
          "metadata": {},
          "execution_count": 83
        }
      ]
    },
    {
      "cell_type": "markdown",
      "source": [
        "Число столбцов первой матрицы, должно равняться числу строк второй матрицы"
      ],
      "metadata": {
        "id": "gjEG_PCo3bjo"
      }
    },
    {
      "cell_type": "code",
      "source": [
        "print(X1.shape, X2.shape)"
      ],
      "metadata": {
        "colab": {
          "base_uri": "https://localhost:8080/"
        },
        "id": "wf0SFkXK4YvW",
        "outputId": "49bf787d-2f04-4567-c98a-81750dedb6f4"
      },
      "execution_count": null,
      "outputs": [
        {
          "output_type": "stream",
          "name": "stdout",
          "text": [
            "(3, 2) (2, 4)\n"
          ]
        }
      ]
    },
    {
      "cell_type": "code",
      "source": [
        "X1.shape[1] == X2.shape[0]"
      ],
      "metadata": {
        "colab": {
          "base_uri": "https://localhost:8080/"
        },
        "id": "rFIkV5_J3qOd",
        "outputId": "c2809475-6ad8-42c2-d922-8ef60917a763"
      },
      "execution_count": null,
      "outputs": [
        {
          "output_type": "execute_result",
          "data": {
            "text/plain": [
              "True"
            ]
          },
          "metadata": {},
          "execution_count": 85
        }
      ]
    },
    {
      "cell_type": "code",
      "source": [
        "Z = np.dot(X1, X2)\n",
        "print(Z, '\\n', Z.shape)"
      ],
      "metadata": {
        "colab": {
          "base_uri": "https://localhost:8080/"
        },
        "id": "5B9Pfga04BWP",
        "outputId": "c29fcf17-06bd-4804-f99d-3fab8bf0956f"
      },
      "execution_count": null,
      "outputs": [
        {
          "output_type": "stream",
          "name": "stdout",
          "text": [
            "[[ 29  32  35  38]\n",
            " [ 65  72  79  86]\n",
            " [101 112 123 134]] \n",
            " (3, 4)\n"
          ]
        }
      ]
    },
    {
      "cell_type": "markdown",
      "source": [
        "Как это считается?"
      ],
      "metadata": {
        "id": "UdcbZ3mq9NOU"
      }
    },
    {
      "cell_type": "code",
      "source": [
        "Z[0, 0]"
      ],
      "metadata": {
        "colab": {
          "base_uri": "https://localhost:8080/"
        },
        "id": "__7_VOW59SIR",
        "outputId": "96752499-d5d2-4549-a14a-76ada36a392c"
      },
      "execution_count": null,
      "outputs": [
        {
          "output_type": "execute_result",
          "data": {
            "text/plain": [
              "29"
            ]
          },
          "metadata": {},
          "execution_count": 87
        }
      ]
    },
    {
      "cell_type": "code",
      "source": [
        "X1[0, 0] * X2[0, 0] + X1[0, 1] * X2[1, 0]"
      ],
      "metadata": {
        "colab": {
          "base_uri": "https://localhost:8080/"
        },
        "id": "N0ZqXQQn9YIq",
        "outputId": "d232f1bf-69c7-4405-a35c-47b41a416140"
      },
      "execution_count": null,
      "outputs": [
        {
          "output_type": "execute_result",
          "data": {
            "text/plain": [
              "29"
            ]
          },
          "metadata": {},
          "execution_count": 88
        }
      ]
    },
    {
      "cell_type": "code",
      "source": [
        "Z[0, 1] #Нулевой строки и 1 столбца"
      ],
      "metadata": {
        "colab": {
          "base_uri": "https://localhost:8080/"
        },
        "id": "DPMDRJfX-R15",
        "outputId": "3f57f620-34b6-45ac-800a-e43e9c166160"
      },
      "execution_count": null,
      "outputs": [
        {
          "output_type": "execute_result",
          "data": {
            "text/plain": [
              "32"
            ]
          },
          "metadata": {},
          "execution_count": 89
        }
      ]
    },
    {
      "cell_type": "code",
      "source": [
        "X1[0, 0] * X2[0, 1] + X1[0, 1] * X2[1, 1]"
      ],
      "metadata": {
        "colab": {
          "base_uri": "https://localhost:8080/"
        },
        "id": "MNde1S6y-gzC",
        "outputId": "6c1626d1-2b70-4b8a-f5eb-c94a3d4c3d9e"
      },
      "execution_count": null,
      "outputs": [
        {
          "output_type": "execute_result",
          "data": {
            "text/plain": [
              "32"
            ]
          },
          "metadata": {},
          "execution_count": 90
        }
      ]
    },
    {
      "cell_type": "markdown",
      "source": [
        "Возведение в степень"
      ],
      "metadata": {
        "id": "7Ppesro8--bd"
      }
    },
    {
      "cell_type": "code",
      "source": [
        "A = np.array([[1, 2, 3], [4, 5, 6], [7, 8, 9]]) #Матрица должна быть квадратной\n",
        "A"
      ],
      "metadata": {
        "colab": {
          "base_uri": "https://localhost:8080/"
        },
        "id": "czDWnoDG_CGD",
        "outputId": "4c62f1ab-facb-4fb3-f32d-5f3da4db684f"
      },
      "execution_count": null,
      "outputs": [
        {
          "output_type": "execute_result",
          "data": {
            "text/plain": [
              "array([[1, 2, 3],\n",
              "       [4, 5, 6],\n",
              "       [7, 8, 9]])"
            ]
          },
          "metadata": {},
          "execution_count": 91
        }
      ]
    },
    {
      "cell_type": "code",
      "source": [
        "A_sq = np.dot(A, A)\n",
        "A_sq"
      ],
      "metadata": {
        "colab": {
          "base_uri": "https://localhost:8080/"
        },
        "id": "cDi5zm8lJMro",
        "outputId": "3b3394f2-f998-4569-81af-420689060024"
      },
      "execution_count": null,
      "outputs": [
        {
          "output_type": "execute_result",
          "data": {
            "text/plain": [
              "array([[ 30,  36,  42],\n",
              "       [ 66,  81,  96],\n",
              "       [102, 126, 150]])"
            ]
          },
          "metadata": {},
          "execution_count": 92
        }
      ]
    },
    {
      "cell_type": "code",
      "source": [
        "A_sq = np.linalg.matrix_power(A, 3) # Показатель степени: неотрицательное целое число\n",
        "A_sq"
      ],
      "metadata": {
        "colab": {
          "base_uri": "https://localhost:8080/"
        },
        "id": "wDxYkcVKJagZ",
        "outputId": "b34ff42f-14a2-4e52-ff87-9fdab078927f"
      },
      "execution_count": null,
      "outputs": [
        {
          "output_type": "execute_result",
          "data": {
            "text/plain": [
              "array([[ 468,  576,  684],\n",
              "       [1062, 1305, 1548],\n",
              "       [1656, 2034, 2412]])"
            ]
          },
          "metadata": {},
          "execution_count": 93
        }
      ]
    },
    {
      "cell_type": "markdown",
      "source": [
        "##Единичная матрица\n",
        "Единичная матрица - это квадратная матруца у которой по главной диагонали (левый верхний угол до правого нижнего) единицы, в остальных позициях нули."
      ],
      "metadata": {
        "id": "i42xnv6AuQkJ"
      }
    },
    {
      "cell_type": "code",
      "source": [
        "I = np.eye(3, dtype=int)\n",
        "I"
      ],
      "metadata": {
        "colab": {
          "base_uri": "https://localhost:8080/"
        },
        "id": "iAZNdlZ_KKmy",
        "outputId": "ad69cf37-6269-4064-fba2-2365561c2db5"
      },
      "execution_count": null,
      "outputs": [
        {
          "output_type": "execute_result",
          "data": {
            "text/plain": [
              "array([[1, 0, 0],\n",
              "       [0, 1, 0],\n",
              "       [0, 0, 1]])"
            ]
          },
          "metadata": {},
          "execution_count": 94
        }
      ]
    },
    {
      "cell_type": "code",
      "source": [
        "C = np.dot(A_sq, I)\n",
        "C"
      ],
      "metadata": {
        "colab": {
          "base_uri": "https://localhost:8080/"
        },
        "id": "SumWxrCzLS4Z",
        "outputId": "2f0d5fc0-f51e-4419-f193-0b222a423071"
      },
      "execution_count": null,
      "outputs": [
        {
          "output_type": "execute_result",
          "data": {
            "text/plain": [
              "array([[ 468,  576,  684],\n",
              "       [1062, 1305, 1548],\n",
              "       [1656, 2034, 2412]])"
            ]
          },
          "metadata": {},
          "execution_count": 95
        }
      ]
    },
    {
      "cell_type": "code",
      "source": [
        "Aa = np.array([[1, 2], [3, 4], [5,6]])\n",
        "Aa"
      ],
      "metadata": {
        "id": "yKinDCDhreqL",
        "outputId": "61a52a07-720b-4725-83cf-0dd6abdacf8e",
        "colab": {
          "base_uri": "https://localhost:8080/"
        }
      },
      "execution_count": null,
      "outputs": [
        {
          "output_type": "execute_result",
          "data": {
            "text/plain": [
              "array([[1, 2],\n",
              "       [3, 4],\n",
              "       [5, 6]])"
            ]
          },
          "metadata": {},
          "execution_count": 99
        }
      ]
    },
    {
      "cell_type": "code",
      "source": [
        "I = np.eye(2)\n",
        "I"
      ],
      "metadata": {
        "id": "TqsBwrA5sXfZ",
        "outputId": "904efa00-314a-401e-dd5a-8bca9f9556a8",
        "colab": {
          "base_uri": "https://localhost:8080/"
        }
      },
      "execution_count": null,
      "outputs": [
        {
          "output_type": "execute_result",
          "data": {
            "text/plain": [
              "array([[1., 0.],\n",
              "       [0., 1.]])"
            ]
          },
          "metadata": {},
          "execution_count": 100
        }
      ]
    },
    {
      "cell_type": "code",
      "source": [
        "np.dot(I, Aa)"
      ],
      "metadata": {
        "id": "XbVJ0m0esitZ",
        "outputId": "c589ee86-a2aa-4315-eea8-0f194b71a18b",
        "colab": {
          "base_uri": "https://localhost:8080/"
        }
      },
      "execution_count": null,
      "outputs": [
        {
          "output_type": "execute_result",
          "data": {
            "text/plain": [
              "array([[1., 2.],\n",
              "       [3., 4.],\n",
              "       [5., 6.]])"
            ]
          },
          "metadata": {},
          "execution_count": 105
        }
      ]
    },
    {
      "cell_type": "code",
      "source": [
        "I = np.eye(3)\n",
        "I"
      ],
      "metadata": {
        "id": "AoM1eoiqs03Y",
        "outputId": "637998b4-c910-4f5d-e9a3-0eebfb0e3d4e",
        "colab": {
          "base_uri": "https://localhost:8080/"
        }
      },
      "execution_count": null,
      "outputs": [
        {
          "output_type": "execute_result",
          "data": {
            "text/plain": [
              "array([[1., 0., 0.],\n",
              "       [0., 1., 0.],\n",
              "       [0., 0., 1.]])"
            ]
          },
          "metadata": {},
          "execution_count": 102
        }
      ]
    },
    {
      "cell_type": "code",
      "source": [
        "np.dot(I, Aa)"
      ],
      "metadata": {
        "id": "euRbHQ4qs-tD",
        "outputId": "b7724c7e-21a7-42ba-ba92-365f76da6a53",
        "colab": {
          "base_uri": "https://localhost:8080/"
        }
      },
      "execution_count": null,
      "outputs": [
        {
          "output_type": "execute_result",
          "data": {
            "text/plain": [
              "array([[1., 2.],\n",
              "       [3., 4.],\n",
              "       [5., 6.]])"
            ]
          },
          "metadata": {},
          "execution_count": 104
        }
      ]
    },
    {
      "cell_type": "markdown",
      "source": [
        "##Транспонирование матриц"
      ],
      "metadata": {
        "id": "-FDlKYrXuRwJ"
      }
    },
    {
      "cell_type": "code",
      "source": [
        "Aa_t = np.transpose(Aa)\n",
        "Aa_t"
      ],
      "metadata": {
        "id": "_-E4sDyLtYoa",
        "outputId": "76aa738e-deee-4cc3-e734-92b8fad9be3d",
        "colab": {
          "base_uri": "https://localhost:8080/"
        }
      },
      "execution_count": null,
      "outputs": [
        {
          "output_type": "execute_result",
          "data": {
            "text/plain": [
              "array([[1, 3, 5],\n",
              "       [2, 4, 6]])"
            ]
          },
          "metadata": {},
          "execution_count": 106
        }
      ]
    },
    {
      "cell_type": "markdown",
      "source": [
        "Альтернативный вариант"
      ],
      "metadata": {
        "id": "GbZ1-elatlJT"
      }
    },
    {
      "cell_type": "code",
      "source": [
        "Aa_t = Aa.T\n",
        "Aa_t"
      ],
      "metadata": {
        "id": "_TPS7aAnttgC",
        "outputId": "6e5664f8-1428-4cb3-b606-4493cb185284",
        "colab": {
          "base_uri": "https://localhost:8080/"
        }
      },
      "execution_count": null,
      "outputs": [
        {
          "output_type": "execute_result",
          "data": {
            "text/plain": [
              "array([[1, 3, 5],\n",
              "       [2, 4, 6]])"
            ]
          },
          "metadata": {},
          "execution_count": 107
        }
      ]
    },
    {
      "cell_type": "markdown",
      "source": [
        "###Рассмотрим матрицу X и Y."
      ],
      "metadata": {
        "id": "s2rm9pdUvFjh"
      }
    },
    {
      "cell_type": "code",
      "source": [
        "X = np.array([[1, 2], [3, 4], [5,6]])\n",
        "X"
      ],
      "metadata": {
        "id": "vzR0BxZtvLvB",
        "outputId": "e4033cd3-a1e8-4b34-e0ce-4e2ac9dddc11",
        "colab": {
          "base_uri": "https://localhost:8080/"
        }
      },
      "execution_count": null,
      "outputs": [
        {
          "output_type": "execute_result",
          "data": {
            "text/plain": [
              "array([[1, 2],\n",
              "       [3, 4],\n",
              "       [5, 6]])"
            ]
          },
          "metadata": {},
          "execution_count": 108
        }
      ]
    },
    {
      "cell_type": "code",
      "source": [
        "Y = np.array([[0, 1], [3, 4], [6, 7], [2, 5]])\n",
        "Y"
      ],
      "metadata": {
        "id": "ETe4dUm7wS2j",
        "outputId": "44cd1892-2ab7-4568-c532-6f4321625c9e",
        "colab": {
          "base_uri": "https://localhost:8080/"
        }
      },
      "execution_count": null,
      "outputs": [
        {
          "output_type": "execute_result",
          "data": {
            "text/plain": [
              "array([[0, 1],\n",
              "       [3, 4],\n",
              "       [6, 7],\n",
              "       [2, 5]])"
            ]
          },
          "metadata": {},
          "execution_count": 109
        }
      ]
    },
    {
      "cell_type": "code",
      "source": [
        "Yt = Y.T\n",
        "Yt"
      ],
      "metadata": {
        "id": "MovBI5Fhxikh",
        "outputId": "e11a4d45-f917-4df4-d734-8d1c501bb7c5",
        "colab": {
          "base_uri": "https://localhost:8080/"
        }
      },
      "execution_count": null,
      "outputs": [
        {
          "output_type": "execute_result",
          "data": {
            "text/plain": [
              "array([[0, 3, 6, 2],\n",
              "       [1, 4, 7, 5]])"
            ]
          },
          "metadata": {},
          "execution_count": 110
        }
      ]
    },
    {
      "cell_type": "code",
      "source": [
        "np.dot(X, Yt)"
      ],
      "metadata": {
        "id": "VXg-xOoWx3aq",
        "outputId": "27263905-e6fe-42b5-edf9-ba4805def73f",
        "colab": {
          "base_uri": "https://localhost:8080/"
        }
      },
      "execution_count": null,
      "outputs": [
        {
          "output_type": "execute_result",
          "data": {
            "text/plain": [
              "array([[ 2, 11, 20, 12],\n",
              "       [ 4, 25, 46, 26],\n",
              "       [ 6, 39, 72, 40]])"
            ]
          },
          "metadata": {},
          "execution_count": 111
        }
      ]
    },
    {
      "cell_type": "markdown",
      "source": [
        "##Определитель и ранг матрицы"
      ],
      "metadata": {
        "id": "tVSvmzscuSuJ"
      }
    },
    {
      "cell_type": "markdown",
      "source": [
        "33:30"
      ],
      "metadata": {
        "id": "chkmZY9y4fGT"
      }
    },
    {
      "cell_type": "markdown",
      "source": [
        "##Обратная матрица"
      ],
      "metadata": {
        "id": "qJtHBfHKuTfR"
      }
    },
    {
      "cell_type": "markdown",
      "source": [
        "##"
      ],
      "metadata": {
        "id": "t8cGVk5_uUga"
      }
    },
    {
      "cell_type": "markdown",
      "source": [
        "##"
      ],
      "metadata": {
        "id": "w9rI6fRxuVy5"
      }
    }
  ],
  "metadata": {
    "colab": {
      "provenance": [],
      "toc_visible": true,
      "include_colab_link": true
    },
    "kernelspec": {
      "display_name": "Python 3",
      "name": "python3"
    }
  },
  "nbformat": 4,
  "nbformat_minor": 0
}