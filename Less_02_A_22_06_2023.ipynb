{
  "cells": [
    {
      "cell_type": "markdown",
      "metadata": {
        "id": "view-in-github",
        "colab_type": "text"
      },
      "source": [
        "<a href=\"https://colab.research.google.com/github/MaximTislenko/GeekBrains/blob/main/Less_02_A_22_06_2023.ipynb\" target=\"_parent\"><img src=\"https://colab.research.google.com/assets/colab-badge.svg\" alt=\"Open In Colab\"/></a>"
      ]
    },
    {
      "cell_type": "markdown",
      "source": [
        "#Лекция №2"
      ],
      "metadata": {
        "id": "WZnd2o7aEimI"
      }
    },
    {
      "cell_type": "code",
      "source": [
        "%lsmagic"
      ],
      "metadata": {
        "id": "bSQaHOJ9Emxw",
        "outputId": "f6b0f36b-23d3-4f86-c7e3-fb3af4fd1fd2",
        "colab": {
          "base_uri": "https://localhost:8080/",
          "height": 225
        }
      },
      "execution_count": 74,
      "outputs": [
        {
          "output_type": "execute_result",
          "data": {
            "text/plain": [
              "Available line magics:\n",
              "%alias  %alias_magic  %autoawait  %autocall  %automagic  %autosave  %bookmark  %cat  %cd  %clear  %colors  %conda  %config  %connect_info  %cp  %debug  %dhist  %dirs  %doctest_mode  %ed  %edit  %env  %gui  %hist  %history  %killbgscripts  %ldir  %less  %lf  %lk  %ll  %load  %load_ext  %loadpy  %logoff  %logon  %logstart  %logstate  %logstop  %ls  %lsmagic  %lx  %macro  %magic  %man  %matplotlib  %mkdir  %more  %mv  %notebook  %page  %pastebin  %pdb  %pdef  %pdoc  %pfile  %pinfo  %pinfo2  %pip  %popd  %pprint  %precision  %prun  %psearch  %psource  %pushd  %pwd  %pycat  %pylab  %qtconsole  %quickref  %recall  %rehashx  %reload_ext  %rep  %rerun  %reset  %reset_selective  %rm  %rmdir  %run  %save  %sc  %set_env  %shell  %store  %sx  %system  %tb  %tensorflow_version  %time  %timeit  %unalias  %unload_ext  %who  %who_ls  %whos  %xdel  %xmode\n",
              "\n",
              "Available cell magics:\n",
              "%%!  %%HTML  %%SVG  %%bash  %%bigquery  %%capture  %%debug  %%file  %%html  %%javascript  %%js  %%latex  %%markdown  %%perl  %%prun  %%pypy  %%python  %%python2  %%python3  %%ruby  %%script  %%sh  %%shell  %%svg  %%sx  %%system  %%time  %%timeit  %%writefile\n",
              "\n",
              "Automagic is ON, % prefix IS NOT needed for line magics."
            ],
            "application/json": {
              "line": {
                "automagic": "AutoMagics",
                "autocall": "AutoMagics",
                "alias_magic": "BasicMagics",
                "lsmagic": "BasicMagics",
                "magic": "BasicMagics",
                "page": "BasicMagics",
                "pprint": "BasicMagics",
                "colors": "BasicMagics",
                "xmode": "BasicMagics",
                "quickref": "BasicMagics",
                "doctest_mode": "BasicMagics",
                "gui": "BasicMagics",
                "precision": "BasicMagics",
                "notebook": "BasicMagics",
                "save": "CodeMagics",
                "pastebin": "CodeMagics",
                "loadpy": "CodeMagics",
                "load": "CodeMagics",
                "edit": "KernelMagics",
                "config": "ConfigMagics",
                "prun": "ExecutionMagics",
                "pdb": "ExecutionMagics",
                "debug": "ExecutionMagics",
                "tb": "ExecutionMagics",
                "run": "ExecutionMagics",
                "timeit": "ExecutionMagics",
                "time": "ExecutionMagics",
                "macro": "ExecutionMagics",
                "load_ext": "ExtensionMagics",
                "unload_ext": "ExtensionMagics",
                "reload_ext": "ExtensionMagics",
                "history": "HistoryMagics",
                "recall": "HistoryMagics",
                "rerun": "HistoryMagics",
                "logstart": "LoggingMagics",
                "logstop": "LoggingMagics",
                "logoff": "LoggingMagics",
                "logon": "LoggingMagics",
                "logstate": "LoggingMagics",
                "pinfo": "NamespaceMagics",
                "pinfo2": "NamespaceMagics",
                "pdef": "NamespaceMagics",
                "pdoc": "NamespaceMagics",
                "psource": "NamespaceMagics",
                "pfile": "NamespaceMagics",
                "psearch": "NamespaceMagics",
                "who_ls": "NamespaceMagics",
                "who": "NamespaceMagics",
                "whos": "NamespaceMagics",
                "reset": "NamespaceMagics",
                "reset_selective": "NamespaceMagics",
                "xdel": "NamespaceMagics",
                "alias": "OSMagics",
                "unalias": "OSMagics",
                "rehashx": "OSMagics",
                "pwd": "OSMagics",
                "cd": "OSMagics",
                "env": "OSMagics",
                "set_env": "OSMagics",
                "pushd": "OSMagics",
                "popd": "OSMagics",
                "dirs": "OSMagics",
                "dhist": "OSMagics",
                "sc": "OSMagics",
                "sx": "OSMagics",
                "system": "OSMagics",
                "bookmark": "OSMagics",
                "pycat": "OSMagics",
                "pip": "Other",
                "conda": "PackagingMagics",
                "matplotlib": "PylabMagics",
                "pylab": "PylabMagics",
                "killbgscripts": "ScriptMagics",
                "autoawait": "AsyncMagics",
                "ed": "Other",
                "hist": "Other",
                "rep": "Other",
                "clear": "KernelMagics",
                "less": "KernelMagics",
                "more": "KernelMagics",
                "man": "KernelMagics",
                "connect_info": "KernelMagics",
                "qtconsole": "KernelMagics",
                "autosave": "KernelMagics",
                "mkdir": "Other",
                "rmdir": "Other",
                "mv": "Other",
                "rm": "Other",
                "cp": "Other",
                "cat": "Other",
                "ls": "Other",
                "ll": "Other",
                "lf": "Other",
                "lk": "Other",
                "ldir": "Other",
                "lx": "Other",
                "store": "StoreMagics",
                "shell": "Other",
                "tensorflow_version": "Other"
              },
              "cell": {
                "js": "DisplayMagics",
                "javascript": "DisplayMagics",
                "latex": "DisplayMagics",
                "svg": "DisplayMagics",
                "html": "DisplayMagics",
                "markdown": "DisplayMagics",
                "prun": "ExecutionMagics",
                "debug": "ExecutionMagics",
                "timeit": "ExecutionMagics",
                "time": "ExecutionMagics",
                "capture": "ExecutionMagics",
                "sx": "OSMagics",
                "system": "OSMagics",
                "!": "OSMagics",
                "writefile": "OSMagics",
                "script": "ScriptMagics",
                "sh": "Other",
                "bash": "Other",
                "perl": "Other",
                "ruby": "Other",
                "python": "Other",
                "python2": "Other",
                "python3": "Other",
                "pypy": "Other",
                "SVG": "Other",
                "HTML": "Other",
                "file": "Other",
                "bigquery": "Other",
                "shell": "Other"
              }
            }
          },
          "metadata": {},
          "execution_count": 74
        }
      ]
    },
    {
      "cell_type": "markdown",
      "source": [
        "##Важно\n",
        "***Для пользователей Jupyter: Magics специфичны для ядра IPython и предоставляются им. Решение о том, доступны ли Magics в ядре, принимается разработчиком ядра отдельно для каждого ядра. Для правильной работы Magics должен использовать элемент синтаксиса, недопустимый в базовом языке. Например, ядро IPython использует синтаксический элемент % для Magics, поскольку % не является допустимым унарным оператором в Python. Однако % может иметь значение на других языках.***"
      ],
      "metadata": {
        "id": "7Z0c5jyeY3-D"
      }
    },
    {
      "cell_type": "markdown",
      "source": [
        "##Магия линий\n",
        "####%alias - Определите псевдоним для системной команды. *%alias alias_name cmd* определяет *alias_name* как псевдоним для *cmd* . Затем при вводе «alias_name params» будет выполнена системная команда «cmd params» (из базовой операционной системы). Псевдонимы имеют более низкий приоритет, чем магические функции и обычные переменные Python, поэтому, если «foo» является одновременно переменной Python и псевдонимом, псевдоним не может быть выполнен до тех пор, пока «del foo» не удалит переменную Python. Вы можете использовать спецификатор %l в определении псевдонима для представления всей строки при вызове псевдонима. Например:\n",
        "* In [2]: alias bracket echo \"Input in brackets: <%l>\"\n",
        "* In [3]: bracket hello world\n",
        "* Input in brackets: <hello world>\n",
        "\n",
        "####Вы также можете определить псевдонимы с параметрами, используя спецификаторы %s (по одному на параметр):\n",
        "\n",
        "* In [1]: alias parts echo first %s second %s\n",
        "* In [2]: %parts A B\n",
        "* first A second B\n",
        "* In [3]: %parts A\n",
        "* Incorrect number of arguments: 2 expected.\n",
        "* parts is an alias to: 'echo first %s second %s'\n",
        "\n"
      ],
      "metadata": {
        "id": "sM3qyXXpYkri"
      }
    },
    {
      "cell_type": "markdown",
      "source": [
        "###Available line magics:\n",
        "%alias  %alias_magic  %autoawait  %autocall  %automagic  %autosave  %bookmark  %cat  %cd  %clear  %colors  %conda  %config  %connect_info  %cp  %debug  %dhist  %dirs  %doctest_mode  %ed  %edit  %env  %gui  %hist  %history  %killbgscripts  %ldir  %less  %lf  %lk  %ll  %load  %load_ext  %loadpy  %logoff  %logon  %logstart  %logstate  %logstop  %ls  %lsmagic  %lx  %macro  %magic  %man  %matplotlib  %mkdir  %more  %mv  %notebook  %page  %pastebin  %pdb  %pdef  %pdoc  %pfile  %pinfo  %pinfo2  %pip  %popd  %pprint  %precision  %prun  %psearch  %psource  %pushd  %pwd  %pycat  %pylab  %qtconsole  %quickref  %recall  %rehashx  %reload_ext  %rep  %rerun  %reset  %reset_selective  %rm  %rmdir  %run  %save  %sc  %set_env  %shell  %store  %sx  %system  %tb  %tensorflow_version  %time  %timeit  %unalias  %unload_ext  %who  %who_ls  %whos  %xdel  %xmode\n",
        "\n",
        "###Available cell magics:\n",
        "%%!  %%HTML  %%SVG  %%bash  %%bigquery  %%capture  %%debug  %%file  %%html  %%javascript  %%js  %%latex  %%markdown  %%perl  %%prun  %%pypy  %%python  %%python2  %%python3  %%ruby  %%script  %%sh  %%shell  %%svg  %%sx  %%system  %%time  %%timeit  %%writefile\n",
        "\n",
        "Автомагия включена, префикс % НЕ нужен для магии линий."
      ],
      "metadata": {
        "id": "qdlGq64cSgOZ"
      }
    },
    {
      "cell_type": "markdown",
      "source": [
        "##Примеры\n",
        "* *%run имя_скрипта.py* - выполнение скрипта Python, результат будет внутри колаба\n",
        "* *%load имя_скрипта.py* - сама команда законектится, а код окажется в ячейке\n",
        "* *%pycat имя_скрипта.py* - код окажется в нижней части страницы\n",
        "* *%%time* - за какое время выполнились команды содержащиеся в ячейке\n",
        "* *%%timeit* - время для быстрых команд"
      ],
      "metadata": {
        "id": "YNzxpXM1cuB1"
      }
    },
    {
      "cell_type": "code",
      "source": [
        "%%time\n",
        "for i in range(100):\n",
        "  for y in range(100):\n",
        "    for r in range(100):\n",
        "      pass"
      ],
      "metadata": {
        "id": "4dQ-MmFGig4W",
        "outputId": "78beaa2c-2e05-4617-8d4c-6630b4870d8f",
        "colab": {
          "base_uri": "https://localhost:8080/"
        }
      },
      "execution_count": 75,
      "outputs": [
        {
          "output_type": "stream",
          "name": "stdout",
          "text": [
            "CPU times: user 45.1 ms, sys: 0 ns, total: 45.1 ms\n",
            "Wall time: 45.2 ms\n"
          ]
        }
      ]
    },
    {
      "cell_type": "code",
      "source": [
        "%%timeit\n",
        "2**1000"
      ],
      "metadata": {
        "id": "CoyFiio0nBCI",
        "outputId": "16ce0e15-effd-4370-effb-521b1bcc87c2",
        "colab": {
          "base_uri": "https://localhost:8080/"
        }
      },
      "execution_count": 76,
      "outputs": [
        {
          "output_type": "stream",
          "name": "stdout",
          "text": [
            "1.05 µs ± 276 ns per loop (mean ± std. dev. of 7 runs, 1000000 loops each)\n"
          ]
        }
      ]
    },
    {
      "cell_type": "markdown",
      "source": [
        "##Запуск команд операционной системы"
      ],
      "metadata": {
        "id": "HRmThXs_yBGe"
      }
    },
    {
      "cell_type": "code",
      "source": [
        "!help dir -p"
      ],
      "metadata": {
        "id": "Oh-qBxVAxgV9",
        "outputId": "b3728751-b846-4cd9-edde-b90076b970d0",
        "colab": {
          "base_uri": "https://localhost:8080/"
        }
      },
      "execution_count": 77,
      "outputs": [
        {
          "output_type": "stream",
          "name": "stdout",
          "text": [
            "dirs: dirs [-clpv] [+N] [-N]\n",
            "    Display directory stack.\n",
            "    \n",
            "    Display the list of currently remembered directories.  Directories\n",
            "    find their way onto the list with the `pushd' command; you can get\n",
            "    back up through the list with the `popd' command.\n",
            "    \n",
            "    Options:\n",
            "      -c\tclear the directory stack by deleting all of the elements\n",
            "      -l\tdo not print tilde-prefixed versions of directories relative\n",
            "    \t\tto your home directory\n",
            "      -p\tprint the directory stack with one entry per line\n",
            "      -v\tprint the directory stack with one entry per line prefixed\n",
            "    \t\twith its position in the stack\n",
            "    \n",
            "    Arguments:\n",
            "      +N\tDisplays the Nth entry counting from the left of the list\n",
            "    \t\tshown by dirs when invoked without options, starting with\n",
            "    \t\tzero.\n",
            "    \n",
            "      -N\tDisplays the Nth entry counting from the right of the list\n",
            "    \t\tshown by dirs when invoked without options, starting with\n",
            "    \t\tzero.\n",
            "    \n",
            "    Exit Status:\n",
            "    Returns success unless an invalid option is supplied or an error occurs.\n"
          ]
        }
      ]
    },
    {
      "cell_type": "code",
      "source": [
        "!dir sample_data/ -p"
      ],
      "metadata": {
        "id": "KnOlrb4F0RP1",
        "outputId": "663b6ddf-ca13-4ded-ce78-93f5aecfdcdc",
        "colab": {
          "base_uri": "https://localhost:8080/"
        }
      },
      "execution_count": 78,
      "outputs": [
        {
          "output_type": "stream",
          "name": "stdout",
          "text": [
            "anscombe.json\t\t      mnist_test.csv\n",
            "california_housing_test.csv   mnist_train_small.csv\n",
            "california_housing_train.csv  README.md\n"
          ]
        }
      ]
    },
    {
      "cell_type": "markdown",
      "source": [
        "#Numpy"
      ],
      "metadata": {
        "id": "3TRnW-pg1CT3"
      }
    },
    {
      "cell_type": "code",
      "source": [
        "import numpy as np"
      ],
      "metadata": {
        "id": "kUKRBV0FBpoC"
      },
      "execution_count": 79,
      "outputs": []
    },
    {
      "cell_type": "markdown",
      "source": [
        "##Создание многомерных массивов Numpy"
      ],
      "metadata": {
        "id": "UImWmAvi1G3t"
      }
    },
    {
      "cell_type": "code",
      "source": [
        "a = [i for i in range(10, 40, 2)] # Это список\n",
        "print(a)"
      ],
      "metadata": {
        "id": "53ZEnxhi1kQv",
        "outputId": "8ecaed24-b134-428c-dd50-c34cbec110ff",
        "colab": {
          "base_uri": "https://localhost:8080/"
        }
      },
      "execution_count": 80,
      "outputs": [
        {
          "output_type": "stream",
          "name": "stdout",
          "text": [
            "[10, 12, 14, 16, 18, 20, 22, 24, 26, 28, 30, 32, 34, 36, 38]\n"
          ]
        }
      ]
    },
    {
      "cell_type": "code",
      "source": [
        "b = np.array(a)\n",
        "b"
      ],
      "metadata": {
        "id": "EA4jZNkjCtdq",
        "outputId": "24fa3e43-28b4-4ed5-bffe-dee7298aff9b",
        "colab": {
          "base_uri": "https://localhost:8080/"
        }
      },
      "execution_count": 81,
      "outputs": [
        {
          "output_type": "execute_result",
          "data": {
            "text/plain": [
              "array([10, 12, 14, 16, 18, 20, 22, 24, 26, 28, 30, 32, 34, 36, 38])"
            ]
          },
          "metadata": {},
          "execution_count": 81
        }
      ]
    },
    {
      "cell_type": "code",
      "source": [
        "type(b)"
      ],
      "metadata": {
        "id": "QXlPmJekDGqp",
        "outputId": "1305488c-06e3-4a9a-9421-674ba225010f",
        "colab": {
          "base_uri": "https://localhost:8080/"
        }
      },
      "execution_count": 82,
      "outputs": [
        {
          "output_type": "execute_result",
          "data": {
            "text/plain": [
              "numpy.ndarray"
            ]
          },
          "metadata": {},
          "execution_count": 82
        }
      ]
    },
    {
      "cell_type": "code",
      "source": [
        "b = np.array(a, dtype=float )\n",
        "b"
      ],
      "metadata": {
        "id": "OcHlWnZFDWRq",
        "outputId": "c1dbb39b-a99e-4fff-cb19-0480b41d35ba",
        "colab": {
          "base_uri": "https://localhost:8080/"
        }
      },
      "execution_count": 83,
      "outputs": [
        {
          "output_type": "execute_result",
          "data": {
            "text/plain": [
              "array([10., 12., 14., 16., 18., 20., 22., 24., 26., 28., 30., 32., 34.,\n",
              "       36., 38.])"
            ]
          },
          "metadata": {},
          "execution_count": 83
        }
      ]
    },
    {
      "cell_type": "code",
      "source": [
        "b = np.array(a, dtype=int)\n",
        "b"
      ],
      "metadata": {
        "id": "2lK3hpTzDn5a",
        "outputId": "4ecbdbfb-6afe-41b2-b88a-db70b9d0948a",
        "colab": {
          "base_uri": "https://localhost:8080/"
        }
      },
      "execution_count": 84,
      "outputs": [
        {
          "output_type": "execute_result",
          "data": {
            "text/plain": [
              "array([10, 12, 14, 16, 18, 20, 22, 24, 26, 28, 30, 32, 34, 36, 38])"
            ]
          },
          "metadata": {},
          "execution_count": 84
        }
      ]
    },
    {
      "cell_type": "code",
      "source": [
        "b = np.array(a, dtype=str)\n",
        "b"
      ],
      "metadata": {
        "id": "7LBqf34nD-ZC",
        "outputId": "7e9d3cfd-0251-4edd-fb53-4fd3735974d6",
        "colab": {
          "base_uri": "https://localhost:8080/"
        }
      },
      "execution_count": 85,
      "outputs": [
        {
          "output_type": "execute_result",
          "data": {
            "text/plain": [
              "array(['10', '12', '14', '16', '18', '20', '22', '24', '26', '28', '30',\n",
              "       '32', '34', '36', '38'], dtype='<U2')"
            ]
          },
          "metadata": {},
          "execution_count": 85
        }
      ]
    },
    {
      "cell_type": "markdown",
      "source": [
        "###Если один из элементов массива имеет отличный тип данных, то остальные будутут такимиже без указания."
      ],
      "metadata": {
        "id": "TYQsbD5qhAUQ"
      }
    },
    {
      "cell_type": "code",
      "source": [
        "a = [1, 2, 3, 'abc']\n",
        "b = np.array(a)\n",
        "b"
      ],
      "metadata": {
        "id": "Rw7bD-wFhTul",
        "outputId": "ed8d986f-1e68-4c5a-ada8-5c3a76b3cf35",
        "colab": {
          "base_uri": "https://localhost:8080/"
        }
      },
      "execution_count": 86,
      "outputs": [
        {
          "output_type": "execute_result",
          "data": {
            "text/plain": [
              "array(['1', '2', '3', 'abc'], dtype='<U21')"
            ]
          },
          "metadata": {},
          "execution_count": 86
        }
      ]
    },
    {
      "cell_type": "code",
      "source": [
        "a = [1, 2, 3, 'abc']\n",
        "b = np.array(a, dtype=int)\n",
        "b"
      ],
      "metadata": {
        "id": "OBuYH0mght6a",
        "outputId": "bbcf8340-85b7-4692-fc0d-d7e19c18037e",
        "colab": {
          "base_uri": "https://localhost:8080/",
          "height": 200
        }
      },
      "execution_count": 154,
      "outputs": [
        {
          "output_type": "error",
          "ename": "ValueError",
          "evalue": "ignored",
          "traceback": [
            "\u001b[0;31m---------------------------------------------------------------------------\u001b[0m",
            "\u001b[0;31mValueError\u001b[0m                                Traceback (most recent call last)",
            "\u001b[0;32m<ipython-input-154-08bcc73b836f>\u001b[0m in \u001b[0;36m<cell line: 2>\u001b[0;34m()\u001b[0m\n\u001b[1;32m      1\u001b[0m \u001b[0ma\u001b[0m \u001b[0;34m=\u001b[0m \u001b[0;34m[\u001b[0m\u001b[0;36m1\u001b[0m\u001b[0;34m,\u001b[0m \u001b[0;36m2\u001b[0m\u001b[0;34m,\u001b[0m \u001b[0;36m3\u001b[0m\u001b[0;34m,\u001b[0m \u001b[0;34m'abc'\u001b[0m\u001b[0;34m]\u001b[0m\u001b[0;34m\u001b[0m\u001b[0;34m\u001b[0m\u001b[0m\n\u001b[0;32m----> 2\u001b[0;31m \u001b[0mb\u001b[0m \u001b[0;34m=\u001b[0m \u001b[0mnp\u001b[0m\u001b[0;34m.\u001b[0m\u001b[0marray\u001b[0m\u001b[0;34m(\u001b[0m\u001b[0ma\u001b[0m\u001b[0;34m,\u001b[0m \u001b[0mdtype\u001b[0m\u001b[0;34m=\u001b[0m\u001b[0mint\u001b[0m\u001b[0;34m)\u001b[0m\u001b[0;34m\u001b[0m\u001b[0;34m\u001b[0m\u001b[0m\n\u001b[0m\u001b[1;32m      3\u001b[0m \u001b[0mb\u001b[0m\u001b[0;34m\u001b[0m\u001b[0;34m\u001b[0m\u001b[0m\n",
            "\u001b[0;31mValueError\u001b[0m: invalid literal for int() with base 10: 'abc'"
          ]
        }
      ]
    },
    {
      "cell_type": "code",
      "source": [
        "a = [1, 2, 3, 4.125]\n",
        "b= np.array(a)\n",
        "b"
      ],
      "metadata": {
        "colab": {
          "base_uri": "https://localhost:8080/"
        },
        "id": "YKi_T4mFnr8o",
        "outputId": "27eae5c7-0400-4594-b7d5-8da5de8a3a90"
      },
      "execution_count": 88,
      "outputs": [
        {
          "output_type": "execute_result",
          "data": {
            "text/plain": [
              "array([1.   , 2.   , 3.   , 4.125])"
            ]
          },
          "metadata": {},
          "execution_count": 88
        }
      ]
    },
    {
      "cell_type": "code",
      "source": [
        "b.dtype"
      ],
      "metadata": {
        "colab": {
          "base_uri": "https://localhost:8080/"
        },
        "id": "CroV1XVbn6jo",
        "outputId": "2e353b56-258f-4b03-f324-a0209d045220"
      },
      "execution_count": 89,
      "outputs": [
        {
          "output_type": "execute_result",
          "data": {
            "text/plain": [
              "dtype('float64')"
            ]
          },
          "metadata": {},
          "execution_count": 89
        }
      ]
    },
    {
      "cell_type": "markdown",
      "source": [
        "###Получаем элементы массива"
      ],
      "metadata": {
        "id": "N3guOXeqoTW_"
      }
    },
    {
      "cell_type": "code",
      "source": [
        "b[0]"
      ],
      "metadata": {
        "colab": {
          "base_uri": "https://localhost:8080/"
        },
        "id": "JH4Dmf61obW-",
        "outputId": "5229aac8-ce0c-49c3-aa7b-89a82d37f537"
      },
      "execution_count": 90,
      "outputs": [
        {
          "output_type": "execute_result",
          "data": {
            "text/plain": [
              "1.0"
            ]
          },
          "metadata": {},
          "execution_count": 90
        }
      ]
    },
    {
      "cell_type": "code",
      "source": [
        "b[3]"
      ],
      "metadata": {
        "colab": {
          "base_uri": "https://localhost:8080/"
        },
        "id": "TZb-UPayofNn",
        "outputId": "e4d31da3-b839-41c8-97a5-2143bc612676"
      },
      "execution_count": 91,
      "outputs": [
        {
          "output_type": "execute_result",
          "data": {
            "text/plain": [
              "4.125"
            ]
          },
          "metadata": {},
          "execution_count": 91
        }
      ]
    },
    {
      "cell_type": "code",
      "source": [
        "b[:2]"
      ],
      "metadata": {
        "colab": {
          "base_uri": "https://localhost:8080/"
        },
        "id": "s7y_W2NdoknW",
        "outputId": "bc674c51-95ca-4114-f30b-62a1e75513bd"
      },
      "execution_count": 92,
      "outputs": [
        {
          "output_type": "execute_result",
          "data": {
            "text/plain": [
              "array([1., 2.])"
            ]
          },
          "metadata": {},
          "execution_count": 92
        }
      ]
    },
    {
      "cell_type": "code",
      "source": [
        "b[-1]"
      ],
      "metadata": {
        "colab": {
          "base_uri": "https://localhost:8080/"
        },
        "id": "PVUlLgJkoq1h",
        "outputId": "e835b6eb-e63c-4408-8a9e-6ce75c79e1fe"
      },
      "execution_count": 93,
      "outputs": [
        {
          "output_type": "execute_result",
          "data": {
            "text/plain": [
              "4.125"
            ]
          },
          "metadata": {},
          "execution_count": 93
        }
      ]
    },
    {
      "cell_type": "markdown",
      "source": [
        "###Размерность массива"
      ],
      "metadata": {
        "id": "h7ikr6_ko-Ch"
      }
    },
    {
      "cell_type": "code",
      "source": [
        "b.ndim"
      ],
      "metadata": {
        "colab": {
          "base_uri": "https://localhost:8080/"
        },
        "id": "4_V5t4GFpDqf",
        "outputId": "48656f43-b503-4887-818d-2fda8cc223bb"
      },
      "execution_count": 94,
      "outputs": [
        {
          "output_type": "execute_result",
          "data": {
            "text/plain": [
              "1"
            ]
          },
          "metadata": {},
          "execution_count": 94
        }
      ]
    },
    {
      "cell_type": "code",
      "source": [
        "type(b.ndim)"
      ],
      "metadata": {
        "colab": {
          "base_uri": "https://localhost:8080/"
        },
        "id": "uCGkva5bpVix",
        "outputId": "0fc09cca-d082-4386-9a8c-75cb1a43ab28"
      },
      "execution_count": 95,
      "outputs": [
        {
          "output_type": "execute_result",
          "data": {
            "text/plain": [
              "int"
            ]
          },
          "metadata": {},
          "execution_count": 95
        }
      ]
    },
    {
      "cell_type": "code",
      "source": [
        "b.shape"
      ],
      "metadata": {
        "colab": {
          "base_uri": "https://localhost:8080/"
        },
        "id": "f0dGgwsxpIJG",
        "outputId": "7bec600f-60fa-4af1-b19e-b61c309fddc8"
      },
      "execution_count": 96,
      "outputs": [
        {
          "output_type": "execute_result",
          "data": {
            "text/plain": [
              "(4,)"
            ]
          },
          "metadata": {},
          "execution_count": 96
        }
      ]
    },
    {
      "cell_type": "code",
      "source": [
        "type(b.shape)"
      ],
      "metadata": {
        "colab": {
          "base_uri": "https://localhost:8080/"
        },
        "id": "AsfNWlzjpbwI",
        "outputId": "1fdf8196-270c-4960-9b9b-44eb8817d3d9"
      },
      "execution_count": 97,
      "outputs": [
        {
          "output_type": "execute_result",
          "data": {
            "text/plain": [
              "tuple"
            ]
          },
          "metadata": {},
          "execution_count": 97
        }
      ]
    },
    {
      "cell_type": "code",
      "source": [
        "b.size #Общее количество элементов"
      ],
      "metadata": {
        "colab": {
          "base_uri": "https://localhost:8080/"
        },
        "id": "8f5pQ2kApNMW",
        "outputId": "7527e7da-197b-4274-8307-45efa4deeeda"
      },
      "execution_count": 98,
      "outputs": [
        {
          "output_type": "execute_result",
          "data": {
            "text/plain": [
              "4"
            ]
          },
          "metadata": {},
          "execution_count": 98
        }
      ]
    },
    {
      "cell_type": "code",
      "source": [
        "type(b.size)"
      ],
      "metadata": {
        "colab": {
          "base_uri": "https://localhost:8080/"
        },
        "id": "u6Fv1A_vpnrW",
        "outputId": "bfee88ed-1d69-4b53-874b-86ef4c78e0b4"
      },
      "execution_count": 99,
      "outputs": [
        {
          "output_type": "execute_result",
          "data": {
            "text/plain": [
              "int"
            ]
          },
          "metadata": {},
          "execution_count": 99
        }
      ]
    },
    {
      "cell_type": "markdown",
      "source": [
        "###Двух-мерный массив (2d array)"
      ],
      "metadata": {
        "id": "Ogcmy4OXqTzJ"
      }
    },
    {
      "cell_type": "code",
      "source": [
        "b = np.array([[0,1,2,3,4,5,6,7,8,9],\n",
        "             [10,11,12,13,14,15,16,17,18,19],\n",
        "             [20,21,22,23,24,25,26,27,28,29]])\n",
        "b"
      ],
      "metadata": {
        "colab": {
          "base_uri": "https://localhost:8080/"
        },
        "id": "2WIXKicsqSzO",
        "outputId": "70cbceeb-68ae-478b-fc7b-b8ce55859232"
      },
      "execution_count": 100,
      "outputs": [
        {
          "output_type": "execute_result",
          "data": {
            "text/plain": [
              "array([[ 0,  1,  2,  3,  4,  5,  6,  7,  8,  9],\n",
              "       [10, 11, 12, 13, 14, 15, 16, 17, 18, 19],\n",
              "       [20, 21, 22, 23, 24, 25, 26, 27, 28, 29]])"
            ]
          },
          "metadata": {},
          "execution_count": 100
        }
      ]
    },
    {
      "cell_type": "code",
      "source": [
        "b.shape # 3-строки и 10-колонок"
      ],
      "metadata": {
        "colab": {
          "base_uri": "https://localhost:8080/"
        },
        "id": "uRRUVQBrrL2W",
        "outputId": "ae8aeecd-c973-42f7-e9d3-6b226bd524a1"
      },
      "execution_count": 101,
      "outputs": [
        {
          "output_type": "execute_result",
          "data": {
            "text/plain": [
              "(3, 10)"
            ]
          },
          "metadata": {},
          "execution_count": 101
        }
      ]
    },
    {
      "cell_type": "code",
      "source": [
        "b.size #общее количество элементов"
      ],
      "metadata": {
        "colab": {
          "base_uri": "https://localhost:8080/"
        },
        "id": "IMY4nhi6rIH3",
        "outputId": "55816f82-00ce-4d70-993a-632bc0b595e7"
      },
      "execution_count": 102,
      "outputs": [
        {
          "output_type": "execute_result",
          "data": {
            "text/plain": [
              "30"
            ]
          },
          "metadata": {},
          "execution_count": 102
        }
      ]
    },
    {
      "cell_type": "markdown",
      "source": [
        "##Доступ к элементам массива"
      ],
      "metadata": {
        "id": "2LaaPvgr_Z2K"
      }
    },
    {
      "cell_type": "code",
      "source": [
        "b[1][1]"
      ],
      "metadata": {
        "colab": {
          "base_uri": "https://localhost:8080/"
        },
        "id": "ytaZO2iRrxkO",
        "outputId": "f216dc88-07f1-4bb6-ac4f-1a039f395c50"
      },
      "execution_count": 103,
      "outputs": [
        {
          "output_type": "execute_result",
          "data": {
            "text/plain": [
              "11"
            ]
          },
          "metadata": {},
          "execution_count": 103
        }
      ]
    },
    {
      "cell_type": "markdown",
      "source": [
        "###Можно через запятую"
      ],
      "metadata": {
        "id": "RVSq99jG02g9"
      }
    },
    {
      "cell_type": "code",
      "source": [
        "b[1, 1]"
      ],
      "metadata": {
        "colab": {
          "base_uri": "https://localhost:8080/"
        },
        "id": "nYG-392C078k",
        "outputId": "9136f43c-5719-433c-af77-dcffc8044955"
      },
      "execution_count": 104,
      "outputs": [
        {
          "output_type": "execute_result",
          "data": {
            "text/plain": [
              "11"
            ]
          },
          "metadata": {},
          "execution_count": 104
        }
      ]
    },
    {
      "cell_type": "code",
      "source": [
        "b[0:2, 2:7] #Срезы"
      ],
      "metadata": {
        "colab": {
          "base_uri": "https://localhost:8080/"
        },
        "id": "Yw0-NeBd1Ayk",
        "outputId": "5a15d267-f793-4289-a0dd-d31c4cc2be1f"
      },
      "execution_count": 105,
      "outputs": [
        {
          "output_type": "execute_result",
          "data": {
            "text/plain": [
              "array([[ 2,  3,  4,  5,  6],\n",
              "       [12, 13, 14, 15, 16]])"
            ]
          },
          "metadata": {},
          "execution_count": 105
        }
      ]
    },
    {
      "cell_type": "code",
      "source": [
        "b[1:, 5:] #Срезы"
      ],
      "metadata": {
        "colab": {
          "base_uri": "https://localhost:8080/"
        },
        "id": "DyjuBdu62Fhk",
        "outputId": "6558f8b5-57a2-4503-911e-c4d6055787c7"
      },
      "execution_count": 106,
      "outputs": [
        {
          "output_type": "execute_result",
          "data": {
            "text/plain": [
              "array([[15, 16, 17, 18, 19],\n",
              "       [25, 26, 27, 28, 29]])"
            ]
          },
          "metadata": {},
          "execution_count": 106
        }
      ]
    },
    {
      "cell_type": "markdown",
      "source": [
        "##Изменение и копирование массивов"
      ],
      "metadata": {
        "id": "s4jY8OAP_nco"
      }
    },
    {
      "cell_type": "markdown",
      "source": [
        "###Создадим новый массив *c* из среза массива *b*"
      ],
      "metadata": {
        "id": "vAAbO-Hm2fH2"
      }
    },
    {
      "cell_type": "code",
      "source": [
        "c = b[1:, 5:]# Это не новый массив, это ссылка на массив\n",
        "c"
      ],
      "metadata": {
        "colab": {
          "base_uri": "https://localhost:8080/"
        },
        "id": "Lkl1FqLp27Uk",
        "outputId": "a14e1fcc-bcac-4cca-8bf0-f29ebaf4014f"
      },
      "execution_count": 107,
      "outputs": [
        {
          "output_type": "execute_result",
          "data": {
            "text/plain": [
              "array([[15, 16, 17, 18, 19],\n",
              "       [25, 26, 27, 28, 29]])"
            ]
          },
          "metadata": {},
          "execution_count": 107
        }
      ]
    },
    {
      "cell_type": "code",
      "source": [
        "c[1, 4] = 999\n",
        "c"
      ],
      "metadata": {
        "colab": {
          "base_uri": "https://localhost:8080/"
        },
        "id": "H_YJW0nJ3P3u",
        "outputId": "5eea1a12-2afb-477c-91d3-d0aae2d12dba"
      },
      "execution_count": 108,
      "outputs": [
        {
          "output_type": "execute_result",
          "data": {
            "text/plain": [
              "array([[ 15,  16,  17,  18,  19],\n",
              "       [ 25,  26,  27,  28, 999]])"
            ]
          },
          "metadata": {},
          "execution_count": 108
        }
      ]
    },
    {
      "cell_type": "code",
      "source": [
        "b #ВАЖНО: Изменеия вносятся и в массив 'b'"
      ],
      "metadata": {
        "colab": {
          "base_uri": "https://localhost:8080/"
        },
        "id": "YDipJjqG3qnM",
        "outputId": "caf6a0b1-1379-4257-84cf-188f2b5c8c59"
      },
      "execution_count": 109,
      "outputs": [
        {
          "output_type": "execute_result",
          "data": {
            "text/plain": [
              "array([[  0,   1,   2,   3,   4,   5,   6,   7,   8,   9],\n",
              "       [ 10,  11,  12,  13,  14,  15,  16,  17,  18,  19],\n",
              "       [ 20,  21,  22,  23,  24,  25,  26,  27,  28, 999]])"
            ]
          },
          "metadata": {},
          "execution_count": 109
        }
      ]
    },
    {
      "cell_type": "markdown",
      "source": [
        "###Для того, чтобы массивы были независимы нужно применять метод *.copy()*"
      ],
      "metadata": {
        "id": "N4pZiThV4bM8"
      }
    },
    {
      "cell_type": "code",
      "source": [
        "c = b[1:, 4:].copy()\n",
        "c"
      ],
      "metadata": {
        "colab": {
          "base_uri": "https://localhost:8080/"
        },
        "id": "aXwRTAtP4qVM",
        "outputId": "96162ad1-df19-488b-995a-baf58f1fcab4"
      },
      "execution_count": 110,
      "outputs": [
        {
          "output_type": "execute_result",
          "data": {
            "text/plain": [
              "array([[ 14,  15,  16,  17,  18,  19],\n",
              "       [ 24,  25,  26,  27,  28, 999]])"
            ]
          },
          "metadata": {},
          "execution_count": 110
        }
      ]
    },
    {
      "cell_type": "code",
      "source": [
        "c[1, 5] = 29\n",
        "c"
      ],
      "metadata": {
        "colab": {
          "base_uri": "https://localhost:8080/"
        },
        "id": "Sd3GEW8W4z4M",
        "outputId": "bef7bbc8-4559-4405-d42b-fdd0881b74b2"
      },
      "execution_count": 111,
      "outputs": [
        {
          "output_type": "execute_result",
          "data": {
            "text/plain": [
              "array([[14, 15, 16, 17, 18, 19],\n",
              "       [24, 25, 26, 27, 28, 29]])"
            ]
          },
          "metadata": {},
          "execution_count": 111
        }
      ]
    },
    {
      "cell_type": "code",
      "source": [
        "b"
      ],
      "metadata": {
        "colab": {
          "base_uri": "https://localhost:8080/"
        },
        "id": "O0DQaDX_5Mfz",
        "outputId": "8eee927b-18cf-4167-c486-200c4eb07f82"
      },
      "execution_count": 112,
      "outputs": [
        {
          "output_type": "execute_result",
          "data": {
            "text/plain": [
              "array([[  0,   1,   2,   3,   4,   5,   6,   7,   8,   9],\n",
              "       [ 10,  11,  12,  13,  14,  15,  16,  17,  18,  19],\n",
              "       [ 20,  21,  22,  23,  24,  25,  26,  27,  28, 999]])"
            ]
          },
          "metadata": {},
          "execution_count": 112
        }
      ]
    },
    {
      "cell_type": "code",
      "source": [
        "b[2, 9] = 29\n",
        "b"
      ],
      "metadata": {
        "colab": {
          "base_uri": "https://localhost:8080/"
        },
        "id": "hQDhqVhr5QKF",
        "outputId": "e1960b0d-f1fe-44fe-8b3a-ad2724dfe31e"
      },
      "execution_count": 113,
      "outputs": [
        {
          "output_type": "execute_result",
          "data": {
            "text/plain": [
              "array([[ 0,  1,  2,  3,  4,  5,  6,  7,  8,  9],\n",
              "       [10, 11, 12, 13, 14, 15, 16, 17, 18, 19],\n",
              "       [20, 21, 22, 23, 24, 25, 26, 27, 28, 29]])"
            ]
          },
          "metadata": {},
          "execution_count": 113
        }
      ]
    },
    {
      "cell_type": "markdown",
      "source": [
        "##Типы данных Numpy"
      ],
      "metadata": {
        "id": "ct72CHga_xX5"
      }
    },
    {
      "cell_type": "code",
      "source": [
        "f = np.array([1, 2, 3], dtype=np.float64)\n",
        "print(f.dtype, f)"
      ],
      "metadata": {
        "colab": {
          "base_uri": "https://localhost:8080/"
        },
        "id": "GJNqh08r54rk",
        "outputId": "b71459b3-6d7f-42f5-c095-a8da0dd0a80f"
      },
      "execution_count": 114,
      "outputs": [
        {
          "output_type": "stream",
          "name": "stdout",
          "text": [
            "float64 [1. 2. 3.]\n"
          ]
        }
      ]
    },
    {
      "cell_type": "code",
      "source": [
        "f = np.array([1, 2, 3], dtype=np.float32)\n",
        "print(f.dtype, f)"
      ],
      "metadata": {
        "colab": {
          "base_uri": "https://localhost:8080/"
        },
        "id": "M58YWBun6lq0",
        "outputId": "5b45432d-5f50-49d5-e1d9-58f2e9b66a91"
      },
      "execution_count": 115,
      "outputs": [
        {
          "output_type": "stream",
          "name": "stdout",
          "text": [
            "float32 [1. 2. 3.]\n"
          ]
        }
      ]
    },
    {
      "cell_type": "code",
      "source": [
        "f = np.array([1, 2, 3], dtype=np.int32)\n",
        "print(f.dtype, f)"
      ],
      "metadata": {
        "colab": {
          "base_uri": "https://localhost:8080/"
        },
        "id": "X31ancBP63oj",
        "outputId": "2fa897a9-e56d-46f2-87ec-df3b798fc4ba"
      },
      "execution_count": 116,
      "outputs": [
        {
          "output_type": "stream",
          "name": "stdout",
          "text": [
            "int32 [1 2 3]\n"
          ]
        }
      ]
    },
    {
      "cell_type": "code",
      "source": [
        "f = np.array([1, 2, 3], dtype=np.int64)\n",
        "print(f.dtype, f)"
      ],
      "metadata": {
        "colab": {
          "base_uri": "https://localhost:8080/"
        },
        "id": "ugIH0y7B7Paj",
        "outputId": "56154f2c-c943-4ad4-8ef9-a964b4e76fb2"
      },
      "execution_count": 117,
      "outputs": [
        {
          "output_type": "stream",
          "name": "stdout",
          "text": [
            "int64 [1 2 3]\n"
          ]
        }
      ]
    },
    {
      "cell_type": "code",
      "source": [
        "f = np.array([[1, 2, 3],[4, 5, 6]],\n",
        "             dtype=np.string_) #При использовании в массивах этот тип удаляет завершающие нулевые байты.\n",
        "print(f.dtype, f)"
      ],
      "metadata": {
        "colab": {
          "base_uri": "https://localhost:8080/"
        },
        "id": "MBNvczTM7S7z",
        "outputId": "e7c9afbc-a8c7-4a37-913e-4b542038753a"
      },
      "execution_count": 118,
      "outputs": [
        {
          "output_type": "stream",
          "name": "stdout",
          "text": [
            "|S1 [[b'1' b'2' b'3']\n",
            " [b'4' b'5' b'6']]\n"
          ]
        }
      ]
    },
    {
      "cell_type": "code",
      "source": [
        "f = np.array([1, 2, 3], dtype=np.str0)\n",
        "print(f.dtype, f)"
      ],
      "metadata": {
        "colab": {
          "base_uri": "https://localhost:8080/"
        },
        "id": "IJFvubMX8TJb",
        "outputId": "a3d292c3-9d7e-4b21-8c5c-140e6f082c74"
      },
      "execution_count": 119,
      "outputs": [
        {
          "output_type": "stream",
          "name": "stdout",
          "text": [
            "<U1 ['1' '2' '3']\n"
          ]
        }
      ]
    },
    {
      "cell_type": "markdown",
      "source": [
        "#Применение Nympy для линейной алгебры - Часть 1"
      ],
      "metadata": {
        "id": "Dk5Sh4XtxYzC"
      }
    },
    {
      "cell_type": "code",
      "source": [
        "import numpy as np"
      ],
      "metadata": {
        "id": "IFqHAfjwzEdq"
      },
      "execution_count": 120,
      "outputs": []
    },
    {
      "cell_type": "markdown",
      "source": [
        "##Сложение и вычитание векторов"
      ],
      "metadata": {
        "id": "zufq06tXxx5B"
      }
    },
    {
      "cell_type": "code",
      "source": [
        "a = np.array([0, 1, 2, 3, 4])\n",
        "a"
      ],
      "metadata": {
        "colab": {
          "base_uri": "https://localhost:8080/"
        },
        "id": "bqgB5Jmczj5w",
        "outputId": "c0b39eec-f1bb-4bde-f298-66b1f9af1d2e"
      },
      "execution_count": 121,
      "outputs": [
        {
          "output_type": "execute_result",
          "data": {
            "text/plain": [
              "array([0, 1, 2, 3, 4])"
            ]
          },
          "metadata": {},
          "execution_count": 121
        }
      ]
    },
    {
      "cell_type": "code",
      "source": [
        "b = np.array([5, 6, 7, 8, 9])\n",
        "b"
      ],
      "metadata": {
        "colab": {
          "base_uri": "https://localhost:8080/"
        },
        "id": "s6YFCdSFz163",
        "outputId": "d95c20be-4d3d-44b7-c532-64a9f4b1d3ad"
      },
      "execution_count": 122,
      "outputs": [
        {
          "output_type": "execute_result",
          "data": {
            "text/plain": [
              "array([5, 6, 7, 8, 9])"
            ]
          },
          "metadata": {},
          "execution_count": 122
        }
      ]
    },
    {
      "cell_type": "code",
      "source": [
        "print('a - ', a.size, a.shape)\n",
        "print('b - ', b.size, b.shape)"
      ],
      "metadata": {
        "colab": {
          "base_uri": "https://localhost:8080/"
        },
        "id": "Nl0w6v0j0eFQ",
        "outputId": "168cdc40-20ec-4b3d-a593-440aaf6a61a7"
      },
      "execution_count": 123,
      "outputs": [
        {
          "output_type": "stream",
          "name": "stdout",
          "text": [
            "a -  5 (5,)\n",
            "b -  5 (5,)\n"
          ]
        }
      ]
    },
    {
      "cell_type": "markdown",
      "source": [
        "###Сложение"
      ],
      "metadata": {
        "id": "lXGrYhC5DbSJ"
      }
    },
    {
      "cell_type": "code",
      "source": [
        "c = a + b\n",
        "print(c)\n",
        "print(c.size, c.shape)"
      ],
      "metadata": {
        "colab": {
          "base_uri": "https://localhost:8080/"
        },
        "id": "iNWteh8f1GIv",
        "outputId": "2644b192-2a1b-4d2d-ff7a-527f932c1bee"
      },
      "execution_count": 124,
      "outputs": [
        {
          "output_type": "stream",
          "name": "stdout",
          "text": [
            "[ 5  7  9 11 13]\n",
            "5 (5,)\n"
          ]
        }
      ]
    },
    {
      "cell_type": "code",
      "source": [
        "print(a)\n",
        "print(b)\n",
        "print(c)"
      ],
      "metadata": {
        "colab": {
          "base_uri": "https://localhost:8080/"
        },
        "id": "S2CUNYgG1Y1Q",
        "outputId": "2560e8b1-9ae1-42c8-8b2b-d1848fd606e9"
      },
      "execution_count": 125,
      "outputs": [
        {
          "output_type": "stream",
          "name": "stdout",
          "text": [
            "[0 1 2 3 4]\n",
            "[5 6 7 8 9]\n",
            "[ 5  7  9 11 13]\n"
          ]
        }
      ]
    },
    {
      "cell_type": "code",
      "source": [
        "c = np.add(a, b)\n",
        "c"
      ],
      "metadata": {
        "colab": {
          "base_uri": "https://localhost:8080/"
        },
        "id": "KN3Hsm2xCugh",
        "outputId": "d8cca24e-f6bf-4d66-ff01-696887c54316"
      },
      "execution_count": 126,
      "outputs": [
        {
          "output_type": "execute_result",
          "data": {
            "text/plain": [
              "array([ 5,  7,  9, 11, 13])"
            ]
          },
          "metadata": {},
          "execution_count": 126
        }
      ]
    },
    {
      "cell_type": "markdown",
      "source": [
        "Массивы должны быть одинакового размера, если масивы разные то вылезет либо ошибка, либо дополнительные свойства."
      ],
      "metadata": {
        "id": "bg4-kbr316kI"
      }
    },
    {
      "cell_type": "markdown",
      "source": [
        "###Вычитание"
      ],
      "metadata": {
        "id": "GhBs1ip-DWvh"
      }
    },
    {
      "cell_type": "code",
      "source": [
        "f = np.array([5, 4, 8, 4, 3])\n",
        "k = np.array([3, 5, 7, 1, 3])"
      ],
      "metadata": {
        "id": "HjrFrPmtCTWo"
      },
      "execution_count": 127,
      "outputs": []
    },
    {
      "cell_type": "code",
      "source": [
        "d = f - k\n",
        "d"
      ],
      "metadata": {
        "colab": {
          "base_uri": "https://localhost:8080/"
        },
        "id": "wTf-lHUeDgYC",
        "outputId": "2a2c5dff-6365-4e98-b4b3-e111e6a54a49"
      },
      "execution_count": 128,
      "outputs": [
        {
          "output_type": "execute_result",
          "data": {
            "text/plain": [
              "array([ 2, -1,  1,  3,  0])"
            ]
          },
          "metadata": {},
          "execution_count": 128
        }
      ]
    },
    {
      "cell_type": "code",
      "source": [
        "d = np.subtract(f, k)\n",
        "d"
      ],
      "metadata": {
        "colab": {
          "base_uri": "https://localhost:8080/"
        },
        "id": "dRUd7HadD0ki",
        "outputId": "f49f5af4-edbc-4ab3-e2b7-4b4c2386e710"
      },
      "execution_count": 129,
      "outputs": [
        {
          "output_type": "execute_result",
          "data": {
            "text/plain": [
              "array([ 2, -1,  1,  3,  0])"
            ]
          },
          "metadata": {},
          "execution_count": 129
        }
      ]
    },
    {
      "cell_type": "markdown",
      "source": [
        "Массивы должны быть одинакового рамера"
      ],
      "metadata": {
        "id": "-EXeAq_pK1rC"
      }
    },
    {
      "cell_type": "code",
      "source": [
        "f.shape == k.shape"
      ],
      "metadata": {
        "colab": {
          "base_uri": "https://localhost:8080/"
        },
        "id": "wVVfLsMdK7Ba",
        "outputId": "9bbf6263-4ac4-4d62-b404-d16eaa4d26ca"
      },
      "execution_count": 130,
      "outputs": [
        {
          "output_type": "execute_result",
          "data": {
            "text/plain": [
              "True"
            ]
          },
          "metadata": {},
          "execution_count": 130
        }
      ]
    },
    {
      "cell_type": "markdown",
      "source": [
        "##Умножение вектора на скаляр"
      ],
      "metadata": {
        "id": "FYG55_7kyCcZ"
      }
    },
    {
      "cell_type": "code",
      "source": [
        "f"
      ],
      "metadata": {
        "colab": {
          "base_uri": "https://localhost:8080/"
        },
        "id": "xZkDZ2uELMpx",
        "outputId": "097f4e76-af77-4bb9-c38e-7cbac2b06b5e"
      },
      "execution_count": 131,
      "outputs": [
        {
          "output_type": "execute_result",
          "data": {
            "text/plain": [
              "array([5, 4, 8, 4, 3])"
            ]
          },
          "metadata": {},
          "execution_count": 131
        }
      ]
    },
    {
      "cell_type": "code",
      "source": [
        "s = f * 2\n",
        "s"
      ],
      "metadata": {
        "colab": {
          "base_uri": "https://localhost:8080/"
        },
        "id": "KZEQnD9sLO6B",
        "outputId": "9504e857-3b31-438f-cbcd-196a541ba977"
      },
      "execution_count": 132,
      "outputs": [
        {
          "output_type": "execute_result",
          "data": {
            "text/plain": [
              "array([10,  8, 16,  8,  6])"
            ]
          },
          "metadata": {},
          "execution_count": 132
        }
      ]
    },
    {
      "cell_type": "code",
      "source": [
        "s_1 = f ** 3\n",
        "s_1"
      ],
      "metadata": {
        "colab": {
          "base_uri": "https://localhost:8080/"
        },
        "id": "NtNpPoTpLVg4",
        "outputId": "b62db5e4-4be9-4846-a2b8-d6603419fa27"
      },
      "execution_count": 133,
      "outputs": [
        {
          "output_type": "execute_result",
          "data": {
            "text/plain": [
              "array([125,  64, 512,  64,  27])"
            ]
          },
          "metadata": {},
          "execution_count": 133
        }
      ]
    },
    {
      "cell_type": "code",
      "source": [
        "s_2 = f ** 0.5\n",
        "s_2"
      ],
      "metadata": {
        "colab": {
          "base_uri": "https://localhost:8080/"
        },
        "id": "ZsLvgtCuLh3p",
        "outputId": "346ba0bc-4373-43a6-cbfb-a958dbb7a12a"
      },
      "execution_count": 134,
      "outputs": [
        {
          "output_type": "execute_result",
          "data": {
            "text/plain": [
              "array([2.23606798, 2.        , 2.82842712, 2.        , 1.73205081])"
            ]
          },
          "metadata": {},
          "execution_count": 134
        }
      ]
    },
    {
      "cell_type": "code",
      "source": [
        "s_3 = f // 2\n",
        "s_3"
      ],
      "metadata": {
        "colab": {
          "base_uri": "https://localhost:8080/"
        },
        "id": "5S6bKh7pMJoR",
        "outputId": "e1ab5de8-a739-4324-ac1a-155a440a0f53"
      },
      "execution_count": 135,
      "outputs": [
        {
          "output_type": "execute_result",
          "data": {
            "text/plain": [
              "array([2, 2, 4, 2, 1])"
            ]
          },
          "metadata": {},
          "execution_count": 135
        }
      ]
    },
    {
      "cell_type": "code",
      "source": [
        "s_4 = -1 ** f\n",
        "s_4"
      ],
      "metadata": {
        "colab": {
          "base_uri": "https://localhost:8080/"
        },
        "id": "vUg4DkbSMr3y",
        "outputId": "fc9c92c3-f1ea-434c-c7eb-88f191b47075"
      },
      "execution_count": 136,
      "outputs": [
        {
          "output_type": "execute_result",
          "data": {
            "text/plain": [
              "array([-1, -1, -1, -1, -1])"
            ]
          },
          "metadata": {},
          "execution_count": 136
        }
      ]
    },
    {
      "cell_type": "markdown",
      "source": [
        "Списки в Numpy ведут себя по другому"
      ],
      "metadata": {
        "id": "5l2r7fEANLE1"
      }
    },
    {
      "cell_type": "code",
      "source": [
        "5 * [1, 2, 3, 4]"
      ],
      "metadata": {
        "colab": {
          "base_uri": "https://localhost:8080/"
        },
        "id": "UkWI1W4SM3GL",
        "outputId": "4c71ad5e-8d49-4d03-df32-aeba3f543192"
      },
      "execution_count": 137,
      "outputs": [
        {
          "output_type": "execute_result",
          "data": {
            "text/plain": [
              "[1, 2, 3, 4, 1, 2, 3, 4, 1, 2, 3, 4, 1, 2, 3, 4, 1, 2, 3, 4]"
            ]
          },
          "metadata": {},
          "execution_count": 137
        }
      ]
    },
    {
      "cell_type": "markdown",
      "source": [
        "Альтернативные способы"
      ],
      "metadata": {
        "id": "y71yNqETNUwD"
      }
    },
    {
      "cell_type": "code",
      "source": [
        "# Вариант 1 (метод)\n",
        "f.dot(-10)"
      ],
      "metadata": {
        "colab": {
          "base_uri": "https://localhost:8080/"
        },
        "id": "Imjq-gndNYKU",
        "outputId": "66724339-c6f9-4828-8d1f-5cdafb7916ed"
      },
      "execution_count": 138,
      "outputs": [
        {
          "output_type": "execute_result",
          "data": {
            "text/plain": [
              "array([-50, -40, -80, -40, -30])"
            ]
          },
          "metadata": {},
          "execution_count": 138
        }
      ]
    },
    {
      "cell_type": "code",
      "source": [
        "# Вариант 2 (функция)\n",
        "np.dot(-10, f)"
      ],
      "metadata": {
        "colab": {
          "base_uri": "https://localhost:8080/"
        },
        "id": "8prjs160Z93Q",
        "outputId": "1a42eaa7-782b-4493-ba2d-1cec07b69b3f"
      },
      "execution_count": 139,
      "outputs": [
        {
          "output_type": "execute_result",
          "data": {
            "text/plain": [
              "array([-50, -40, -80, -40, -30])"
            ]
          },
          "metadata": {},
          "execution_count": 139
        }
      ]
    },
    {
      "cell_type": "code",
      "source": [
        "# Вариант 3\n",
        "np.multiply(-10, f)"
      ],
      "metadata": {
        "colab": {
          "base_uri": "https://localhost:8080/"
        },
        "id": "1B7DE7H5pchy",
        "outputId": "56fcc691-cbe8-45d1-bcb4-a9d7a0e95275"
      },
      "execution_count": 140,
      "outputs": [
        {
          "output_type": "execute_result",
          "data": {
            "text/plain": [
              "array([-50, -40, -80, -40, -30])"
            ]
          },
          "metadata": {},
          "execution_count": 140
        }
      ]
    },
    {
      "cell_type": "markdown",
      "source": [
        "##Скалярное произведение векторов"
      ],
      "metadata": {
        "id": "QB28pRy-yKYv"
      }
    },
    {
      "cell_type": "markdown",
      "source": [
        "Векторы должны быть одинаковой размерности"
      ],
      "metadata": {
        "id": "-liK95-RptV7"
      }
    },
    {
      "cell_type": "code",
      "source": [
        "x = np.array([1, 2, 3])\n",
        "y = np.array([4, 5, 6])"
      ],
      "metadata": {
        "id": "lU6UJ8qSpzn6"
      },
      "execution_count": 141,
      "outputs": []
    },
    {
      "cell_type": "code",
      "source": [
        "sp = x[0] * y[0] + x[1] * y[1] + x[2] * y[2]\n",
        "sp"
      ],
      "metadata": {
        "colab": {
          "base_uri": "https://localhost:8080/"
        },
        "id": "XsNblNCXqSAi",
        "outputId": "da3f82df-c107-447a-c074-33da4c239860"
      },
      "execution_count": 142,
      "outputs": [
        {
          "output_type": "execute_result",
          "data": {
            "text/plain": [
              "32"
            ]
          },
          "metadata": {},
          "execution_count": 142
        }
      ]
    },
    {
      "cell_type": "code",
      "source": [
        "x @ y"
      ],
      "metadata": {
        "colab": {
          "base_uri": "https://localhost:8080/"
        },
        "id": "BPm9mwwnqqVi",
        "outputId": "c1730d73-08f2-4dcf-bd43-27ce29ce47b9"
      },
      "execution_count": 143,
      "outputs": [
        {
          "output_type": "execute_result",
          "data": {
            "text/plain": [
              "32"
            ]
          },
          "metadata": {},
          "execution_count": 143
        }
      ]
    },
    {
      "cell_type": "code",
      "source": [
        "sp = np.dot(x, y)\n",
        "sp"
      ],
      "metadata": {
        "colab": {
          "base_uri": "https://localhost:8080/"
        },
        "id": "mZ7rsaT2quvx",
        "outputId": "15eaea43-df1a-4fb2-a368-dc12daf9d9a5"
      },
      "execution_count": 144,
      "outputs": [
        {
          "output_type": "execute_result",
          "data": {
            "text/plain": [
              "32"
            ]
          },
          "metadata": {},
          "execution_count": 144
        }
      ]
    },
    {
      "cell_type": "markdown",
      "source": [
        "##Сложение и вычитание матриц"
      ],
      "metadata": {
        "id": "l-ODPTjuyTpv"
      }
    },
    {
      "cell_type": "code",
      "source": [
        "A = np.array([[0, 1], [2, 3], [4, 5]])\n",
        "A"
      ],
      "metadata": {
        "colab": {
          "base_uri": "https://localhost:8080/"
        },
        "id": "G1bultt4rIah",
        "outputId": "a4b541a9-393e-4723-cb0e-c213c1cb2afd"
      },
      "execution_count": 145,
      "outputs": [
        {
          "output_type": "execute_result",
          "data": {
            "text/plain": [
              "array([[0, 1],\n",
              "       [2, 3],\n",
              "       [4, 5]])"
            ]
          },
          "metadata": {},
          "execution_count": 145
        }
      ]
    },
    {
      "cell_type": "code",
      "source": [
        "B = np.array([[6, 7], [8, 9], [10, 11]])\n",
        "B"
      ],
      "metadata": {
        "colab": {
          "base_uri": "https://localhost:8080/"
        },
        "id": "YX75dehmrdWi",
        "outputId": "a9607572-239a-4f58-84f3-2a805192b2f7"
      },
      "execution_count": 146,
      "outputs": [
        {
          "output_type": "execute_result",
          "data": {
            "text/plain": [
              "array([[ 6,  7],\n",
              "       [ 8,  9],\n",
              "       [10, 11]])"
            ]
          },
          "metadata": {},
          "execution_count": 146
        }
      ]
    },
    {
      "cell_type": "code",
      "source": [
        "C = A + B\n",
        "C"
      ],
      "metadata": {
        "colab": {
          "base_uri": "https://localhost:8080/"
        },
        "id": "j52IhuAsrw66",
        "outputId": "07b56aff-e6a5-492b-89b2-6a5e76acd130"
      },
      "execution_count": 147,
      "outputs": [
        {
          "output_type": "execute_result",
          "data": {
            "text/plain": [
              "array([[ 6,  8],\n",
              "       [10, 12],\n",
              "       [14, 16]])"
            ]
          },
          "metadata": {},
          "execution_count": 147
        }
      ]
    },
    {
      "cell_type": "markdown",
      "source": [
        "Альтернативный способ"
      ],
      "metadata": {
        "id": "T56TlQADsDv7"
      }
    },
    {
      "cell_type": "code",
      "source": [
        "C = np.add(A, B)\n",
        "C"
      ],
      "metadata": {
        "colab": {
          "base_uri": "https://localhost:8080/"
        },
        "id": "hU-wfeYGslki",
        "outputId": "ea42e3c7-b42b-4590-b9b9-dd44e7cb9169"
      },
      "execution_count": 148,
      "outputs": [
        {
          "output_type": "execute_result",
          "data": {
            "text/plain": [
              "array([[ 6,  8],\n",
              "       [10, 12],\n",
              "       [14, 16]])"
            ]
          },
          "metadata": {},
          "execution_count": 148
        }
      ]
    },
    {
      "cell_type": "code",
      "source": [
        "D = A - B\n",
        "D"
      ],
      "metadata": {
        "colab": {
          "base_uri": "https://localhost:8080/"
        },
        "id": "TvBIuyhAtCKq",
        "outputId": "2c2d95c8-8874-4676-849a-b29e80dc3b0c"
      },
      "execution_count": 149,
      "outputs": [
        {
          "output_type": "execute_result",
          "data": {
            "text/plain": [
              "array([[-6, -6],\n",
              "       [-6, -6],\n",
              "       [-6, -6]])"
            ]
          },
          "metadata": {},
          "execution_count": 149
        }
      ]
    },
    {
      "cell_type": "code",
      "source": [
        "D = np.subtract(B, A)\n",
        "D"
      ],
      "metadata": {
        "colab": {
          "base_uri": "https://localhost:8080/"
        },
        "id": "KjGWPOGLtIi6",
        "outputId": "924ebe52-25c5-4213-9f71-e492e108f249"
      },
      "execution_count": 150,
      "outputs": [
        {
          "output_type": "execute_result",
          "data": {
            "text/plain": [
              "array([[6, 6],\n",
              "       [6, 6],\n",
              "       [6, 6]])"
            ]
          },
          "metadata": {},
          "execution_count": 150
        }
      ]
    },
    {
      "cell_type": "markdown",
      "source": [
        "##Умножение матрицы на скаляр"
      ],
      "metadata": {
        "id": "GvKycI2NyabB"
      }
    },
    {
      "cell_type": "code",
      "source": [
        "B"
      ],
      "metadata": {
        "colab": {
          "base_uri": "https://localhost:8080/"
        },
        "id": "O8dkWOhnth5J",
        "outputId": "579c31c3-9483-4cfe-bab7-810752a1acb5"
      },
      "execution_count": 151,
      "outputs": [
        {
          "output_type": "execute_result",
          "data": {
            "text/plain": [
              "array([[ 6,  7],\n",
              "       [ 8,  9],\n",
              "       [10, 11]])"
            ]
          },
          "metadata": {},
          "execution_count": 151
        }
      ]
    },
    {
      "cell_type": "code",
      "source": [
        "X = B * 3\n",
        "X"
      ],
      "metadata": {
        "colab": {
          "base_uri": "https://localhost:8080/"
        },
        "id": "2tcHJpkutlAJ",
        "outputId": "2c9818aa-e04e-4ec7-b2dd-35bb7cdd06ff"
      },
      "execution_count": 152,
      "outputs": [
        {
          "output_type": "execute_result",
          "data": {
            "text/plain": [
              "array([[18, 21],\n",
              "       [24, 27],\n",
              "       [30, 33]])"
            ]
          },
          "metadata": {},
          "execution_count": 152
        }
      ]
    },
    {
      "cell_type": "markdown",
      "source": [
        "Альтернативный способ."
      ],
      "metadata": {
        "id": "MDSH_R9JtsV6"
      }
    },
    {
      "cell_type": "code",
      "source": [
        "X = np.dot(B, 3)\n",
        "X"
      ],
      "metadata": {
        "colab": {
          "base_uri": "https://localhost:8080/"
        },
        "id": "ZmuVb2vPtr6K",
        "outputId": "42b9bfe9-4944-4610-c37a-1379f814c528"
      },
      "execution_count": 153,
      "outputs": [
        {
          "output_type": "execute_result",
          "data": {
            "text/plain": [
              "array([[18, 21],\n",
              "       [24, 27],\n",
              "       [30, 33]])"
            ]
          },
          "metadata": {},
          "execution_count": 153
        }
      ]
    },
    {
      "cell_type": "markdown",
      "source": [
        "#Применение Nympy для линейной алгебры - Часть 2"
      ],
      "metadata": {
        "id": "bmrgzaG5uMzh"
      }
    },
    {
      "cell_type": "markdown",
      "source": [
        "##Умножение и возведение в степень матриц"
      ],
      "metadata": {
        "id": "s5ZQy4aPuPFZ"
      }
    },
    {
      "cell_type": "code",
      "source": [
        "X1 = np.array([[1, 2], [3, 4], [5,6]])\n",
        "X1"
      ],
      "metadata": {
        "colab": {
          "base_uri": "https://localhost:8080/"
        },
        "id": "gFe6m81D2mbC",
        "outputId": "c224f2ea-2ea3-4e25-89eb-799ab0c83ca9"
      },
      "execution_count": 155,
      "outputs": [
        {
          "output_type": "execute_result",
          "data": {
            "text/plain": [
              "array([[1, 2],\n",
              "       [3, 4],\n",
              "       [5, 6]])"
            ]
          },
          "metadata": {},
          "execution_count": 155
        }
      ]
    },
    {
      "cell_type": "code",
      "source": [
        "X2 = np.array([[7, 8, 9, 10], [11, 12, 13, 14]])\n",
        "X2"
      ],
      "metadata": {
        "colab": {
          "base_uri": "https://localhost:8080/"
        },
        "id": "KHNnm9ZW24UU",
        "outputId": "03d2ef0e-8b00-46d7-c0ff-934386fea4a4"
      },
      "execution_count": 157,
      "outputs": [
        {
          "output_type": "execute_result",
          "data": {
            "text/plain": [
              "array([[ 7,  8,  9, 10],\n",
              "       [11, 12, 13, 14]])"
            ]
          },
          "metadata": {},
          "execution_count": 157
        }
      ]
    },
    {
      "cell_type": "markdown",
      "source": [
        "Число столбцов первой матрицы, должно равняться числу строк второй матрицы"
      ],
      "metadata": {
        "id": "gjEG_PCo3bjo"
      }
    },
    {
      "cell_type": "code",
      "source": [
        "print(X1.shape, X2.shape)"
      ],
      "metadata": {
        "colab": {
          "base_uri": "https://localhost:8080/"
        },
        "id": "wf0SFkXK4YvW",
        "outputId": "0ac2ffcc-8f9c-45a7-94f7-8943ed947857"
      },
      "execution_count": 160,
      "outputs": [
        {
          "output_type": "stream",
          "name": "stdout",
          "text": [
            "(3, 2) (2, 4)\n"
          ]
        }
      ]
    },
    {
      "cell_type": "code",
      "source": [
        "X1.shape[1] == X2.shape[0]"
      ],
      "metadata": {
        "colab": {
          "base_uri": "https://localhost:8080/"
        },
        "id": "rFIkV5_J3qOd",
        "outputId": "9fd7f889-794d-430a-99cb-fbdc57120e93"
      },
      "execution_count": 158,
      "outputs": [
        {
          "output_type": "execute_result",
          "data": {
            "text/plain": [
              "True"
            ]
          },
          "metadata": {},
          "execution_count": 158
        }
      ]
    },
    {
      "cell_type": "code",
      "source": [
        "Z = np.dot(X1, X2)\n",
        "print(Z, '\\n', Z.shape)"
      ],
      "metadata": {
        "colab": {
          "base_uri": "https://localhost:8080/"
        },
        "id": "5B9Pfga04BWP",
        "outputId": "35a1245c-b2ed-4c63-efdb-933c7d75dfa7"
      },
      "execution_count": 168,
      "outputs": [
        {
          "output_type": "stream",
          "name": "stdout",
          "text": [
            "[[ 29  32  35  38]\n",
            " [ 65  72  79  86]\n",
            " [101 112 123 134]] \n",
            " (3, 4)\n"
          ]
        }
      ]
    },
    {
      "cell_type": "markdown",
      "source": [
        "Как это считается?"
      ],
      "metadata": {
        "id": "UdcbZ3mq9NOU"
      }
    },
    {
      "cell_type": "code",
      "source": [
        "Z[0, 0]"
      ],
      "metadata": {
        "colab": {
          "base_uri": "https://localhost:8080/"
        },
        "id": "__7_VOW59SIR",
        "outputId": "3ae1f702-84ac-418d-848f-7a8682fa2028"
      },
      "execution_count": 169,
      "outputs": [
        {
          "output_type": "execute_result",
          "data": {
            "text/plain": [
              "29"
            ]
          },
          "metadata": {},
          "execution_count": 169
        }
      ]
    },
    {
      "cell_type": "code",
      "source": [
        "X1[0, 0] * X2[0, 0] + X1[0, 1] * X2[1, 0]"
      ],
      "metadata": {
        "colab": {
          "base_uri": "https://localhost:8080/"
        },
        "id": "N0ZqXQQn9YIq",
        "outputId": "3e0375dc-5dca-441b-8382-ac45b8278d8b"
      },
      "execution_count": 171,
      "outputs": [
        {
          "output_type": "execute_result",
          "data": {
            "text/plain": [
              "29"
            ]
          },
          "metadata": {},
          "execution_count": 171
        }
      ]
    },
    {
      "cell_type": "code",
      "source": [
        "Z[0, 1] #Нулевой строки и 1 столбца"
      ],
      "metadata": {
        "colab": {
          "base_uri": "https://localhost:8080/"
        },
        "id": "DPMDRJfX-R15",
        "outputId": "a5c91a5e-cefa-46e3-fe06-299066230cc6"
      },
      "execution_count": 172,
      "outputs": [
        {
          "output_type": "execute_result",
          "data": {
            "text/plain": [
              "32"
            ]
          },
          "metadata": {},
          "execution_count": 172
        }
      ]
    },
    {
      "cell_type": "code",
      "source": [
        "X1[0, 0] * X2[0, 1] + X1[0, 1] * X2[1, 1]"
      ],
      "metadata": {
        "colab": {
          "base_uri": "https://localhost:8080/"
        },
        "id": "MNde1S6y-gzC",
        "outputId": "4509727d-af12-4701-bb31-e62da3a2413a"
      },
      "execution_count": 173,
      "outputs": [
        {
          "output_type": "execute_result",
          "data": {
            "text/plain": [
              "32"
            ]
          },
          "metadata": {},
          "execution_count": 173
        }
      ]
    },
    {
      "cell_type": "markdown",
      "source": [
        "Возведение в степень"
      ],
      "metadata": {
        "id": "7Ppesro8--bd"
      }
    },
    {
      "cell_type": "code",
      "source": [
        "A = np.array([[1, 2, 3], [4, 5, 6], [7, 8, 9]]) #Матрица должна быть квадратной\n",
        "A"
      ],
      "metadata": {
        "colab": {
          "base_uri": "https://localhost:8080/"
        },
        "id": "czDWnoDG_CGD",
        "outputId": "98623133-2408-4933-8480-0313043de017"
      },
      "execution_count": 174,
      "outputs": [
        {
          "output_type": "execute_result",
          "data": {
            "text/plain": [
              "array([[1, 2, 3],\n",
              "       [4, 5, 6],\n",
              "       [7, 8, 9]])"
            ]
          },
          "metadata": {},
          "execution_count": 174
        }
      ]
    },
    {
      "cell_type": "code",
      "source": [
        "A_sq = np.dot(A, A)\n",
        "A_sq"
      ],
      "metadata": {
        "colab": {
          "base_uri": "https://localhost:8080/"
        },
        "id": "cDi5zm8lJMro",
        "outputId": "8e0d6f81-efa6-4885-f16b-cfe74c76fbb5"
      },
      "execution_count": 175,
      "outputs": [
        {
          "output_type": "execute_result",
          "data": {
            "text/plain": [
              "array([[ 30,  36,  42],\n",
              "       [ 66,  81,  96],\n",
              "       [102, 126, 150]])"
            ]
          },
          "metadata": {},
          "execution_count": 175
        }
      ]
    },
    {
      "cell_type": "code",
      "source": [
        "A_sq = np.linalg.matrix_power(A, 3) # Показатель степени: неотрицательное целое число\n",
        "A_sq"
      ],
      "metadata": {
        "colab": {
          "base_uri": "https://localhost:8080/"
        },
        "id": "wDxYkcVKJagZ",
        "outputId": "54db0669-a854-4c70-e07c-a936f5210d33"
      },
      "execution_count": 178,
      "outputs": [
        {
          "output_type": "execute_result",
          "data": {
            "text/plain": [
              "array([[ 468,  576,  684],\n",
              "       [1062, 1305, 1548],\n",
              "       [1656, 2034, 2412]])"
            ]
          },
          "metadata": {},
          "execution_count": 178
        }
      ]
    },
    {
      "cell_type": "markdown",
      "source": [
        "##Единичная матрица\n",
        "Единичная матрица - это квадратная матруца у которой по главной диагонали (левый верхний угол до правого нижнего) единицы, в остальных позициях нули."
      ],
      "metadata": {
        "id": "i42xnv6AuQkJ"
      }
    },
    {
      "cell_type": "code",
      "source": [
        "I = np.eye(3, dtype=int)\n",
        "I"
      ],
      "metadata": {
        "colab": {
          "base_uri": "https://localhost:8080/"
        },
        "id": "iAZNdlZ_KKmy",
        "outputId": "34f16289-41bc-4912-c384-2f74d42b2dd5"
      },
      "execution_count": 179,
      "outputs": [
        {
          "output_type": "execute_result",
          "data": {
            "text/plain": [
              "array([[1, 0, 0],\n",
              "       [0, 1, 0],\n",
              "       [0, 0, 1]])"
            ]
          },
          "metadata": {},
          "execution_count": 179
        }
      ]
    },
    {
      "cell_type": "code",
      "source": [
        "C = np.dot(A_sq, I)\n",
        "C"
      ],
      "metadata": {
        "colab": {
          "base_uri": "https://localhost:8080/"
        },
        "id": "SumWxrCzLS4Z",
        "outputId": "68e57d58-c975-45f8-d43f-1ea763f17c5f"
      },
      "execution_count": 180,
      "outputs": [
        {
          "output_type": "execute_result",
          "data": {
            "text/plain": [
              "array([[ 468,  576,  684],\n",
              "       [1062, 1305, 1548],\n",
              "       [1656, 2034, 2412]])"
            ]
          },
          "metadata": {},
          "execution_count": 180
        }
      ]
    },
    {
      "cell_type": "markdown",
      "source": [
        "31:57"
      ],
      "metadata": {
        "id": "amN_IBbONP_D"
      }
    },
    {
      "cell_type": "markdown",
      "source": [
        "##Транспонирование матриц"
      ],
      "metadata": {
        "id": "-FDlKYrXuRwJ"
      }
    },
    {
      "cell_type": "markdown",
      "source": [
        "##Определитель и ранг матрицы"
      ],
      "metadata": {
        "id": "tVSvmzscuSuJ"
      }
    },
    {
      "cell_type": "markdown",
      "source": [
        "##Обратная матрица"
      ],
      "metadata": {
        "id": "qJtHBfHKuTfR"
      }
    },
    {
      "cell_type": "markdown",
      "source": [
        "##"
      ],
      "metadata": {
        "id": "t8cGVk5_uUga"
      }
    },
    {
      "cell_type": "markdown",
      "source": [
        "##"
      ],
      "metadata": {
        "id": "w9rI6fRxuVy5"
      }
    }
  ],
  "metadata": {
    "colab": {
      "provenance": [],
      "toc_visible": true,
      "include_colab_link": true
    },
    "kernelspec": {
      "display_name": "Python 3",
      "name": "python3"
    }
  },
  "nbformat": 4,
  "nbformat_minor": 0
}