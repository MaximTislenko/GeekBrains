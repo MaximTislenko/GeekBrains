{
  "cells": [
    {
      "cell_type": "markdown",
      "metadata": {
        "id": "view-in-github",
        "colab_type": "text"
      },
      "source": [
        "<a href=\"https://colab.research.google.com/github/MaximTislenko/GeekBrains/blob/main/Colaboratory_08_06_2023.ipynb\" target=\"_parent\"><img src=\"https://colab.research.google.com/assets/colab-badge.svg\" alt=\"Open In Colab\"/></a>"
      ]
    },
    {
      "cell_type": "markdown",
      "source": [
        "#Лекция №2"
      ],
      "metadata": {
        "id": "WZnd2o7aEimI"
      }
    },
    {
      "cell_type": "code",
      "source": [
        "%lsmagic"
      ],
      "metadata": {
        "id": "bSQaHOJ9Emxw",
        "outputId": "59132924-2920-40f6-99fa-ed45b4f6cba9",
        "colab": {
          "base_uri": "https://localhost:8080/",
          "height": 225
        }
      },
      "execution_count": 1,
      "outputs": [
        {
          "output_type": "execute_result",
          "data": {
            "text/plain": [
              "Available line magics:\n",
              "%alias  %alias_magic  %autoawait  %autocall  %automagic  %autosave  %bookmark  %cat  %cd  %clear  %colors  %conda  %config  %connect_info  %cp  %debug  %dhist  %dirs  %doctest_mode  %ed  %edit  %env  %gui  %hist  %history  %killbgscripts  %ldir  %less  %lf  %lk  %ll  %load  %load_ext  %loadpy  %logoff  %logon  %logstart  %logstate  %logstop  %ls  %lsmagic  %lx  %macro  %magic  %man  %matplotlib  %mkdir  %more  %mv  %notebook  %page  %pastebin  %pdb  %pdef  %pdoc  %pfile  %pinfo  %pinfo2  %pip  %popd  %pprint  %precision  %prun  %psearch  %psource  %pushd  %pwd  %pycat  %pylab  %qtconsole  %quickref  %recall  %rehashx  %reload_ext  %rep  %rerun  %reset  %reset_selective  %rm  %rmdir  %run  %save  %sc  %set_env  %shell  %store  %sx  %system  %tb  %tensorflow_version  %time  %timeit  %unalias  %unload_ext  %who  %who_ls  %whos  %xdel  %xmode\n",
              "\n",
              "Available cell magics:\n",
              "%%!  %%HTML  %%SVG  %%bash  %%bigquery  %%capture  %%debug  %%file  %%html  %%javascript  %%js  %%latex  %%markdown  %%perl  %%prun  %%pypy  %%python  %%python2  %%python3  %%ruby  %%script  %%sh  %%shell  %%svg  %%sx  %%system  %%time  %%timeit  %%writefile\n",
              "\n",
              "Automagic is ON, % prefix IS NOT needed for line magics."
            ],
            "application/json": {
              "line": {
                "automagic": "AutoMagics",
                "autocall": "AutoMagics",
                "alias_magic": "BasicMagics",
                "lsmagic": "BasicMagics",
                "magic": "BasicMagics",
                "page": "BasicMagics",
                "pprint": "BasicMagics",
                "colors": "BasicMagics",
                "xmode": "BasicMagics",
                "quickref": "BasicMagics",
                "doctest_mode": "BasicMagics",
                "gui": "BasicMagics",
                "precision": "BasicMagics",
                "notebook": "BasicMagics",
                "save": "CodeMagics",
                "pastebin": "CodeMagics",
                "loadpy": "CodeMagics",
                "load": "CodeMagics",
                "edit": "KernelMagics",
                "config": "ConfigMagics",
                "prun": "ExecutionMagics",
                "pdb": "ExecutionMagics",
                "debug": "ExecutionMagics",
                "tb": "ExecutionMagics",
                "run": "ExecutionMagics",
                "timeit": "ExecutionMagics",
                "time": "ExecutionMagics",
                "macro": "ExecutionMagics",
                "load_ext": "ExtensionMagics",
                "unload_ext": "ExtensionMagics",
                "reload_ext": "ExtensionMagics",
                "history": "HistoryMagics",
                "recall": "HistoryMagics",
                "rerun": "HistoryMagics",
                "logstart": "LoggingMagics",
                "logstop": "LoggingMagics",
                "logoff": "LoggingMagics",
                "logon": "LoggingMagics",
                "logstate": "LoggingMagics",
                "pinfo": "NamespaceMagics",
                "pinfo2": "NamespaceMagics",
                "pdef": "NamespaceMagics",
                "pdoc": "NamespaceMagics",
                "psource": "NamespaceMagics",
                "pfile": "NamespaceMagics",
                "psearch": "NamespaceMagics",
                "who_ls": "NamespaceMagics",
                "who": "NamespaceMagics",
                "whos": "NamespaceMagics",
                "reset": "NamespaceMagics",
                "reset_selective": "NamespaceMagics",
                "xdel": "NamespaceMagics",
                "alias": "OSMagics",
                "unalias": "OSMagics",
                "rehashx": "OSMagics",
                "pwd": "OSMagics",
                "cd": "OSMagics",
                "env": "OSMagics",
                "set_env": "OSMagics",
                "pushd": "OSMagics",
                "popd": "OSMagics",
                "dirs": "OSMagics",
                "dhist": "OSMagics",
                "sc": "OSMagics",
                "sx": "OSMagics",
                "system": "OSMagics",
                "bookmark": "OSMagics",
                "pycat": "OSMagics",
                "pip": "Other",
                "conda": "PackagingMagics",
                "matplotlib": "PylabMagics",
                "pylab": "PylabMagics",
                "killbgscripts": "ScriptMagics",
                "autoawait": "AsyncMagics",
                "ed": "Other",
                "hist": "Other",
                "rep": "Other",
                "clear": "KernelMagics",
                "less": "KernelMagics",
                "more": "KernelMagics",
                "man": "KernelMagics",
                "connect_info": "KernelMagics",
                "qtconsole": "KernelMagics",
                "autosave": "KernelMagics",
                "mkdir": "Other",
                "rmdir": "Other",
                "mv": "Other",
                "rm": "Other",
                "cp": "Other",
                "cat": "Other",
                "ls": "Other",
                "ll": "Other",
                "lf": "Other",
                "lk": "Other",
                "ldir": "Other",
                "lx": "Other",
                "store": "StoreMagics",
                "shell": "Other",
                "tensorflow_version": "Other"
              },
              "cell": {
                "js": "DisplayMagics",
                "javascript": "DisplayMagics",
                "latex": "DisplayMagics",
                "svg": "DisplayMagics",
                "html": "DisplayMagics",
                "markdown": "DisplayMagics",
                "prun": "ExecutionMagics",
                "debug": "ExecutionMagics",
                "timeit": "ExecutionMagics",
                "time": "ExecutionMagics",
                "capture": "ExecutionMagics",
                "sx": "OSMagics",
                "system": "OSMagics",
                "!": "OSMagics",
                "writefile": "OSMagics",
                "script": "ScriptMagics",
                "sh": "Other",
                "bash": "Other",
                "perl": "Other",
                "ruby": "Other",
                "python": "Other",
                "python2": "Other",
                "python3": "Other",
                "pypy": "Other",
                "SVG": "Other",
                "HTML": "Other",
                "file": "Other",
                "bigquery": "Other",
                "shell": "Other"
              }
            }
          },
          "metadata": {},
          "execution_count": 1
        }
      ]
    },
    {
      "cell_type": "markdown",
      "source": [
        "##Важно\n",
        "***Для пользователей Jupyter: Magics специфичны для ядра IPython и предоставляются им. Решение о том, доступны ли Magics в ядре, принимается разработчиком ядра отдельно для каждого ядра. Для правильной работы Magics должен использовать элемент синтаксиса, недопустимый в базовом языке. Например, ядро IPython использует синтаксический элемент % для Magics, поскольку % не является допустимым унарным оператором в Python. Однако % может иметь значение на других языках.***"
      ],
      "metadata": {
        "id": "7Z0c5jyeY3-D"
      }
    },
    {
      "cell_type": "markdown",
      "source": [
        "##Магия линий\n",
        "####%alias - Определите псевдоним для системной команды. *%alias alias_name cmd* определяет *alias_name* как псевдоним для *cmd* . Затем при вводе «alias_name params» будет выполнена системная команда «cmd params» (из базовой операционной системы). Псевдонимы имеют более низкий приоритет, чем магические функции и обычные переменные Python, поэтому, если «foo» является одновременно переменной Python и псевдонимом, псевдоним не может быть выполнен до тех пор, пока «del foo» не удалит переменную Python. Вы можете использовать спецификатор %l в определении псевдонима для представления всей строки при вызове псевдонима. Например:\n",
        "* In [2]: alias bracket echo \"Input in brackets: <%l>\"\n",
        "* In [3]: bracket hello world\n",
        "* Input in brackets: <hello world>\n",
        "\n",
        "####Вы также можете определить псевдонимы с параметрами, используя спецификаторы %s (по одному на параметр):\n",
        "\n",
        "* In [1]: alias parts echo first %s second %s\n",
        "* In [2]: %parts A B\n",
        "* first A second B\n",
        "* In [3]: %parts A\n",
        "* Incorrect number of arguments: 2 expected.\n",
        "* parts is an alias to: 'echo first %s second %s'\n",
        "\n"
      ],
      "metadata": {
        "id": "sM3qyXXpYkri"
      }
    },
    {
      "cell_type": "markdown",
      "source": [
        "###Available line magics:\n",
        "%alias  %alias_magic  %autoawait  %autocall  %automagic  %autosave  %bookmark  %cat  %cd  %clear  %colors  %conda  %config  %connect_info  %cp  %debug  %dhist  %dirs  %doctest_mode  %ed  %edit  %env  %gui  %hist  %history  %killbgscripts  %ldir  %less  %lf  %lk  %ll  %load  %load_ext  %loadpy  %logoff  %logon  %logstart  %logstate  %logstop  %ls  %lsmagic  %lx  %macro  %magic  %man  %matplotlib  %mkdir  %more  %mv  %notebook  %page  %pastebin  %pdb  %pdef  %pdoc  %pfile  %pinfo  %pinfo2  %pip  %popd  %pprint  %precision  %prun  %psearch  %psource  %pushd  %pwd  %pycat  %pylab  %qtconsole  %quickref  %recall  %rehashx  %reload_ext  %rep  %rerun  %reset  %reset_selective  %rm  %rmdir  %run  %save  %sc  %set_env  %shell  %store  %sx  %system  %tb  %tensorflow_version  %time  %timeit  %unalias  %unload_ext  %who  %who_ls  %whos  %xdel  %xmode\n",
        "\n",
        "###Available cell magics:\n",
        "%%!  %%HTML  %%SVG  %%bash  %%bigquery  %%capture  %%debug  %%file  %%html  %%javascript  %%js  %%latex  %%markdown  %%perl  %%prun  %%pypy  %%python  %%python2  %%python3  %%ruby  %%script  %%sh  %%shell  %%svg  %%sx  %%system  %%time  %%timeit  %%writefile\n",
        "\n",
        "Автомагия включена, префикс % НЕ нужен для магии линий."
      ],
      "metadata": {
        "id": "qdlGq64cSgOZ"
      }
    },
    {
      "cell_type": "markdown",
      "source": [
        "##Примеры\n",
        "* *%run имя_скрипта.py* - выполнение скрипта Python, результат будет внутри колаба\n",
        "* *%load имя_скрипта.py* - сама команда законектится, а код окажется в ячейке\n",
        "* *%pycat имя_скрипта.py* - код окажется в нижней части страницы\n",
        "* *%%time* - за какое время выполнились команды содержащиеся в ячейке\n",
        "* *%%timeit* - время для быстрых команд"
      ],
      "metadata": {
        "id": "YNzxpXM1cuB1"
      }
    },
    {
      "cell_type": "code",
      "source": [
        "%%time\n",
        "for i in range(100):\n",
        "  for y in range(100):\n",
        "    for r in range(100):\n",
        "      pass"
      ],
      "metadata": {
        "id": "4dQ-MmFGig4W",
        "outputId": "699a7a7d-4bf4-4932-cb04-44d1816d9a8d",
        "colab": {
          "base_uri": "https://localhost:8080/",
          "height": 0
        }
      },
      "execution_count": 13,
      "outputs": [
        {
          "output_type": "stream",
          "name": "stdout",
          "text": [
            "CPU times: user 31 ms, sys: 941 µs, total: 32 ms\n",
            "Wall time: 33.5 ms\n"
          ]
        }
      ]
    },
    {
      "cell_type": "code",
      "source": [
        "%%timeit\n",
        "2**1000"
      ],
      "metadata": {
        "id": "CoyFiio0nBCI",
        "outputId": "a8f80a04-4459-47ed-d758-16e76124ed45",
        "colab": {
          "base_uri": "https://localhost:8080/",
          "height": 0
        }
      },
      "execution_count": 15,
      "outputs": [
        {
          "output_type": "stream",
          "name": "stdout",
          "text": [
            "1.03 µs ± 324 ns per loop (mean ± std. dev. of 7 runs, 1000000 loops each)\n"
          ]
        }
      ]
    },
    {
      "cell_type": "markdown",
      "source": [
        "##Запуск команд операционной системы"
      ],
      "metadata": {
        "id": "HRmThXs_yBGe"
      }
    },
    {
      "cell_type": "code",
      "source": [
        "!help dir -p"
      ],
      "metadata": {
        "id": "Oh-qBxVAxgV9",
        "outputId": "17924fe9-a133-4641-f8b8-01a8c3f61176",
        "colab": {
          "base_uri": "https://localhost:8080/"
        }
      },
      "execution_count": 22,
      "outputs": [
        {
          "output_type": "stream",
          "name": "stdout",
          "text": [
            "dirs: dirs [-clpv] [+N] [-N]\n",
            "    Display directory stack.\n",
            "    \n",
            "    Display the list of currently remembered directories.  Directories\n",
            "    find their way onto the list with the `pushd' command; you can get\n",
            "    back up through the list with the `popd' command.\n",
            "    \n",
            "    Options:\n",
            "      -c\tclear the directory stack by deleting all of the elements\n",
            "      -l\tdo not print tilde-prefixed versions of directories relative\n",
            "    \t\tto your home directory\n",
            "      -p\tprint the directory stack with one entry per line\n",
            "      -v\tprint the directory stack with one entry per line prefixed\n",
            "    \t\twith its position in the stack\n",
            "    \n",
            "    Arguments:\n",
            "      +N\tDisplays the Nth entry counting from the left of the list\n",
            "    \t\tshown by dirs when invoked without options, starting with\n",
            "    \t\tzero.\n",
            "    \n",
            "      -N\tDisplays the Nth entry counting from the right of the list\n",
            "    \t\tshown by dirs when invoked without options, starting with\n",
            "    \t\tzero.\n",
            "    \n",
            "    Exit Status:\n",
            "    Returns success unless an invalid option is supplied or an error occurs.\n"
          ]
        }
      ]
    },
    {
      "cell_type": "code",
      "source": [
        "!dir sample_data/ -p"
      ],
      "metadata": {
        "id": "KnOlrb4F0RP1",
        "outputId": "07ea3772-41ed-41a2-dfd4-5203ef05f727",
        "colab": {
          "base_uri": "https://localhost:8080/"
        }
      },
      "execution_count": 24,
      "outputs": [
        {
          "output_type": "stream",
          "name": "stdout",
          "text": [
            "anscombe.json\t\t      mnist_test.csv\n",
            "california_housing_test.csv   mnist_train_small.csv\n",
            "california_housing_train.csv  README.md\n"
          ]
        }
      ]
    },
    {
      "cell_type": "markdown",
      "source": [
        "#Numpy"
      ],
      "metadata": {
        "id": "3TRnW-pg1CT3"
      }
    },
    {
      "cell_type": "code",
      "source": [
        "import numpy as np"
      ],
      "metadata": {
        "id": "kUKRBV0FBpoC"
      },
      "execution_count": 25,
      "outputs": []
    },
    {
      "cell_type": "markdown",
      "source": [
        "##Создание многомерных массивов Numpy"
      ],
      "metadata": {
        "id": "UImWmAvi1G3t"
      }
    },
    {
      "cell_type": "code",
      "source": [
        "a = [i for i in range(10, 40, 2)] # Это список\n",
        "print(a)"
      ],
      "metadata": {
        "id": "53ZEnxhi1kQv",
        "outputId": "67fc7e99-52ce-47ea-80a5-7362b5a8fd0e",
        "colab": {
          "base_uri": "https://localhost:8080/"
        }
      },
      "execution_count": 29,
      "outputs": [
        {
          "output_type": "stream",
          "name": "stdout",
          "text": [
            "[10, 12, 14, 16, 18, 20, 22, 24, 26, 28, 30, 32, 34, 36, 38]\n"
          ]
        }
      ]
    },
    {
      "cell_type": "code",
      "source": [
        "b = np.array(a)\n",
        "b"
      ],
      "metadata": {
        "id": "EA4jZNkjCtdq",
        "outputId": "09b8bea6-51d4-45c5-bd81-339e25313dbb",
        "colab": {
          "base_uri": "https://localhost:8080/"
        }
      },
      "execution_count": 31,
      "outputs": [
        {
          "output_type": "execute_result",
          "data": {
            "text/plain": [
              "array([10, 12, 14, 16, 18, 20, 22, 24, 26, 28, 30, 32, 34, 36, 38])"
            ]
          },
          "metadata": {},
          "execution_count": 31
        }
      ]
    },
    {
      "cell_type": "code",
      "source": [
        "type(b)"
      ],
      "metadata": {
        "id": "QXlPmJekDGqp",
        "outputId": "581f0714-621d-4bcc-a67f-c5f4c019195f",
        "colab": {
          "base_uri": "https://localhost:8080/"
        }
      },
      "execution_count": 32,
      "outputs": [
        {
          "output_type": "execute_result",
          "data": {
            "text/plain": [
              "numpy.ndarray"
            ]
          },
          "metadata": {},
          "execution_count": 32
        }
      ]
    },
    {
      "cell_type": "code",
      "source": [
        "b = np.array(a, dtype=float )\n",
        "b"
      ],
      "metadata": {
        "id": "OcHlWnZFDWRq",
        "outputId": "07e0543c-1b58-4c45-a02d-836edf9cd7a6",
        "colab": {
          "base_uri": "https://localhost:8080/"
        }
      },
      "execution_count": 33,
      "outputs": [
        {
          "output_type": "execute_result",
          "data": {
            "text/plain": [
              "array([10., 12., 14., 16., 18., 20., 22., 24., 26., 28., 30., 32., 34.,\n",
              "       36., 38.])"
            ]
          },
          "metadata": {},
          "execution_count": 33
        }
      ]
    },
    {
      "cell_type": "code",
      "source": [
        "b = np.array(a, dtype=int)\n",
        "b"
      ],
      "metadata": {
        "id": "2lK3hpTzDn5a",
        "outputId": "493ee04e-f3b6-4cec-9480-9328d857e379",
        "colab": {
          "base_uri": "https://localhost:8080/"
        }
      },
      "execution_count": 34,
      "outputs": [
        {
          "output_type": "execute_result",
          "data": {
            "text/plain": [
              "array([10, 12, 14, 16, 18, 20, 22, 24, 26, 28, 30, 32, 34, 36, 38])"
            ]
          },
          "metadata": {},
          "execution_count": 34
        }
      ]
    },
    {
      "cell_type": "code",
      "source": [
        "b = np.array(a, dtype=str)\n",
        "b"
      ],
      "metadata": {
        "id": "7LBqf34nD-ZC",
        "outputId": "2cda394b-55fc-4235-822a-82f3c14b4332",
        "colab": {
          "base_uri": "https://localhost:8080/"
        }
      },
      "execution_count": 35,
      "outputs": [
        {
          "output_type": "execute_result",
          "data": {
            "text/plain": [
              "array(['10', '12', '14', '16', '18', '20', '22', '24', '26', '28', '30',\n",
              "       '32', '34', '36', '38'], dtype='<U2')"
            ]
          },
          "metadata": {},
          "execution_count": 35
        }
      ]
    },
    {
      "cell_type": "markdown",
      "source": [
        "##Доступ к элементам массива"
      ],
      "metadata": {
        "id": "2LaaPvgr_Z2K"
      }
    },
    {
      "cell_type": "markdown",
      "source": [
        "##Изменение и копирование массивов"
      ],
      "metadata": {
        "id": "s4jY8OAP_nco"
      }
    },
    {
      "cell_type": "markdown",
      "source": [
        "##Типы данных Numpy"
      ],
      "metadata": {
        "id": "ct72CHga_xX5"
      }
    },
    {
      "cell_type": "code",
      "source": [],
      "metadata": {
        "id": "P0XyaXnfA1kK"
      },
      "execution_count": null,
      "outputs": []
    }
  ],
  "metadata": {
    "colab": {
      "name": "Добро пожаловать в Colaboratory!",
      "provenance": [],
      "include_colab_link": true
    },
    "kernelspec": {
      "display_name": "Python 3",
      "name": "python3"
    }
  },
  "nbformat": 4,
  "nbformat_minor": 0
}